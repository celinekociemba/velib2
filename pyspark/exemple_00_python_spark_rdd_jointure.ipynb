{
 "cells": [
  {
   "cell_type": "markdown",
   "metadata": {},
   "source": [
    "# 0) vérifier [sc] et [spark]"
   ]
  },
  {
   "cell_type": "code",
   "execution_count": 1,
   "metadata": {
    "collapsed": false
   },
   "outputs": [
    {
     "data": {
      "text/plain": [
       "<pyspark.context.SparkContext at 0x100706590>"
      ]
     },
     "execution_count": 1,
     "metadata": {},
     "output_type": "execute_result"
    }
   ],
   "source": [
    "sc"
   ]
  },
  {
   "cell_type": "code",
   "execution_count": 2,
   "metadata": {
    "collapsed": false
   },
   "outputs": [],
   "source": [
    "# le spark context détermine les ressources \n",
    "# disponibles pour l'application\n",
    "assert sc==sc"
   ]
  },
  {
   "cell_type": "code",
   "execution_count": 3,
   "metadata": {
    "collapsed": false
   },
   "outputs": [],
   "source": [
    "# la variable spark permet de gérer les\n",
    "# dataframes (dépend de pyspark.sql)\n",
    "assert spark==spark"
   ]
  },
  {
   "cell_type": "code",
   "execution_count": 4,
   "metadata": {
    "collapsed": false
   },
   "outputs": [
    {
     "data": {
      "text/plain": [
       "<pyspark.sql.session.SparkSession at 0x107082410>"
      ]
     },
     "execution_count": 4,
     "metadata": {},
     "output_type": "execute_result"
    }
   ],
   "source": [
    "spark"
   ]
  },
  {
   "cell_type": "code",
   "execution_count": 210,
   "metadata": {
    "collapsed": false
   },
   "outputs": [],
   "source": [
    "data_dir = \"/Users/romain/Informatique/notebooks/spark_scala/velib/logs/\""
   ]
  },
  {
   "cell_type": "markdown",
   "metadata": {},
   "source": [
    "# 1) loader un fichier en mémoire"
   ]
  },
  {
   "cell_type": "code",
   "execution_count": 213,
   "metadata": {
    "collapsed": false
   },
   "outputs": [],
   "source": [
    "path  = \"hdfs://spark52:8020/cycliste_debug_2.csv\"\n",
    "infos_cyclistes = os.path.join(data_dir,\"cycliste_cyclistes.csv\")\n",
    "infos_trajets = os.path.join(data_dir,\"cycliste_debug.csv\")"
   ]
  },
  {
   "cell_type": "code",
   "execution_count": 214,
   "metadata": {
    "collapsed": false
   },
   "outputs": [],
   "source": [
    "cyclistes = sc.textFile(infos_cyclistes)\n",
    "trajets   = sc.textFile(infos_trajets)"
   ]
  },
  {
   "cell_type": "code",
   "execution_count": 215,
   "metadata": {
    "collapsed": false
   },
   "outputs": [],
   "source": [
    "def head_and_count(rdd, name=\"\", head=2):\n",
    "    print \"=\"*10,name\n",
    "    print (\"count = %s\"%rdd.count())\n",
    "    print \"head for %s ligne : \"%(head)\n",
    "    print \"-\"*3\n",
    "    for indice, ligne in enumerate(rdd.take(head)):\n",
    "        print \"%03i - %s\"%(indice, ligne)\n",
    "    print \"-\"*3\n",
    "    print \"=\"*10\n"
   ]
  },
  {
   "cell_type": "code",
   "execution_count": 216,
   "metadata": {
    "collapsed": false
   },
   "outputs": [
    {
     "name": "stdout",
     "output_type": "stream",
     "text": [
      "========== trajets\n",
      "count = 582974\n",
      "head for 2 ligne : \n",
      "---\n",
      "000 - cycliste,n_message,time,message\n",
      "001 - cycliste_azey2,0442, 1486038900.39,velo rendu sur la station azgb6 ( a la maison = False) (elem de station_travail)\n",
      "---\n",
      "==========\n"
     ]
    }
   ],
   "source": [
    "head_and_count(trajets,\"trajets\")"
   ]
  },
  {
   "cell_type": "code",
   "execution_count": 56,
   "metadata": {
    "collapsed": false
   },
   "outputs": [
    {
     "name": "stdout",
     "output_type": "stream",
     "text": [
      "========== cyclistes\n",
      "count = 3301\n",
      "head for 2 ligne : \n",
      "---\n",
      "000 - cycliste,sportif,age,sexe,nb_km,vitesse,attente\n",
      "001 - cycliste_azthv,0,34,femme,9.86503821812,15.4581576429,0.5\n",
      "---\n",
      "==========\n"
     ]
    }
   ],
   "source": [
    "head_and_count(cyclistes,\"cyclistes\")"
   ]
  },
  {
   "cell_type": "markdown",
   "metadata": {},
   "source": [
    "# 2) Création d'une pairedRDD sur les cyclistes"
   ]
  },
  {
   "cell_type": "markdown",
   "metadata": {},
   "source": [
    "## 2.1) on split sur les virgules"
   ]
  },
  {
   "cell_type": "code",
   "execution_count": 169,
   "metadata": {
    "collapsed": false
   },
   "outputs": [
    {
     "name": "stdout",
     "output_type": "stream",
     "text": [
      "========== splitted_cyclistes\n",
      "count = 3301\n",
      "head for 2 ligne : \n",
      "---\n",
      "000 - [u'cycliste', u'sportif', u'age', u'sexe', u'nb_km', u'vitesse', u'attente']\n",
      "001 - [u'cycliste_azthv', u'0', u'34', u'femme', u'9.86503821812', u'15.4581576429', u'0.5']\n",
      "---\n",
      "==========\n"
     ]
    }
   ],
   "source": [
    "splitted_cyclistes =  cyclistes.map(lambda x: x.split(\",\"))\n",
    "head_and_count(splitted_cyclistes, \"splitted_cyclistes\")"
   ]
  },
  {
   "cell_type": "markdown",
   "metadata": {},
   "source": [
    "## 2.2) on récupère le header et l'enlève"
   ]
  },
  {
   "cell_type": "code",
   "execution_count": 170,
   "metadata": {
    "collapsed": false
   },
   "outputs": [],
   "source": [
    "head = splitted_cyclistes.take(1)[0]\n",
    "splitted_cyclistes = splitted_cyclistes.filter(lambda x: x!=head)"
   ]
  },
  {
   "cell_type": "markdown",
   "metadata": {},
   "source": [
    "## 2.3) on crée un tableau d'info par cycliste"
   ]
  },
  {
   "cell_type": "code",
   "execution_count": 185,
   "metadata": {
    "collapsed": false
   },
   "outputs": [
    {
     "name": "stdout",
     "output_type": "stream",
     "text": [
      "========== \n",
      "count = 3301\n",
      "head for 2 ligne : \n",
      "---\n",
      "000 - (u'cycliste', [u'sportif', u'age', u'sexe', u'nb_km', u'vitesse', u'attente'])\n",
      "001 - (u'cycliste_azthv', [u'0', u'34', u'femme', u'9.86503821812', u'15.4581576429', u'0.5'])\n",
      "---\n",
      "==========\n"
     ]
    }
   ],
   "source": [
    "infos_par_cyclistes = splitted_cyclistes.map(lambda x: (x[0], zip(head[1:], x[1:])))\n",
    "infos_par_cyclistes = splitted_cyclistes.map(lambda x: (x[0], x[1:]))\n",
    "head_and_count(infos_par_cyclistes)"
   ]
  },
  {
   "cell_type": "markdown",
   "metadata": {},
   "source": [
    "# 3) On peut créer des fonctions"
   ]
  },
  {
   "cell_type": "code",
   "execution_count": 186,
   "metadata": {
    "collapsed": true
   },
   "outputs": [],
   "source": [
    "def get_first_line(rdd):\n",
    "    return rdd.take(1)[0]\n",
    "\n",
    "def remove_first_line(rdd):\n",
    "    head         = get_first_line(rdd)\n",
    "    headless_rdd = rdd.filter(lambda x: x!= head)\n",
    "    return headless_rdd    "
   ]
  },
  {
   "cell_type": "code",
   "execution_count": 187,
   "metadata": {
    "collapsed": true
   },
   "outputs": [],
   "source": [
    "def split(rdd, sep=\",\"):\n",
    "    return rdd.map(lambda ligne : ligne.split(sep))"
   ]
  },
  {
   "cell_type": "code",
   "execution_count": 188,
   "metadata": {
    "collapsed": false
   },
   "outputs": [],
   "source": [
    "def create_paired_rdd_on_first_column(array_rdd):\n",
    "    return array_rdd.map(lambda x: (x[0], x[1:]))"
   ]
  },
  {
   "cell_type": "code",
   "execution_count": 194,
   "metadata": {
    "collapsed": false
   },
   "outputs": [],
   "source": [
    "head             = get_first_line(trajets).split(\",\")\n",
    "headless_trajets = remove_first_line(trajets)\n",
    "array_trajets    = split(headless_trajets)\n",
    "pairedTrajets        = create_paired_rdd_on_first_column(array_trajets)"
   ]
  },
  {
   "cell_type": "markdown",
   "metadata": {},
   "source": [
    "# 4) Joindre 2 paired RDD"
   ]
  },
  {
   "cell_type": "code",
   "execution_count": 217,
   "metadata": {
    "collapsed": true
   },
   "outputs": [],
   "source": [
    "jointure = pairedTrajets.join(infos_par_cyclistes)"
   ]
  },
  {
   "cell_type": "code",
   "execution_count": 218,
   "metadata": {
    "collapsed": false
   },
   "outputs": [
    {
     "data": {
      "text/plain": [
       "[(u'cycliste_azfk3',\n",
       "  ([u'0009',\n",
       "    u' 1486391580.93',\n",
       "    u'velo pris sur station azuxn (elem de station travail)'],\n",
       "   [u'4', u'42', u'femme', u'12.0849164506', u'18.1675557286', u'0.5'])),\n",
       " (u'cycliste_azfk3',\n",
       "  ([u'0008',\n",
       "    u' 1486391567.04',\n",
       "    u'velo rendu sur la station azuxn ( a la maison = False) (elem de station_travail)'],\n",
       "   [u'4', u'42', u'femme', u'12.0849164506', u'18.1675557286', u'0.5']))]"
      ]
     },
     "execution_count": 218,
     "metadata": {},
     "output_type": "execute_result"
    }
   ],
   "source": [
    "jointure.take(2)"
   ]
  },
  {
   "cell_type": "markdown",
   "metadata": {},
   "source": [
    "## 4.1) regarder les valeurs par clef"
   ]
  },
  {
   "cell_type": "code",
   "execution_count": 198,
   "metadata": {
    "collapsed": false
   },
   "outputs": [
    {
     "name": "stdout",
     "output_type": "stream",
     "text": [
      "000 - cycliste_aze70\n",
      "([u'0009', u' 1486391577.48', u'False a pris le velo velo_aeufv_1486391531.03 sur la station azuf0'], [u'-0.5', u'69', u'homme', u'15.7032986473', u'10.4313587952', u'0.5'])\n",
      "([u'0008', u' 1486391577.48', u'velo pris sur station aep80 (elem de station travail)'], [u'-0.5', u'69', u'homme', u'15.7032986473', u'10.4313587952', u'0.5'])\n",
      "([u'0007', u' 1486391564.72', u'velo rendu sur la station azsf3 ( a la maison = False) (elem de station_travail)'], [u'-0.5', u'69', u'homme', u'15.7032986473', u'10.4313587952', u'0.5'])\n",
      "([u'0006', u' 1486391564.71', u'self.a_la_maison = False'], [u'-0.5', u'69', u'homme', u'15.7032986473', u'10.4313587952', u'0.5'])\n",
      "([u'0005', u' 1486391555.19', u'True a pris le velo velo_aerkc_1486391529.5 sur la station azrmx'], [u'-0.5', u'69', u'homme', u'15.7032986473', u'10.4313587952', u'0.5'])\n",
      "([u'0004', u' 1486391555.19', u'velo pris sur station azu12 (elem de station maison)'], [u'-0.5', u'69', u'homme', u'15.7032986473', u'10.4313587952', u'0.5'])\n",
      "([u'0003', u' 1486391544.1', u'station_travail nearest= aes70|azdm3|azsf3|azc58|argh5|azrj5|aetg5|aep80'], [u'-0.5', u'69', u'homme', u'15.7032986473', u'10.4313587952', u'0.5'])\n",
      "([u'0002', u' 1486391544.1', u'station_maison nearest= argl4|azsmn|azgvn|aem18|azu12'], [u'-0.5', u'69', u'homme', u'15.7032986473', u'10.4313587952', u'0.5'])\n",
      "([u'0001', u' 1486391544.1', u'station_travail = azuf0'], [u'-0.5', u'69', u'homme', u'15.7032986473', u'10.4313587952', u'0.5'])\n",
      "([u'0000', u' 1486391544.1', u'station_maison = azrmx'], [u'-0.5', u'69', u'homme', u'15.7032986473', u'10.4313587952', u'0.5'])\n",
      "([u'0020', u' 1486391636.84', u'pas de velo sur la station azgvn '], [u'-0.5', u'69', u'homme', u'15.7032986473', u'10.4313587952', u'0.5'])\n",
      "([u'0019', u' 1486391622.26', u'velo rendu sur la station argl4 ( a la maison = True) (elem de station_maison)'], [u'-0.5', u'69', u'homme', u'15.7032986473', u'10.4313587952', u'0.5'])\n",
      "([u'0018', u' 1486391622.26', u'self.a_la_maison = True'], [u'-0.5', u'69', u'homme', u'15.7032986473', u'10.4313587952', u'0.5'])\n",
      "([u'0017', u' 1486391616.68', u'False a pris le velo velo_azl30_1486391538.01 sur la station azuf0'], [u'-0.5', u'69', u'homme', u'15.7032986473', u'10.4313587952', u'0.5'])\n",
      "([u'0016', u' 1486391616.68', u'velo pris sur station azdm3 (elem de station travail)'], [u'-0.5', u'69', u'homme', u'15.7032986473', u'10.4313587952', u'0.5'])\n",
      "([u'0015', u' 1486391602.3', u'velo rendu sur la station aetg5 ( a la maison = False) (elem de station_travail)'], [u'-0.5', u'69', u'homme', u'15.7032986473', u'10.4313587952', u'0.5'])\n",
      "([u'0014', u' 1486391602.3', u'self.a_la_maison = False'], [u'-0.5', u'69', u'homme', u'15.7032986473', u'10.4313587952', u'0.5'])\n",
      "([u'0013', u' 1486391595.82', u'True a pris le velo velo_aeqf9_1486391535.52 sur la station azrmx'], [u'-0.5', u'69', u'homme', u'15.7032986473', u'10.4313587952', u'0.5'])\n",
      "([u'0012', u' 1486391595.82', u'velo pris sur station aem18 (elem de station maison)'], [u'-0.5', u'69', u'homme', u'15.7032986473', u'10.4313587952', u'0.5'])\n",
      "([u'0011', u' 1486391584.32', u'velo rendu sur la station azsmn ( a la maison = True) (elem de station_maison)'], [u'-0.5', u'69', u'homme', u'15.7032986473', u'10.4313587952', u'0.5'])\n",
      "([u'0010', u' 1486391584.32', u'self.a_la_maison = True'], [u'-0.5', u'69', u'homme', u'15.7032986473', u'10.4313587952', u'0.5'])\n",
      "([u'0031', u' 1486391662.98', u'velo rendu sur la station aem18 ( a la maison = True) (elem de station_maison)'], [u'-0.5', u'69', u'homme', u'15.7032986473', u'10.4313587952', u'0.5'])\n",
      "([u'0030', u' 1486391662.98', u'impossible de rendre sur ', u'azu12 ( a la maison = True)'], [u'-0.5', u'69', u'homme', u'15.7032986473', u'10.4313587952', u'0.5'])\n",
      "([u'0029', u' 1486391662.98', u'impossible de rendre sur ', u'argl4 ( a la maison = True)'], [u'-0.5', u'69', u'homme', u'15.7032986473', u'10.4313587952', u'0.5'])\n",
      "([u'0028', u' 1486391662.98', u'impossible de rendre sur ', u'azsmn ( a la maison = True)'], [u'-0.5', u'69', u'homme', u'15.7032986473', u'10.4313587952', u'0.5'])\n",
      "([u'0027', u' 1486391662.98', u'self.a_la_maison = True'], [u'-0.5', u'69', u'homme', u'15.7032986473', u'10.4313587952', u'0.5'])\n",
      "([u'0026', u' 1486391658.1', u'False a pris le velo velo_azh23_1486391528.82 sur la station azuf0'], [u'-0.5', u'69', u'homme', u'15.7032986473', u'10.4313587952', u'0.5'])\n",
      "([u'0025', u' 1486391658.1', u'velo pris sur station azdm3 (elem de station travail)'], [u'-0.5', u'69', u'homme', u'15.7032986473', u'10.4313587952', u'0.5'])\n",
      "([u'0024', u' 1486391641.98', u'velo rendu sur la station azc58 ( a la maison = False) (elem de station_travail)'], [u'-0.5', u'69', u'homme', u'15.7032986473', u'10.4313587952', u'0.5'])\n",
      "([u'0023', u' 1486391641.98', u'self.a_la_maison = False'], [u'-0.5', u'69', u'homme', u'15.7032986473', u'10.4313587952', u'0.5'])\n",
      "([u'0022', u' 1486391636.84', u'True a pris le velo velo_azuqm_1486391537.19 sur la station azrmx'], [u'-0.5', u'69', u'homme', u'15.7032986473', u'10.4313587952', u'0.5'])\n",
      "([u'0021', u' 1486391636.84', u'velo pris sur station aem18 (elem de station maison)'], [u'-0.5', u'69', u'homme', u'15.7032986473', u'10.4313587952', u'0.5'])\n",
      "([u'0042', u' 1486391710.01', u'velo rendu sur la station aem18 ( a la maison = True) (elem de station_maison)'], [u'-0.5', u'69', u'homme', u'15.7032986473', u'10.4313587952', u'0.5'])\n",
      "([u'0041', u' 1486391710.01', u'impossible de rendre sur ', u'azu12 ( a la maison = True)'], [u'-0.5', u'69', u'homme', u'15.7032986473', u'10.4313587952', u'0.5'])\n",
      "([u'0040', u' 1486391710.01', u'impossible de rendre sur ', u'azgvn ( a la maison = True)'], [u'-0.5', u'69', u'homme', u'15.7032986473', u'10.4313587952', u'0.5'])\n",
      "([u'0039', u' 1486391710.01', u'self.a_la_maison = True'], [u'-0.5', u'69', u'homme', u'15.7032986473', u'10.4313587952', u'0.5'])\n",
      "([u'0038', u' 1486391704.92', u'False a pris le velo velo_arqs7_1486391539.15 sur la station azuf0'], [u'-0.5', u'69', u'homme', u'15.7032986473', u'10.4313587952', u'0.5'])\n",
      "([u'0037', u' 1486391704.92', u'velo pris sur station aes70 (elem de station travail)'], [u'-0.5', u'69', u'homme', u'15.7032986473', u'10.4313587952', u'0.5'])\n",
      "([u'0036', u' 1486391686.5', u'velo rendu sur la station azrj5 ( a la maison = False) (elem de station_travail)'], [u'-0.5', u'69', u'homme', u'15.7032986473', u'10.4313587952', u'0.5'])\n",
      "([u'0035', u' 1486391686.5', u'impossible de rendre sur ', u'aetg5 ( a la maison = False)'], [u'-0.5', u'69', u'homme', u'15.7032986473', u'10.4313587952', u'0.5'])\n",
      "([u'0034', u' 1486391686.5', u'self.a_la_maison = False'], [u'-0.5', u'69', u'homme', u'15.7032986473', u'10.4313587952', u'0.5'])\n",
      "([u'0033', u' 1486391680.66', u'True a pris le velo velo_azqxb_1486391533.13 sur la station azrmx'], [u'-0.5', u'69', u'homme', u'15.7032986473', u'10.4313587952', u'0.5'])\n",
      "([u'0032', u' 1486391680.66', u'velo pris sur station azgvn (elem de station maison)'], [u'-0.5', u'69', u'homme', u'15.7032986473', u'10.4313587952', u'0.5'])\n",
      "([u'0053', u' 1486391788.97', u'True a pris le velo velo_arpw6_1486391528.51 sur la station azrmx'], [u'-0.5', u'69', u'homme', u'15.7032986473', u'10.4313587952', u'0.5'])\n",
      "([u'0052', u' 1486391788.97', u'velo pris sur station azsmn (elem de station maison)'], [u'-0.5', u'69', u'homme', u'15.7032986473', u'10.4313587952', u'0.5'])\n",
      "([u'0051', u' 1486391765.62', u'velo rendu sur la station aem18 ( a la maison = True) (elem de station_maison)'], [u'-0.5', u'69', u'homme', u'15.7032986473', u'10.4313587952', u'0.5'])\n",
      "([u'0050', u' 1486391765.62', u'self.a_la_maison = True'], [u'-0.5', u'69', u'homme', u'15.7032986473', u'10.4313587952', u'0.5'])\n",
      "([u'0049', u' 1486391759.54', u'False a pris le velo velo_ardcn_1486391535.32 sur la station azuf0'], [u'-0.5', u'69', u'homme', u'15.7032986473', u'10.4313587952', u'0.5'])\n",
      "([u'0048', u' 1486391759.54', u'velo pris sur station aes70 (elem de station travail)'], [u'-0.5', u'69', u'homme', u'15.7032986473', u'10.4313587952', u'0.5'])\n",
      "([u'0047', u' 1486391736.2', u'velo rendu sur la station azc58 ( a la maison = False) (elem de station_travail)'], [u'-0.5', u'69', u'homme', u'15.7032986473', u'10.4313587952', u'0.5'])\n",
      "([u'0046', u' 1486391736.2', u'impossible de rendre sur ', u'aetg5 ( a la maison = False)'], [u'-0.5', u'69', u'homme', u'15.7032986473', u'10.4313587952', u'0.5'])\n",
      "([u'0045', u' 1486391736.2', u'self.a_la_maison = False'], [u'-0.5', u'69', u'homme', u'15.7032986473', u'10.4313587952', u'0.5'])\n",
      "([u'0044', u' 1486391730.29', u'True a pris le velo velo_azoqh_1486391538.32 sur la station azrmx'], [u'-0.5', u'69', u'homme', u'15.7032986473', u'10.4313587952', u'0.5'])\n",
      "([u'0043', u' 1486391730.29', u'velo pris sur station azgvn (elem de station maison)'], [u'-0.5', u'69', u'homme', u'15.7032986473', u'10.4313587952', u'0.5'])\n",
      "([u'0064', u' 1486391842.99', u'self.a_la_maison = True'], [u'-0.5', u'69', u'homme', u'15.7032986473', u'10.4313587952', u'0.5'])\n",
      "([u'0063', u' 1486391835.51', u'False a pris le velo velo_azydm_1486391535.51 sur la station azuf0'], [u'-0.5', u'69', u'homme', u'15.7032986473', u'10.4313587952', u'0.5'])\n",
      "([u'0062', u' 1486391835.51', u'velo pris sur station aes70 (elem de station travail)'], [u'-0.5', u'69', u'homme', u'15.7032986473', u'10.4313587952', u'0.5'])\n",
      "([u'0061', u' 1486391811.79', u'velo rendu sur la station azrj5 ( a la maison = False) (elem de station_travail)'], [u'-0.5', u'69', u'homme', u'15.7032986473', u'10.4313587952', u'0.5'])\n",
      "([u'0060', u' 1486391811.79', u'impossible de rendre sur ', u'azdm3 ( a la maison = False)'], [u'-0.5', u'69', u'homme', u'15.7032986473', u'10.4313587952', u'0.5'])\n",
      "([u'0059', u' 1486391811.79', u'self.a_la_maison = False'], [u'-0.5', u'69', u'homme', u'15.7032986473', u'10.4313587952', u'0.5'])\n",
      "([u'0058', u' 1486391803.72', u'True a pris le velo velo_az140_1486391532.6 sur la station azrmx'], [u'-0.5', u'69', u'homme', u'15.7032986473', u'10.4313587952', u'0.5'])\n",
      "([u'0057', u' 1486391803.72', u'velo pris sur station argl4 (elem de station maison)'], [u'-0.5', u'69', u'homme', u'15.7032986473', u'10.4313587952', u'0.5'])\n",
      "([u'0056', u' 1486391788.97', u'velo rendu sur la station azsmn ( a la maison = True) (elem de station_maison)'], [u'-0.5', u'69', u'homme', u'15.7032986473', u'10.4313587952', u'0.5'])\n",
      "([u'0055', u' 1486391788.97', u'self.a_la_maison = True'], [u'-0.5', u'69', u'homme', u'15.7032986473', u'10.4313587952', u'0.5'])\n",
      "([u'0054', u' 1486391788.97', u'velo defaillant <0.1', u' rendu a la meme station :-( '], [u'-0.5', u'69', u'homme', u'15.7032986473', u'10.4313587952', u'0.5'])\n",
      "([u'0075', u' 1486391908.98', u'velo rendu sur la station azu12 ( a la maison = True) (elem de station_maison)'], [u'-0.5', u'69', u'homme', u'15.7032986473', u'10.4313587952', u'0.5'])\n",
      "([u'0074', u' 1486391908.97', u'self.a_la_maison = True'], [u'-0.5', u'69', u'homme', u'15.7032986473', u'10.4313587952', u'0.5'])\n",
      "([u'0073', u' 1486391901.67', u'False a pris le velo velo_aevbn_1486391534.64 sur la station azuf0'], [u'-0.5', u'69', u'homme', u'15.7032986473', u'10.4313587952', u'0.5'])\n",
      "([u'0072', u' 1486391901.67', u'velo pris sur station azsf3 (elem de station travail)'], [u'-0.5', u'69', u'homme', u'15.7032986473', u'10.4313587952', u'0.5'])\n",
      "([u'0071', u' 1486391874.54', u'velo rendu sur la station aep80 ( a la maison = False) (elem de station_travail)'], [u'-0.5', u'69', u'homme', u'15.7032986473', u'10.4313587952', u'0.5'])\n",
      "([u'0070', u' 1486391874.54', u'impossible de rendre sur ', u'aes70 ( a la maison = False)'], [u'-0.5', u'69', u'homme', u'15.7032986473', u'10.4313587952', u'0.5'])\n",
      "([u'0069', u' 1486391874.54', u'impossible de rendre sur ', u'azrj5 ( a la maison = False)'], [u'-0.5', u'69', u'homme', u'15.7032986473', u'10.4313587952', u'0.5'])\n",
      "([u'0068', u' 1486391874.54', u'self.a_la_maison = False'], [u'-0.5', u'69', u'homme', u'15.7032986473', u'10.4313587952', u'0.5'])\n",
      "([u'0067', u' 1486391866.84', u'True a pris le velo velo_azh38_1486391537.76 sur la station azrmx'], [u'-0.5', u'69', u'homme', u'15.7032986473', u'10.4313587952', u'0.5'])\n",
      "([u'0066', u' 1486391866.84', u'velo pris sur station azgvn (elem de station maison)'], [u'-0.5', u'69', u'homme', u'15.7032986473', u'10.4313587952', u'0.5'])\n",
      "([u'0065', u' 1486391842.99', u'velo rendu sur la station aem18 ( a la maison = True) (elem de station_maison)'], [u'-0.5', u'69', u'homme', u'15.7032986473', u'10.4313587952', u'0.5'])\n",
      "([u'0086', u' 1486391994.27', u'velo pris sur station aep80 (elem de station travail)'], [u'-0.5', u'69', u'homme', u'15.7032986473', u'10.4313587952', u'0.5'])\n",
      "([u'0085', u' 1486391964.02', u'velo rendu sur la station azrj5 ( a la maison = False) (elem de station_travail)'], [u'-0.5', u'69', u'homme', u'15.7032986473', u'10.4313587952', u'0.5'])\n",
      "([u'0084', u' 1486391964.02', u'impossible de rendre sur ', u'azdm3 ( a la maison = False)'], [u'-0.5', u'69', u'homme', u'15.7032986473', u'10.4313587952', u'0.5'])\n",
      "([u'0083', u' 1486391964.02', u'self.a_la_maison = False'], [u'-0.5', u'69', u'homme', u'15.7032986473', u'10.4313587952', u'0.5'])\n",
      "([u'0082', u' 1486391955.99', u'True a pris le velo velo_ars90_1486391531.05 sur la station azrmx'], [u'-0.5', u'69', u'homme', u'15.7032986473', u'10.4313587952', u'0.5'])\n",
      "([u'0081', u' 1486391955.99', u'velo pris sur station azsmn (elem de station maison)'], [u'-0.5', u'69', u'homme', u'15.7032986473', u'10.4313587952', u'0.5'])\n",
      "([u'0080', u' 1486391937.15', u'velo rendu sur la station argl4 ( a la maison = True) (elem de station_maison)'], [u'-0.5', u'69', u'homme', u'15.7032986473', u'10.4313587952', u'0.5'])\n",
      "([u'0079', u' 1486391937.15', u'self.a_la_maison = True'], [u'-0.5', u'69', u'homme', u'15.7032986473', u'10.4313587952', u'0.5'])\n",
      "([u'0078', u' 1486391937.15', u'velo defaillant <0.1', u' rendu a la meme station :-( '], [u'-0.5', u'69', u'homme', u'15.7032986473', u'10.4313587952', u'0.5'])\n",
      "([u'0077', u' 1486391937.15', u'True a pris le velo velo_aepg7_1486391537.6 sur la station azrmx'], [u'-0.5', u'69', u'homme', u'15.7032986473', u'10.4313587952', u'0.5'])\n",
      "([u'0076', u' 1486391937.15', u'velo pris sur station argl4 (elem de station maison)'], [u'-0.5', u'69', u'homme', u'15.7032986473', u'10.4313587952', u'0.5'])\n",
      "([u'0097', u' 1486392092.57', u'velo rendu sur la station argl4 ( a la maison = True) (elem de station_maison)'], [u'-0.5', u'69', u'homme', u'15.7032986473', u'10.4313587952', u'0.5'])\n",
      "([u'0096', u' 1486392092.56', u'self.a_la_maison = True'], [u'-0.5', u'69', u'homme', u'15.7032986473', u'10.4313587952', u'0.5'])\n",
      "([u'0095', u' 1486392081.86', u'False a pris le velo velo_arpsg_1486391538.16 sur la station azuf0'], [u'-0.5', u'69', u'homme', u'15.7032986473', u'10.4313587952', u'0.5'])\n",
      "([u'0094', u' 1486392081.86', u'velo pris sur station aes70 (elem de station travail)'], [u'-0.5', u'69', u'homme', u'15.7032986473', u'10.4313587952', u'0.5'])\n",
      "([u'0093', u' 1486392044.61', u'velo rendu sur la station aep80 ( a la maison = False) (elem de station_travail)'], [u'-0.5', u'69', u'homme', u'15.7032986473', u'10.4313587952', u'0.5'])\n",
      "([u'0092', u' 1486392044.61', u'self.a_la_maison = False'], [u'-0.5', u'69', u'homme', u'15.7032986473', u'10.4313587952', u'0.5'])\n",
      "([u'0091', u' 1486392034.96', u'True a pris le velo velo_arpfc_1486391528.94 sur la station azrmx'], [u'-0.5', u'69', u'homme', u'15.7032986473', u'10.4313587952', u'0.5'])\n",
      "([u'0090', u' 1486392034.96', u'velo pris sur station aem18 (elem de station maison)'], [u'-0.5', u'69', u'homme', u'15.7032986473', u'10.4313587952', u'0.5'])\n",
      "([u'0089', u' 1486392003.12', u'velo rendu sur la station aem18 ( a la maison = True) (elem de station_maison)'], [u'-0.5', u'69', u'homme', u'15.7032986473', u'10.4313587952', u'0.5'])\n",
      "([u'0088', u' 1486392003.12', u'self.a_la_maison = True'], [u'-0.5', u'69', u'homme', u'15.7032986473', u'10.4313587952', u'0.5'])\n",
      "([u'0087', u' 1486391994.27', u'False a pris le velo velo_azvb5_1486391529.22 sur la station azuf0'], [u'-0.5', u'69', u'homme', u'15.7032986473', u'10.4313587952', u'0.5'])\n",
      "([u'0108', u' 1486392195.11', u'impossible de rendre sur ', u'argl4 ( a la maison = True)'], [u'-0.5', u'69', u'homme', u'15.7032986473', u'10.4313587952', u'0.5'])\n",
      "([u'0107', u' 1486392195.11', u'self.a_la_maison = True'], [u'-0.5', u'69', u'homme', u'15.7032986473', u'10.4313587952', u'0.5'])\n",
      "([u'0106', u' 1486392183.65', u'False a pris le velo velo_artk7_1486391531.79 sur la station azuf0'], [u'-0.5', u'69', u'homme', u'15.7032986473', u'10.4313587952', u'0.5'])\n",
      "([u'0105', u' 1486392183.65', u'velo pris sur station argh5 (elem de station travail)'], [u'-0.5', u'69', u'homme', u'15.7032986473', u'10.4313587952', u'0.5'])\n",
      "([u'0104', u' 1486392183.65', u'pas de velo sur la station azdm3 '], [u'-0.5', u'69', u'homme', u'15.7032986473', u'10.4313587952', u'0.5'])\n",
      "([u'0103', u' 1486392141.82', u'velo rendu sur la station azsf3 ( a la maison = False) (elem de station_travail)'], [u'-0.5', u'69', u'homme', u'15.7032986473', u'10.4313587952', u'0.5'])\n",
      "([u'0102', u' 1486392141.82', u'impossible de rendre sur ', u'aetg5 ( a la maison = False)'], [u'-0.5', u'69', u'homme', u'15.7032986473', u'10.4313587952', u'0.5'])\n",
      "([u'0101', u' 1486392141.81', u'impossible de rendre sur ', u'azrj5 ( a la maison = False)'], [u'-0.5', u'69', u'homme', u'15.7032986473', u'10.4313587952', u'0.5'])\n",
      "([u'0100', u' 1486392141.81', u'self.a_la_maison = False'], [u'-0.5', u'69', u'homme', u'15.7032986473', u'10.4313587952', u'0.5'])\n",
      "([u'0099', u' 1486392131.45', u'True a pris le velo velo_aesfn_1486391538.87 sur la station azrmx'], [u'-0.5', u'69', u'homme', u'15.7032986473', u'10.4313587952', u'0.5'])\n",
      "([u'0098', u' 1486392131.45', u'velo pris sur station azgvn (elem de station maison)'], [u'-0.5', u'69', u'homme', u'15.7032986473', u'10.4313587952', u'0.5'])\n",
      "([u'0119', u' 1486392354.01', u'velo pris sur station argl4 (elem de station maison)'], [u'-0.5', u'69', u'homme', u'15.7032986473', u'10.4313587952', u'0.5'])\n",
      "([u'0118', u' 1486392308.22', u'velo rendu sur la station argl4 ( a la maison = True) (elem de station_maison)'], [u'-0.5', u'69', u'homme', u'15.7032986473', u'10.4313587952', u'0.5'])\n",
      "([u'0117', u' 1486392308.21', u'self.a_la_maison = True'], [u'-0.5', u'69', u'homme', u'15.7032986473', u'10.4313587952', u'0.5'])\n",
      "([u'0116', u' 1486392294.95', u'False a pris le velo velo_arox6_1486391534.35 sur la station azuf0'], [u'-0.5', u'69', u'homme', u'15.7032986473', u'10.4313587952', u'0.5'])\n",
      "([u'0115', u' 1486392294.95', u'velo pris sur station azc58 (elem de station travail)'], [u'-0.5', u'69', u'homme', u'15.7032986473', u'10.4313587952', u'0.5'])\n",
      "([u'0114', u' 1486392251.56', u'velo rendu sur la station azrj5 ( a la maison = False) (elem de station_travail)'], [u'-0.5', u'69', u'homme', u'15.7032986473', u'10.4313587952', u'0.5'])\n",
      "([u'0113', u' 1486392251.56', u'impossible de rendre sur ', u'azdm3 ( a la maison = False)'], [u'-0.5', u'69', u'homme', u'15.7032986473', u'10.4313587952', u'0.5'])\n",
      "([u'0112', u' 1486392251.56', u'self.a_la_maison = False'], [u'-0.5', u'69', u'homme', u'15.7032986473', u'10.4313587952', u'0.5'])\n",
      "([u'0111', u' 1486392237.32', u'True a pris le velo velo_aekcn_1486391528.66 sur la station azrmx'], [u'-0.5', u'69', u'homme', u'15.7032986473', u'10.4313587952', u'0.5'])\n",
      "([u'0110', u' 1486392237.32', u'velo pris sur station aem18 (elem de station maison)'], [u'-0.5', u'69', u'homme', u'15.7032986473', u'10.4313587952', u'0.5'])\n",
      "([u'0109', u' 1486392195.12', u'velo rendu sur la station azgvn ( a la maison = True) (elem de station_maison)'], [u'-0.5', u'69', u'homme', u'15.7032986473', u'10.4313587952', u'0.5'])\n",
      "([u'0130', u' 1486392483.8', u'velo pris sur station aem18 (elem de station maison)'], [u'-0.5', u'69', u'homme', u'15.7032986473', u'10.4313587952', u'0.5'])\n",
      "([u'0129', u' 1486392431.91', u'velo rendu sur la station azsmn ( a la maison = True) (elem de station_maison)'], [u'-0.5', u'69', u'homme', u'15.7032986473', u'10.4313587952', u'0.5'])\n",
      "([u'0128', u' 1486392431.91', u'self.a_la_maison = True'], [u'-0.5', u'69', u'homme', u'15.7032986473', u'10.4313587952', u'0.5'])\n",
      "([u'0127', u' 1486392417.24', u'False a pris le velo velo_artdk_1486391539.32 sur la station azuf0'], [u'-0.5', u'69', u'homme', u'15.7032986473', u'10.4313587952', u'0.5'])\n",
      "([u'0126', u' 1486392417.24', u'velo pris sur station azsf3 (elem de station travail)'], [u'-0.5', u'69', u'homme', u'15.7032986473', u'10.4313587952', u'0.5'])\n",
      "([u'0125', u' 1486392417.24', u'pas de velo sur la station azdm3 '], [u'-0.5', u'69', u'homme', u'15.7032986473', u'10.4313587952', u'0.5'])\n",
      "([u'0124', u' 1486392417.23', u'pas de velo sur la station aetg5 '], [u'-0.5', u'69', u'homme', u'15.7032986473', u'10.4313587952', u'0.5'])\n",
      "([u'0123', u' 1486392369.54', u'velo rendu sur la station argh5 ( a la maison = False) (elem de station_travail)'], [u'-0.5', u'69', u'homme', u'15.7032986473', u'10.4313587952', u'0.5'])\n",
      "([u'0122', u' 1486392369.54', u'impossible de rendre sur ', u'azrj5 ( a la maison = False)'], [u'-0.5', u'69', u'homme', u'15.7032986473', u'10.4313587952', u'0.5'])\n",
      "([u'0121', u' 1486392369.53', u'self.a_la_maison = False'], [u'-0.5', u'69', u'homme', u'15.7032986473', u'10.4313587952', u'0.5'])\n",
      "([u'0120', u' 1486392354.01', u'True a pris le velo velo_aeu46_1486391538.83 sur la station azrmx'], [u'-0.5', u'69', u'homme', u'15.7032986473', u'10.4313587952', u'0.5'])\n"
     ]
    }
   ],
   "source": [
    "for indice, k_v in enumerate(valeurs_par_clefs.take(1)):\n",
    "    print (\"%03i - %s\" % (indice, k_v[0]))\n",
    "    for infos in k_v[1]:\n",
    "        print (infos)"
   ]
  },
  {
   "cell_type": "code",
   "execution_count": 219,
   "metadata": {
    "collapsed": false
   },
   "outputs": [
    {
     "data": {
      "text/plain": [
       "620334"
      ]
     },
     "execution_count": 219,
     "metadata": {},
     "output_type": "execute_result"
    }
   ],
   "source": [
    "jointure = jointure.partitionBy(10)\n",
    "jointure = jointure.cache()\n",
    "jointure.count()"
   ]
  },
  {
   "cell_type": "code",
   "execution_count": 220,
   "metadata": {
    "collapsed": false
   },
   "outputs": [
    {
     "data": {
      "text/plain": [
       "620334"
      ]
     },
     "execution_count": 220,
     "metadata": {},
     "output_type": "execute_result"
    }
   ],
   "source": [
    "jointure = jointure.partitionBy(20)\n",
    "jointure = jointure.cache()\n",
    "jointure.count()"
   ]
  },
  {
   "cell_type": "markdown",
   "metadata": {},
   "source": [
    "# 5) Creating a Dataframe from an RDD"
   ]
  },
  {
   "cell_type": "code",
   "execution_count": 224,
   "metadata": {
    "collapsed": false,
    "scrolled": true
   },
   "outputs": [
    {
     "ename": "TypeError",
     "evalue": "Can not infer schema for type: <type 'unicode'>",
     "output_type": "error",
     "traceback": [
      "\u001b[0;31m---------------------------------------------------------------------------\u001b[0m",
      "\u001b[0;31mTypeError\u001b[0m                                 Traceback (most recent call last)",
      "\u001b[0;32m<ipython-input-224-ede5bbb7f5c7>\u001b[0m in \u001b[0;36m<module>\u001b[0;34m()\u001b[0m\n\u001b[0;32m----> 1\u001b[0;31m \u001b[0mdf\u001b[0m \u001b[0;34m=\u001b[0m \u001b[0mspark\u001b[0m\u001b[0;34m.\u001b[0m\u001b[0mcreateDataFrame\u001b[0m\u001b[0;34m(\u001b[0m\u001b[0mcyclistes\u001b[0m\u001b[0;34m)\u001b[0m\u001b[0;34m\u001b[0m\u001b[0m\n\u001b[0m",
      "\u001b[0;32m/Users/romain/Informatique/spark/spark-2.1.1-bin-hadoop2.7/python/pyspark/sql/session.pyc\u001b[0m in \u001b[0;36mcreateDataFrame\u001b[0;34m(self, data, schema, samplingRatio, verifySchema)\u001b[0m\n\u001b[1;32m    522\u001b[0m \u001b[0;34m\u001b[0m\u001b[0m\n\u001b[1;32m    523\u001b[0m         \u001b[0;32mif\u001b[0m \u001b[0misinstance\u001b[0m\u001b[0;34m(\u001b[0m\u001b[0mdata\u001b[0m\u001b[0;34m,\u001b[0m \u001b[0mRDD\u001b[0m\u001b[0;34m)\u001b[0m\u001b[0;34m:\u001b[0m\u001b[0;34m\u001b[0m\u001b[0m\n\u001b[0;32m--> 524\u001b[0;31m             \u001b[0mrdd\u001b[0m\u001b[0;34m,\u001b[0m \u001b[0mschema\u001b[0m \u001b[0;34m=\u001b[0m \u001b[0mself\u001b[0m\u001b[0;34m.\u001b[0m\u001b[0m_createFromRDD\u001b[0m\u001b[0;34m(\u001b[0m\u001b[0mdata\u001b[0m\u001b[0;34m.\u001b[0m\u001b[0mmap\u001b[0m\u001b[0;34m(\u001b[0m\u001b[0mprepare\u001b[0m\u001b[0;34m)\u001b[0m\u001b[0;34m,\u001b[0m \u001b[0mschema\u001b[0m\u001b[0;34m,\u001b[0m \u001b[0msamplingRatio\u001b[0m\u001b[0;34m)\u001b[0m\u001b[0;34m\u001b[0m\u001b[0m\n\u001b[0m\u001b[1;32m    525\u001b[0m         \u001b[0;32melse\u001b[0m\u001b[0;34m:\u001b[0m\u001b[0;34m\u001b[0m\u001b[0m\n\u001b[1;32m    526\u001b[0m             \u001b[0mrdd\u001b[0m\u001b[0;34m,\u001b[0m \u001b[0mschema\u001b[0m \u001b[0;34m=\u001b[0m \u001b[0mself\u001b[0m\u001b[0;34m.\u001b[0m\u001b[0m_createFromLocal\u001b[0m\u001b[0;34m(\u001b[0m\u001b[0mmap\u001b[0m\u001b[0;34m(\u001b[0m\u001b[0mprepare\u001b[0m\u001b[0;34m,\u001b[0m \u001b[0mdata\u001b[0m\u001b[0;34m)\u001b[0m\u001b[0;34m,\u001b[0m \u001b[0mschema\u001b[0m\u001b[0;34m)\u001b[0m\u001b[0;34m\u001b[0m\u001b[0m\n",
      "\u001b[0;32m/Users/romain/Informatique/spark/spark-2.1.1-bin-hadoop2.7/python/pyspark/sql/session.pyc\u001b[0m in \u001b[0;36m_createFromRDD\u001b[0;34m(self, rdd, schema, samplingRatio)\u001b[0m\n\u001b[1;32m    362\u001b[0m         \"\"\"\n\u001b[1;32m    363\u001b[0m         \u001b[0;32mif\u001b[0m \u001b[0mschema\u001b[0m \u001b[0;32mis\u001b[0m \u001b[0mNone\u001b[0m \u001b[0;32mor\u001b[0m \u001b[0misinstance\u001b[0m\u001b[0;34m(\u001b[0m\u001b[0mschema\u001b[0m\u001b[0;34m,\u001b[0m \u001b[0;34m(\u001b[0m\u001b[0mlist\u001b[0m\u001b[0;34m,\u001b[0m \u001b[0mtuple\u001b[0m\u001b[0;34m)\u001b[0m\u001b[0;34m)\u001b[0m\u001b[0;34m:\u001b[0m\u001b[0;34m\u001b[0m\u001b[0m\n\u001b[0;32m--> 364\u001b[0;31m             \u001b[0mstruct\u001b[0m \u001b[0;34m=\u001b[0m \u001b[0mself\u001b[0m\u001b[0;34m.\u001b[0m\u001b[0m_inferSchema\u001b[0m\u001b[0;34m(\u001b[0m\u001b[0mrdd\u001b[0m\u001b[0;34m,\u001b[0m \u001b[0msamplingRatio\u001b[0m\u001b[0;34m)\u001b[0m\u001b[0;34m\u001b[0m\u001b[0m\n\u001b[0m\u001b[1;32m    365\u001b[0m             \u001b[0mconverter\u001b[0m \u001b[0;34m=\u001b[0m \u001b[0m_create_converter\u001b[0m\u001b[0;34m(\u001b[0m\u001b[0mstruct\u001b[0m\u001b[0;34m)\u001b[0m\u001b[0;34m\u001b[0m\u001b[0m\n\u001b[1;32m    366\u001b[0m             \u001b[0mrdd\u001b[0m \u001b[0;34m=\u001b[0m \u001b[0mrdd\u001b[0m\u001b[0;34m.\u001b[0m\u001b[0mmap\u001b[0m\u001b[0;34m(\u001b[0m\u001b[0mconverter\u001b[0m\u001b[0;34m)\u001b[0m\u001b[0;34m\u001b[0m\u001b[0m\n",
      "\u001b[0;32m/Users/romain/Informatique/spark/spark-2.1.1-bin-hadoop2.7/python/pyspark/sql/session.pyc\u001b[0m in \u001b[0;36m_inferSchema\u001b[0;34m(self, rdd, samplingRatio)\u001b[0m\n\u001b[1;32m    342\u001b[0m \u001b[0;34m\u001b[0m\u001b[0m\n\u001b[1;32m    343\u001b[0m         \u001b[0;32mif\u001b[0m \u001b[0msamplingRatio\u001b[0m \u001b[0;32mis\u001b[0m \u001b[0mNone\u001b[0m\u001b[0;34m:\u001b[0m\u001b[0;34m\u001b[0m\u001b[0m\n\u001b[0;32m--> 344\u001b[0;31m             \u001b[0mschema\u001b[0m \u001b[0;34m=\u001b[0m \u001b[0m_infer_schema\u001b[0m\u001b[0;34m(\u001b[0m\u001b[0mfirst\u001b[0m\u001b[0;34m)\u001b[0m\u001b[0;34m\u001b[0m\u001b[0m\n\u001b[0m\u001b[1;32m    345\u001b[0m             \u001b[0;32mif\u001b[0m \u001b[0m_has_nulltype\u001b[0m\u001b[0;34m(\u001b[0m\u001b[0mschema\u001b[0m\u001b[0;34m)\u001b[0m\u001b[0;34m:\u001b[0m\u001b[0;34m\u001b[0m\u001b[0m\n\u001b[1;32m    346\u001b[0m                 \u001b[0;32mfor\u001b[0m \u001b[0mrow\u001b[0m \u001b[0;32min\u001b[0m \u001b[0mrdd\u001b[0m\u001b[0;34m.\u001b[0m\u001b[0mtake\u001b[0m\u001b[0;34m(\u001b[0m\u001b[0;36m100\u001b[0m\u001b[0;34m)\u001b[0m\u001b[0;34m[\u001b[0m\u001b[0;36m1\u001b[0m\u001b[0;34m:\u001b[0m\u001b[0;34m]\u001b[0m\u001b[0;34m:\u001b[0m\u001b[0;34m\u001b[0m\u001b[0m\n",
      "\u001b[0;32m/Users/romain/Informatique/spark/spark-2.1.1-bin-hadoop2.7/python/pyspark/sql/types.pyc\u001b[0m in \u001b[0;36m_infer_schema\u001b[0;34m(row)\u001b[0m\n\u001b[1;32m    990\u001b[0m \u001b[0;34m\u001b[0m\u001b[0m\n\u001b[1;32m    991\u001b[0m     \u001b[0;32melse\u001b[0m\u001b[0;34m:\u001b[0m\u001b[0;34m\u001b[0m\u001b[0m\n\u001b[0;32m--> 992\u001b[0;31m         \u001b[0;32mraise\u001b[0m \u001b[0mTypeError\u001b[0m\u001b[0;34m(\u001b[0m\u001b[0;34m\"Can not infer schema for type: %s\"\u001b[0m \u001b[0;34m%\u001b[0m \u001b[0mtype\u001b[0m\u001b[0;34m(\u001b[0m\u001b[0mrow\u001b[0m\u001b[0;34m)\u001b[0m\u001b[0;34m)\u001b[0m\u001b[0;34m\u001b[0m\u001b[0m\n\u001b[0m\u001b[1;32m    993\u001b[0m \u001b[0;34m\u001b[0m\u001b[0m\n\u001b[1;32m    994\u001b[0m     \u001b[0mfields\u001b[0m \u001b[0;34m=\u001b[0m \u001b[0;34m[\u001b[0m\u001b[0mStructField\u001b[0m\u001b[0;34m(\u001b[0m\u001b[0mk\u001b[0m\u001b[0;34m,\u001b[0m \u001b[0m_infer_type\u001b[0m\u001b[0;34m(\u001b[0m\u001b[0mv\u001b[0m\u001b[0;34m)\u001b[0m\u001b[0;34m,\u001b[0m \u001b[0mTrue\u001b[0m\u001b[0;34m)\u001b[0m \u001b[0;32mfor\u001b[0m \u001b[0mk\u001b[0m\u001b[0;34m,\u001b[0m \u001b[0mv\u001b[0m \u001b[0;32min\u001b[0m \u001b[0mitems\u001b[0m\u001b[0;34m]\u001b[0m\u001b[0;34m\u001b[0m\u001b[0m\n",
      "\u001b[0;31mTypeError\u001b[0m: Can not infer schema for type: <type 'unicode'>"
     ]
    }
   ],
   "source": [
    "df = spark.createDataFrame(cyclistes)"
   ]
  },
  {
   "cell_type": "code",
   "execution_count": 222,
   "metadata": {
    "collapsed": false
   },
   "outputs": [],
   "source": [
    "df = spark.createDataFrame(splitted_cyclistes)"
   ]
  },
  {
   "cell_type": "code",
   "execution_count": 233,
   "metadata": {
    "collapsed": false
   },
   "outputs": [
    {
     "data": {
      "text/plain": [
       "[Row(_1=u'cycliste', _2=u'sportif', _3=u'age', _4=u'sexe', _5=u'nb_km', _6=u'vitesse', _7=u'attente'),\n",
       " Row(_1=u'cycliste_azthv', _2=u'0', _3=u'34', _4=u'femme', _5=u'9.86503821812', _6=u'15.4581576429', _7=u'0.5')]"
      ]
     },
     "execution_count": 233,
     "metadata": {},
     "output_type": "execute_result"
    }
   ],
   "source": [
    "df.take(2)"
   ]
  },
  {
   "cell_type": "markdown",
   "metadata": {},
   "source": [
    "## 5.1) préparer le schéma"
   ]
  },
  {
   "cell_type": "code",
   "execution_count": 260,
   "metadata": {
    "collapsed": true
   },
   "outputs": [],
   "source": [
    "from collections import OrderedDict"
   ]
  },
  {
   "cell_type": "code",
   "execution_count": 261,
   "metadata": {
    "collapsed": true
   },
   "outputs": [],
   "source": [
    "from pyspark.sql.types import *"
   ]
  },
  {
   "cell_type": "code",
   "execution_count": 262,
   "metadata": {
    "collapsed": false
   },
   "outputs": [],
   "source": [
    "champs = OrderedDict([(\"cycliste\"           , StringType() ) ,\n",
    "                      (\"sportif\"            , FloatType()  ) ,\n",
    "                      (\"age\"                , IntegerType() ) ,\n",
    "                      (\"sexe\"               , StringType()  ) ,\n",
    "                      (\"nb_km\"              , FloatType()  ) ,\n",
    "                      (\"vitesse\"            , FloatType()  ) ,\n",
    "                      (\"attente\"            , FloatType() ) ])"
   ]
  },
  {
   "cell_type": "code",
   "execution_count": 263,
   "metadata": {
    "collapsed": false
   },
   "outputs": [
    {
     "name": "stdout",
     "output_type": "stream",
     "text": [
      "StructField(cycliste,StringType,true)\n",
      "StructField(sportif,FloatType,true)\n",
      "StructField(age,IntegerType,true)\n",
      "StructField(sexe,StringType,true)\n",
      "StructField(nb_km,FloatType,true)\n",
      "StructField(vitesse,FloatType,true)\n",
      "StructField(attente,FloatType,true)\n"
     ]
    }
   ],
   "source": [
    "fields = [StructField(champ, _type, nullable = True) for champ, _type in champs.iteritems()]\n",
    "schema = StructType(fields)\n",
    "for i in schema:\n",
    "    print i"
   ]
  },
  {
   "cell_type": "code",
   "execution_count": 264,
   "metadata": {
    "collapsed": false
   },
   "outputs": [
    {
     "data": {
      "text/plain": [
       "[[u'cycliste_azthv',\n",
       "  u'0',\n",
       "  u'34',\n",
       "  u'femme',\n",
       "  u'9.86503821812',\n",
       "  u'15.4581576429',\n",
       "  u'0.5']]"
      ]
     },
     "execution_count": 264,
     "metadata": {},
     "output_type": "execute_result"
    }
   ],
   "source": [
    "sans_header = remove_first_line(splitted_cyclistes)\n",
    "sans_header.take(1)"
   ]
  },
  {
   "cell_type": "markdown",
   "metadata": {},
   "source": [
    "## 5.2 ) caster les strings en valeurs numériques python"
   ]
  },
  {
   "cell_type": "code",
   "execution_count": 265,
   "metadata": {
    "collapsed": true
   },
   "outputs": [],
   "source": [
    "from pyspark.sql import Row"
   ]
  },
  {
   "cell_type": "code",
   "execution_count": 266,
   "metadata": {
    "collapsed": false
   },
   "outputs": [],
   "source": [
    "rdd    = sans_header.map(lambda p: Row( cycliste        =       p[0], \n",
    "                                        sportif         = float(p[1]), \n",
    "                                        age             = int  (p[2]), \n",
    "                                        sexe            =       p[3] , \n",
    "                                        nb_km           = float(p[4]), \n",
    "                                        vitesse         = float(p[5]), \n",
    "                                        attente         = float(p[6])))"
   ]
  },
  {
   "cell_type": "markdown",
   "metadata": {},
   "source": [
    "## 5.3) lier les numériques python à une dataframe spark"
   ]
  },
  {
   "cell_type": "code",
   "execution_count": 267,
   "metadata": {
    "collapsed": true
   },
   "outputs": [],
   "source": [
    "df = spark.createDataFrame(rdd, schema)"
   ]
  },
  {
   "cell_type": "code",
   "execution_count": 268,
   "metadata": {
    "collapsed": false
   },
   "outputs": [
    {
     "data": {
      "text/plain": [
       "[Row(cycliste=u'cycliste_azthv', sportif=0.0, age=34, sexe=u'femme', nb_km=9.86503791809082, vitesse=15.458157539367676, attente=0.5),\n",
       " Row(cycliste=u'cycliste_azqs2', sportif=4.0, age=63, sexe=u'homme', nb_km=4.089626789093018, vitesse=24.407756805419922, attente=0.5),\n",
       " Row(cycliste=u'cycliste_azyuo', sportif=0.0, age=55, sexe=u'femme', nb_km=11.663058280944824, vitesse=7.8741774559021, attente=0.5)]"
      ]
     },
     "execution_count": 268,
     "metadata": {},
     "output_type": "execute_result"
    }
   ],
   "source": [
    "df.take(3)"
   ]
  },
  {
   "cell_type": "code",
   "execution_count": null,
   "metadata": {
    "collapsed": true
   },
   "outputs": [],
   "source": [
    "df."
   ]
  },
  {
   "cell_type": "code",
   "execution_count": 231,
   "metadata": {
    "collapsed": false
   },
   "outputs": [],
   "source": [
    "champs = OrderedDict([(\"station_depart\"     , StringType() ) ,\n",
    "                      (\"cycliste\"           , StringType() ) ,\n",
    "                      (\"velo\"               , StringType() ) ,\n",
    "                      (\"heure_de_depart\"    , FloatType()  ) ,\n",
    "                      (\"heure_de_fin\"       , FloatType()  ) ,\n",
    "                      (\"duree\"              , FloatType()  ) ,\n",
    "                      (\"distance\"           , FloatType()  ) ,\n",
    "                      (\"station_arrivee\"    , StringType() ) ])"
   ]
  },
  {
   "cell_type": "code",
   "execution_count": null,
   "metadata": {
    "collapsed": true
   },
   "outputs": [],
   "source": [
    "fields = [StructField(champ, _type, nullable = True) for champ, _type in champs.iteritems()]\n",
    "schema = StructType(fields)\n"
   ]
  },
  {
   "cell_type": "code",
   "execution_count": 226,
   "metadata": {
    "collapsed": false
   },
   "outputs": [
    {
     "data": {
      "text/plain": [
       "[Row(_1=u'cycliste', _2=u'sportif', _3=u'age', _4=u'sexe', _5=u'nb_km', _6=u'vitesse', _7=u'attente'),\n",
       " Row(_1=u'cycliste_azthv', _2=u'0', _3=u'34', _4=u'femme', _5=u'9.86503821812', _6=u'15.4581576429', _7=u'0.5')]"
      ]
     },
     "execution_count": 226,
     "metadata": {},
     "output_type": "execute_result"
    }
   ],
   "source": [
    "df.take(2)"
   ]
  },
  {
   "cell_type": "code",
   "execution_count": null,
   "metadata": {
    "collapsed": true
   },
   "outputs": [],
   "source": []
  }
 ],
 "metadata": {
  "kernelspec": {
   "display_name": "Python 2",
   "language": "python",
   "name": "python2"
  },
  "language_info": {
   "codemirror_mode": {
    "name": "ipython",
    "version": 2
   },
   "file_extension": ".py",
   "mimetype": "text/x-python",
   "name": "python",
   "nbconvert_exporter": "python",
   "pygments_lexer": "ipython2",
   "version": "2.7.11"
  }
 },
 "nbformat": 4,
 "nbformat_minor": 0
}
