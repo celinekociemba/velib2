{
 "cells": [
  {
   "cell_type": "code",
   "execution_count": 1,
   "metadata": {
    "collapsed": false
   },
   "outputs": [
    {
     "name": "stdout",
     "output_type": "stream",
     "text": [
      "ready\n"
     ]
    }
   ],
   "source": [
    "println(\"ready\")"
   ]
  },
  {
   "cell_type": "markdown",
   "metadata": {},
   "source": [
    "# -3) Créer une sparkSession"
   ]
  },
  {
   "cell_type": "code",
   "execution_count": 2,
   "metadata": {
    "collapsed": false
   },
   "outputs": [],
   "source": [
    "import org.apache.spark.sql.SparkSession\n",
    "val spark = SparkSession.builder().getOrCreate()"
   ]
  },
  {
   "cell_type": "markdown",
   "metadata": {},
   "source": [
    "# -3.1) Importer les méthodes de conversion de type"
   ]
  },
  {
   "cell_type": "code",
   "execution_count": 3,
   "metadata": {
    "collapsed": true
   },
   "outputs": [],
   "source": [
    "import spark.implicits._"
   ]
  },
  {
   "cell_type": "code",
   "execution_count": 4,
   "metadata": {
    "collapsed": false
   },
   "outputs": [
    {
     "data": {
      "text/plain": [
       "org.apache.spark.SparkContext@4b45af19"
      ]
     },
     "execution_count": 4,
     "metadata": {},
     "output_type": "execute_result"
    }
   ],
   "source": [
    "sc"
   ]
  },
  {
   "cell_type": "markdown",
   "metadata": {},
   "source": [
    "# -2) imports"
   ]
  },
  {
   "cell_type": "code",
   "execution_count": 5,
   "metadata": {
    "collapsed": true
   },
   "outputs": [],
   "source": [
    "import org.apache.spark.SparkContext\n",
    "import org.apache.spark.SparkContext\n",
    "import org.apache.spark.SparkConf"
   ]
  },
  {
   "cell_type": "markdown",
   "metadata": {},
   "source": [
    "# -1) refaire un spark context personnalisé"
   ]
  },
  {
   "cell_type": "code",
   "execution_count": 6,
   "metadata": {
    "collapsed": false
   },
   "outputs": [
    {
     "data": {
      "text/plain": [
       "org.apache.spark.SparkConf@1ac24d71"
      ]
     },
     "execution_count": 6,
     "metadata": {},
     "output_type": "execute_result"
    }
   ],
   "source": [
    "val appName = \"rennes\"\n",
    "val master  = \"local[3]\"\n",
    "val conf    = new SparkConf()\n",
    "conf.setAppName(appName)\n",
    "conf.setMaster(master)"
   ]
  },
  {
   "cell_type": "code",
   "execution_count": 7,
   "metadata": {
    "collapsed": false
   },
   "outputs": [
    {
     "data": {
      "text/plain": [
       "local[*]"
      ]
     },
     "execution_count": 7,
     "metadata": {},
     "output_type": "execute_result"
    }
   ],
   "source": [
    "val spark3 = SparkSession.builder().master(\"local[3]\").appName(\"Word Count\").getOrCreate()\n",
    "val sc3    = spark3.sparkContext\n",
    "sc3.master"
   ]
  },
  {
   "cell_type": "code",
   "execution_count": 8,
   "metadata": {
    "collapsed": false
   },
   "outputs": [],
   "source": [
    "val path      = \"./logs_backup/cycliste_cyclistes.csv\"\n",
    "// cyclistes est une RDD\n",
    "val cyclistes = sc.textFile(path)"
   ]
  },
  {
   "cell_type": "code",
   "execution_count": 9,
   "metadata": {
    "collapsed": false
   },
   "outputs": [
    {
     "data": {
      "text/plain": [
       "1764"
      ]
     },
     "execution_count": 9,
     "metadata": {},
     "output_type": "execute_result"
    }
   ],
   "source": [
    "cyclistes.count()"
   ]
  },
  {
   "cell_type": "code",
   "execution_count": 10,
   "metadata": {
    "collapsed": false
   },
   "outputs": [
    {
     "data": {
      "text/plain": [
       "Array(cycliste_azetu,6,31,femme,8.11111516393,21.9593538999,100, cycliste_aztv4,2,19,femme,10.5299319612,22.1102025653,8)"
      ]
     },
     "execution_count": 10,
     "metadata": {},
     "output_type": "execute_result"
    }
   ],
   "source": [
    "cyclistes.take(2)"
   ]
  },
  {
   "cell_type": "markdown",
   "metadata": {},
   "source": [
    "# 1) Créer une première rdd"
   ]
  },
  {
   "cell_type": "code",
   "execution_count": 11,
   "metadata": {
    "collapsed": false
   },
   "outputs": [
    {
     "data": {
      "text/plain": [
       "Array(velo_ael10_1486042024.11,3,1486042054.48,aepfl,0.530143229629,0.688828593572)"
      ]
     },
     "execution_count": 11,
     "metadata": {},
     "output_type": "execute_result"
    }
   ],
   "source": [
    "val velos = sc.textFile(\"./logs/velos_etats.csv\")\n",
    "velos.take(1)"
   ]
  },
  {
   "cell_type": "code",
   "execution_count": 12,
   "metadata": {
    "collapsed": false
   },
   "outputs": [
    {
     "name": "stdout",
     "output_type": "stream",
     "text": [
      "fichier = 6390, lignes non vides =  3195\n"
     ]
    }
   ],
   "source": [
    "val velos2    = velos.filter(!_.isEmpty() )\n",
    "val nb_lignes = velos.count()\n",
    "// Remarque : en scala il faut faire précéder les chaines par la lettre [s] pour pouvoir afficher la valeur de variables\n",
    "println(s\"fichier = ${velos.count()}, lignes non vides =  ${velos2.count()}\")"
   ]
  },
  {
   "cell_type": "markdown",
   "metadata": {},
   "source": [
    "# 2) convertir une RDD en RowRDD\n",
    "## 2.0) importer les librairies sql :Row et les types de conversion des strings"
   ]
  },
  {
   "cell_type": "code",
   "execution_count": 13,
   "metadata": {
    "collapsed": true
   },
   "outputs": [],
   "source": [
    "import org.apache.spark.sql.Row;\n",
    "import org.apache.spark.sql.types._;\n",
    "import spark.implicits._"
   ]
  },
  {
   "cell_type": "markdown",
   "metadata": {},
   "source": [
    "## 2.1) Transformer les lignes en tableau d'objet spécifiques : les 'Row'"
   ]
  },
  {
   "cell_type": "code",
   "execution_count": 14,
   "metadata": {
    "collapsed": true
   },
   "outputs": [],
   "source": [
    "import java.sql.Timestamp"
   ]
  },
  {
   "cell_type": "code",
   "execution_count": 15,
   "metadata": {
    "collapsed": false
   },
   "outputs": [
    {
     "data": {
      "text/plain": [
       "Array([velo_ael10_1486042024.11,3,2017-02-02 13:27:34.0,aepfl,0.5301432])"
      ]
     },
     "execution_count": 15,
     "metadata": {},
     "output_type": "execute_result"
    }
   ],
   "source": [
    " val rowRDD = velos2.map(_.split(\",\")).map(champs => Row( champs(0), \n",
    "                                                         champs(1).toInt, \n",
    "                                                         new Timestamp(champs(2).substring(0,10).toLong*1000),\n",
    "                                                         champs(3),\n",
    "                                                         champs(4).toFloat))\n",
    "rowRDD.take(1)"
   ]
  },
  {
   "cell_type": "markdown",
   "metadata": {},
   "source": [
    "# 3) définir le schéma de la table vélo"
   ]
  },
  {
   "cell_type": "code",
   "execution_count": 16,
   "metadata": {
    "collapsed": false
   },
   "outputs": [],
   "source": [
    "var champs = List(  StructField(\"nom\"           , StringType    , true),\n",
    "                    StructField(\"indice_message\", IntegerType   , true),\n",
    "                    StructField(\"time\"          , TimestampType , true),\n",
    "                    StructField(\"station\"       , StringType    , true),\n",
    "                    StructField(\"performance\"   , FloatType     , true))\n",
    "var schema = StructType(champs)"
   ]
  },
  {
   "cell_type": "markdown",
   "metadata": {},
   "source": [
    "# 4) créer une DataFrame via spark Session"
   ]
  },
  {
   "cell_type": "code",
   "execution_count": 17,
   "metadata": {
    "collapsed": true
   },
   "outputs": [],
   "source": [
    "import org.apache.spark.sql.SparkSession\n",
    "val spark = SparkSession.builder().getOrCreate()"
   ]
  },
  {
   "cell_type": "code",
   "execution_count": 18,
   "metadata": {
    "collapsed": false
   },
   "outputs": [
    {
     "data": {
      "text/plain": [
       "[nom: string, indice_message: int ... 3 more fields]"
      ]
     },
     "execution_count": 18,
     "metadata": {},
     "output_type": "execute_result"
    }
   ],
   "source": [
    "val veloDF = spark.createDataFrame(rowRDD, schema)\n",
    "veloDF"
   ]
  },
  {
   "cell_type": "code",
   "execution_count": 19,
   "metadata": {
    "collapsed": false
   },
   "outputs": [
    {
     "data": {
      "text/plain": [
       "Array([velo_ael10_1486042024.11,3,2017-02-02 13:27:34.0,aepfl,0.5301432])"
      ]
     },
     "execution_count": 19,
     "metadata": {},
     "output_type": "execute_result"
    }
   ],
   "source": [
    "veloDF.take(1)"
   ]
  },
  {
   "cell_type": "markdown",
   "metadata": {},
   "source": [
    "# 3.1) créer un sqlContext"
   ]
  },
  {
   "cell_type": "code",
   "execution_count": 20,
   "metadata": {
    "collapsed": true
   },
   "outputs": [],
   "source": [
    "val sqlContext = new org.apache.spark.sql.SQLContext(sc)"
   ]
  },
  {
   "cell_type": "code",
   "execution_count": 21,
   "metadata": {
    "collapsed": false
   },
   "outputs": [
    {
     "data": {
      "text/plain": [
       "Array()"
      ]
     },
     "execution_count": 21,
     "metadata": {},
     "output_type": "execute_result"
    }
   ],
   "source": [
    "sqlContext.tableNames()"
   ]
  },
  {
   "cell_type": "markdown",
   "metadata": {},
   "source": [
    "# 2.5) Enregistrer la DataFrame en tant que table"
   ]
  },
  {
   "cell_type": "code",
   "execution_count": 22,
   "metadata": {
    "collapsed": false
   },
   "outputs": [],
   "source": [
    "val table_velos = \"velos\"\n",
    "veloDF.registerTempTable(table_velos)"
   ]
  },
  {
   "cell_type": "markdown",
   "metadata": {},
   "source": [
    "# 2.6) Requêter la table avec du SQL"
   ]
  },
  {
   "cell_type": "markdown",
   "metadata": {},
   "source": [
    "##### requete 01 : compte le nb de lignes"
   ]
  },
  {
   "cell_type": "code",
   "execution_count": 23,
   "metadata": {
    "collapsed": false
   },
   "outputs": [
    {
     "name": "stdout",
     "output_type": "stream",
     "text": [
      "+--------------------+--------------+--------------------+-------+-----------+\n",
      "|                 nom|indice_message|                time|station|performance|\n",
      "+--------------------+--------------+--------------------+-------+-----------+\n",
      "|velo_ael10_148604...|             3|2017-02-02 13:27:...|  aepfl|  0.5301432|\n",
      "|velo_ael10_148604...|             2|2017-02-02 13:27:...|  aepfl|  0.5301432|\n",
      "|velo_ael10_148604...|             1|2017-02-02 13:27:...|  aryn3|  0.5301432|\n",
      "|velo_ael10_148604...|             0|2017-02-02 13:27:...|  azyio|  0.5301432|\n",
      "|velo_aej25_148604...|             3|2017-02-02 13:27:...|  arpsd| 0.74110186|\n",
      "|velo_aej25_148604...|             2|2017-02-02 13:27:...|  aryuw| 0.74110186|\n",
      "|velo_aej25_148604...|             1|2017-02-02 13:27:...|  azyu4| 0.74110186|\n",
      "|velo_aej25_148604...|             0|2017-02-02 13:27:...|  azhkx| 0.74110186|\n",
      "|velo_artdw_148604...|             3|2017-02-02 13:27:...|  azhkx|        1.0|\n",
      "|velo_artdw_148604...|             2|2017-02-02 13:27:...|  azys7|        1.0|\n",
      "|velo_artdw_148604...|             0|2017-02-02 13:27:...|  azyio|  0.9577676|\n",
      "|velo_aelmw_148604...|             2|2017-02-02 13:27:...|  azys7|  1.1612737|\n",
      "|velo_aelmw_148604...|             1|2017-02-02 13:27:...|  aelmx|  1.1612737|\n",
      "|velo_aelmw_148604...|             0|2017-02-02 13:27:...|  azyio|  1.1612737|\n",
      "|velo_aeqd3_148604...|             0|2017-02-02 13:27:...|  aelmx| 0.35260323|\n",
      "|velo_aedl8_148604...|            16|2017-02-02 13:27:...|  ariw7|        1.0|\n",
      "|velo_aedl8_148604...|            15|2017-02-02 13:27:...|  azrop|        1.0|\n",
      "|velo_azex9_148604...|            14|2017-02-02 13:27:...|  ariw7|        1.0|\n",
      "|velo_azex9_148604...|            13|2017-02-02 13:27:...|  aefb2|        1.0|\n",
      "|velo_azex9_148604...|            12|2017-02-02 13:27:...|  azys7|        1.0|\n",
      "+--------------------+--------------+--------------------+-------+-----------+\n",
      "only showing top 20 rows\n",
      "\n"
     ]
    }
   ],
   "source": [
    "val requete = s\"Select * from ${table_velos}\"\n",
    "sqlContext.sql(requete).show()"
   ]
  },
  {
   "cell_type": "markdown",
   "metadata": {},
   "source": [
    "##### requete 02 : nb de nom distincts"
   ]
  },
  {
   "cell_type": "code",
   "execution_count": 24,
   "metadata": {
    "collapsed": false
   },
   "outputs": [
    {
     "name": "stdout",
     "output_type": "stream",
     "text": [
      "+-------------------+\n",
      "|count(DISTINCT nom)|\n",
      "+-------------------+\n",
      "|                357|\n",
      "+-------------------+\n",
      "\n"
     ]
    }
   ],
   "source": [
    "val requete = s\"Select count( distinct nom) from ${table_velos}\"\n",
    "sqlContext.sql(requete).show()"
   ]
  },
  {
   "cell_type": "markdown",
   "metadata": {},
   "source": [
    "##### requete 03 : performance moyenne"
   ]
  },
  {
   "cell_type": "code",
   "execution_count": 25,
   "metadata": {
    "collapsed": false
   },
   "outputs": [
    {
     "name": "stdout",
     "output_type": "stream",
     "text": [
      "+------------------+\n",
      "|  avg(performance)|\n",
      "+------------------+\n",
      "|0.7950239696506417|\n",
      "+------------------+\n",
      "\n"
     ]
    }
   ],
   "source": [
    "// performance moyenne : \n",
    "val requete = s\"Select mean( performance) from ${table_velos}\"\n",
    "sqlContext.sql(requete).show()"
   ]
  },
  {
   "cell_type": "markdown",
   "metadata": {},
   "source": [
    "##### requete 05 : conversion de timestamp en date"
   ]
  },
  {
   "cell_type": "code",
   "execution_count": 33,
   "metadata": {
    "collapsed": false
   },
   "outputs": [
    {
     "name": "stdout",
     "output_type": "stream",
     "text": [
      "+--------------------+--------------------+--------------------+\n",
      "|                 nom|     premiere_sortie|     derniere_sortie|\n",
      "+--------------------+--------------------+--------------------+\n",
      "|velo_ario0_148604...|2017-02-02 13:27:...|2017-02-02 13:27:...|\n",
      "|velo_azrjn_148604...|2017-02-02 13:27:...|2017-02-02 13:27:...|\n",
      "|velo_azid4_148604...|2017-02-02 13:27:...|2017-02-02 13:27:...|\n",
      "|velo_arshx_148604...|2017-02-02 13:27:...|2017-02-02 13:27:...|\n",
      "|velo_azjwn_148604...|2017-02-02 13:27:...|2017-02-02 13:27:...|\n",
      "|velo_azrln_148604...|2017-02-02 13:28:...|2017-02-02 13:28:...|\n",
      "|velo_azfx7_148604...|2017-02-02 13:28:...|2017-02-02 13:28:...|\n",
      "|velo_artsw_148604...|2017-02-02 13:28:...|2017-02-02 13:28:...|\n",
      "|velo_aryi1_148604...|2017-02-02 13:27:...|2017-02-02 13:27:...|\n",
      "|velo_aetin_148604...|2017-02-02 13:27:...|2017-02-02 13:27:...|\n",
      "|velo_ardx6_148604...|2017-02-02 13:27:...|2017-02-02 13:27:...|\n",
      "|velo_arpc1_148604...|2017-02-02 13:28:...|2017-02-02 13:28:...|\n",
      "|velo_aeqg2_148604...|2017-02-02 13:28:...|2017-02-02 13:28:...|\n",
      "|velo_azfg7_148604...|2017-02-02 13:27:...|2017-02-02 13:27:...|\n",
      "|velo_azrwc_148604...|2017-02-02 13:27:...|2017-02-02 13:27:...|\n",
      "|velo_artps_148604...|2017-02-02 13:28:...|2017-02-02 13:28:...|\n",
      "|velo_arts2_148604...|2017-02-02 13:28:...|2017-02-02 13:28:...|\n",
      "|velo_aetlv_148604...|2017-02-02 13:28:...|2017-02-02 13:28:...|\n",
      "|velo_azm58_148604...|2017-02-02 13:27:...|2017-02-02 13:27:...|\n",
      "|velo_aesn5_148604...|2017-02-02 13:27:...|2017-02-02 13:27:...|\n",
      "+--------------------+--------------------+--------------------+\n",
      "only showing top 20 rows\n",
      "\n"
     ]
    }
   ],
   "source": [
    "val requete = s\"\"\"\n",
    "Select  nom,\n",
    "        min(time) as premiere_sortie, \n",
    "        max(time) as derniere_sortie                \n",
    "        from ${table_velos}\n",
    "        group by nom\n",
    "\"\"\"\n",
    "sqlContext.sql(requete).show()"
   ]
  },
  {
   "cell_type": "markdown",
   "metadata": {
    "collapsed": true
   },
   "source": [
    "# 3) reading csv"
   ]
  },
  {
   "cell_type": "code",
   "execution_count": 37,
   "metadata": {
    "collapsed": false
   },
   "outputs": [],
   "source": [
    "// 1) création de la structure\n",
    "var champs         = List(  StructField(\"nom\"    , StringType, true) ,\n",
    "                            StructField(\"heure\"  , StringType, true) ,\n",
    "                            StructField(\"velo\"   , StringType, true) ,\n",
    "                            StructField(\"action\" , StringType, true) )\n",
    "var schema         = StructType(champs)\n",
    "\n",
    "// 2) lecture des données\n",
    "val path           = \"./logs_backup/cycliste_prises.csv\"\n",
    "val DataSet_prise  = sqlContext.read.schema(schema).csv(path)\n",
    "\n",
    "// 3) nommage de la table\n",
    "val table_prises   = \"prises\"\n",
    "DataSet_prise.registerTempTable(table_prises)\n"
   ]
  },
  {
   "cell_type": "code",
   "execution_count": 35,
   "metadata": {
    "collapsed": false
   },
   "outputs": [],
   "source": [
    "var champs = List(  StructField(\"cyclise\"  , StringType, true),\n",
    "                    StructField(\"heure\"    , StringType, true),\n",
    "                    StructField(\"rendu\"    , StringType, true),\n",
    "                    StructField(\"duree\"    , StringType, true),\n",
    "                    StructField(\"velo\"     , StringType, true))\n",
    "var r_schema      = StructType(champs)\n",
    "val DataSet_rendu = sqlContext.read.schema(r_schema).csv(\"./logs_backup/cycliste_rendu.csv\")\n",
    "val table_rendu   = \"rendus\"\n",
    "DataSet_rendu.registerTempTable(table_rendu)"
   ]
  },
  {
   "cell_type": "code",
   "execution_count": 36,
   "metadata": {
    "collapsed": false
   },
   "outputs": [
    {
     "name": "stdout",
     "output_type": "stream",
     "text": [
      "+--------------+-------------+-------------+-------------+-------------+-------------+----------+\n",
      "|           nom|        heure|        heure|        rendu|        duree|        heure|      velo|\n",
      "+--------------+-------------+-------------+-------------+-------------+-------------+----------+\n",
      "|cycliste_aze10|1485439668.61|1485439670.98|1485439671.12|5.54097819705|1485439668.61|velo_artu3|\n",
      "|cycliste_aze10|1485439719.74|1485439697.71|1485439697.95|5.65514540188|1485439719.74|velo_azk10|\n",
      "|cycliste_aze10|1485439719.74|1485440167.85|1485440168.35|7.70852595438|1485439719.74|velo_azk10|\n",
      "|cycliste_aze10|1485439757.55|1485440363.17|1485440363.83|10.7317745762|1485439757.55|velo_azru2|\n",
      "|cycliste_aze10|1485439783.18| 1485439785.9|1485439786.53| 10.572863395|1485439783.18|velo_aryv3|\n",
      "|cycliste_aze10|1485439783.18|1485440065.62|1485440066.32|4.89870374148|1485439783.18|velo_aryv3|\n",
      "|cycliste_aze10|1485439821.97|1485439706.32|1485439706.32|            0|1485439821.97|velo_azrjc|\n",
      "|cycliste_aze10|1485439834.83|1485439827.86|1485439828.29|4.64467495337|1485439834.83|velo_aryv7|\n",
      "|cycliste_aze10|1485439834.83|1485439830.88|1485439831.04|1.75312470608|1485439834.83|velo_aryv7|\n",
      "|cycliste_aze10|1485439847.64|1485440047.88|1485440048.92| 13.375818016|1485439847.64|velo_az235|\n",
      "|cycliste_aze10|1485439885.52|1485439719.21|1485439719.21|            0|1485439885.52|velo_aetug|\n",
      "|cycliste_aze10|1485439885.52|1485439886.88|1485439887.41|8.61078588535|1485439885.52|velo_aetug|\n",
      "|cycliste_aze10|1485439911.88|1485439968.42|1485439968.69|5.13984108637|1485439911.88|velo_aepdh|\n",
      "|cycliste_aze10|1485439911.88| 1485440483.4| 1485440483.4|            0|1485439911.88|velo_aepdh|\n",
      "|cycliste_aze10|1485439924.92| 1485439882.7| 1485439882.7|            0|1485439924.92|velo_aerp5|\n",
      "|cycliste_aze10|1485439978.26|1485440001.92| 1485440003.3|11.5721240605|1485439978.26|velo_arqx5|\n",
      "|cycliste_aze10|1485440083.15|1485440074.85| 1485440077.7|10.5598839314|1485440083.15|velo_aefb2|\n",
      "|cycliste_aze10|1485440189.57|1485440208.37|1485440209.65|14.6828150854|1485440189.57|velo_artu7|\n",
      "|cycliste_aze10|1485440282.23|1485439683.37|1485439683.76|7.02829224966|1485440282.23|velo_azrfx|\n",
      "|cycliste_aze10|1485440323.22|1485439691.61| 1485439691.8|7.04687841266|1485440323.22|velo_azdw1|\n",
      "+--------------+-------------+-------------+-------------+-------------+-------------+----------+\n",
      "only showing top 20 rows\n",
      "\n"
     ]
    }
   ],
   "source": [
    "val requete = s\"\"\"  SELECT distinct  p.nom     , \n",
    "                                     p.heure   , \n",
    "                                     r.heure   ,\n",
    "                                     r.rendu   ,\n",
    "                                     r.duree   ,\n",
    "                                     p.heure   , \n",
    "                                     r.velo\n",
    "                    FROM        prises AS p \n",
    "                    INNER JOIN  rendus AS r \n",
    "                    ON          p.velo = r.velo\n",
    "\"\"\"\n",
    "sqlContext.sql(requete).show()"
   ]
  },
  {
   "cell_type": "code",
   "execution_count": null,
   "metadata": {
    "collapsed": true
   },
   "outputs": [],
   "source": []
  },
  {
   "cell_type": "code",
   "execution_count": null,
   "metadata": {
    "collapsed": true
   },
   "outputs": [],
   "source": []
  }
 ],
 "metadata": {
  "kernelspec": {
   "display_name": "Apache Toree - Scala",
   "language": "scala",
   "name": "apache_toree_scala"
  },
  "language_info": {
   "file_extension": ".scala",
   "name": "scala",
   "version": "2.11.8"
  }
 },
 "nbformat": 4,
 "nbformat_minor": 2
}
