{
 "cells": [
  {
   "cell_type": "markdown",
   "metadata": {},
   "source": [
    "# -1) Imports"
   ]
  },
  {
   "cell_type": "code",
   "execution_count": 1,
   "metadata": {
    "collapsed": true
   },
   "outputs": [],
   "source": [
    "import pandas as pd\n",
    "\n",
    "from sklearn                  import datasets\n",
    "\n",
    "from pyspark.sql              import Row\n",
    "from pyspark.sql.types        import Row\n",
    "\n",
    "from pyspark.ml               import Pipeline\n",
    "\n",
    "from pyspark.ml.feature       import VectorAssembler\n",
    "\n",
    "from pyspark.ml.clustering    import KMeans\n",
    "from pyspark.ml.clustering    import KMeansModel\n",
    "\n",
    "from pyspark.mllib.linalg     import Vectors\n",
    "from pyspark.mllib.linalg     import SparseVector\n",
    "\n",
    "from pyspark.mllib.regression import LabeledPoint"
   ]
  },
  {
   "cell_type": "markdown",
   "metadata": {},
   "source": [
    "# 0) Spark 2.0 "
   ]
  },
  {
   "cell_type": "code",
   "execution_count": 244,
   "metadata": {
    "collapsed": true
   },
   "outputs": [],
   "source": [
    "spark = SparkSession\\\n",
    "        .builder\\\n",
    "        .appName(\"Boston\")\\\n",
    "        .getOrCreate()"
   ]
  },
  {
   "cell_type": "markdown",
   "metadata": {},
   "source": [
    "# 1) Imports de données : scikit learn-> pandas"
   ]
  },
  {
   "cell_type": "code",
   "execution_count": 2,
   "metadata": {
    "collapsed": false
   },
   "outputs": [],
   "source": [
    "#scikit-learn et pandas\n",
    "boston        = datasets.load_boston()\n",
    "data          = boston['data']\n",
    "features      = boston['feature_names']\n",
    "Y             = boston['target']\n",
    "pd_df         = pd.DataFrame(data)\n",
    "pd_df.columns = features\n",
    "pd_df['Y']    = Y"
   ]
  },
  {
   "cell_type": "code",
   "execution_count": 3,
   "metadata": {
    "collapsed": false
   },
   "outputs": [
    {
     "name": "stdout",
     "output_type": "stream",
     "text": [
      "Boston House Prices dataset\n",
      "\n",
      "Notes\n",
      "------\n",
      "Data Set Characteristics:  \n",
      "\n",
      "    :Number of Instances: 506 \n",
      "\n",
      "    :Number of Attributes: 13 numeric/categorical predictive\n",
      "    \n",
      "    :Median Value (attribute 14) is usually the target\n",
      "\n",
      "    :Attribute Information (in order):\n",
      "        - CRIM     per capita crime rate by town\n",
      "        - ZN       proportion of residential land zoned for lots over 25,000 sq.ft.\n",
      "        - INDUS    proportion of non-retail business acres per town\n",
      "        - CHAS     Charles River dummy variable (= 1 if tract bounds river; 0 otherwise)\n",
      "        - NOX      nitric oxides concentration (parts per 10 million)\n",
      "        - RM       average number of rooms per dwelling\n",
      "        - AGE      proportion of owner-occupied units built prior to 1940\n",
      "        - DIS      weighted distances to five Boston employment centres\n",
      "        - RAD      index of accessibility to radial highways\n",
      "        - TAX      full-value property-tax rate per $10,000\n",
      "        - PTRATIO  pupil-teacher ratio by town\n",
      "        - B        1000(Bk - 0.63)^2 where Bk is the proportion of blacks by town\n",
      "        - LSTAT    % lower status of the population\n",
      "        - MEDV     Median value of owner-occupied homes in $1000's\n",
      "\n",
      "    :Missing Attribute Values: None\n",
      "\n",
      "    :Creator: Harrison, D. and Rubinfeld, D.L.\n",
      "\n",
      "This is a copy of UCI ML housing dataset.\n",
      "http://archive.ics.uci.edu/ml/datasets/Housing\n",
      "\n",
      "\n",
      "This dataset was taken from the StatLib library which is maintained at Carnegie Mellon University.\n",
      "\n",
      "The Boston house-price data of Harrison, D. and Rubinfeld, D.L. 'Hedonic\n",
      "prices and the demand for clean air', J. Environ. Economics & Management,\n",
      "vol.5, 81-102, 1978.   Used in Belsley, Kuh & Welsch, 'Regression diagnostics\n",
      "...', Wiley, 1980.   N.B. Various transformations are used in the table on\n",
      "pages 244-261 of the latter.\n",
      "\n",
      "The Boston house-price data has been used in many machine learning papers that address regression\n",
      "problems.   \n",
      "     \n",
      "**References**\n",
      "\n",
      "   - Belsley, Kuh & Welsch, 'Regression diagnostics: Identifying Influential Data and Sources of Collinearity', Wiley, 1980. 244-261.\n",
      "   - Quinlan,R. (1993). Combining Instance-Based and Model-Based Learning. In Proceedings on the Tenth International Conference of Machine Learning, 236-243, University of Massachusetts, Amherst. Morgan Kaufmann.\n",
      "   - many more! (see http://archive.ics.uci.edu/ml/datasets/Housing)\n",
      "\n"
     ]
    }
   ],
   "source": [
    "print boston[\"DESCR\"]"
   ]
  },
  {
   "cell_type": "markdown",
   "metadata": {},
   "source": [
    "# 1.1) Création d'un ensemble d'apprentissage, et de test (en pandas)"
   ]
  },
  {
   "cell_type": "code",
   "execution_count": 247,
   "metadata": {
    "collapsed": true
   },
   "outputs": [],
   "source": [
    "from sklearn.cross_validation import train_test_split"
   ]
  },
  {
   "cell_type": "code",
   "execution_count": 248,
   "metadata": {
    "collapsed": false
   },
   "outputs": [],
   "source": [
    "train, test = train_test_split(pd_df)"
   ]
  },
  {
   "cell_type": "code",
   "execution_count": 249,
   "metadata": {
    "collapsed": false
   },
   "outputs": [
    {
     "data": {
      "text/plain": [
       "(379, 14)"
      ]
     },
     "execution_count": 249,
     "metadata": {},
     "output_type": "execute_result"
    }
   ],
   "source": [
    "train.shape"
   ]
  },
  {
   "cell_type": "code",
   "execution_count": 250,
   "metadata": {
    "collapsed": false
   },
   "outputs": [
    {
     "data": {
      "text/plain": [
       "(127, 14)"
      ]
     },
     "execution_count": 250,
     "metadata": {},
     "output_type": "execute_result"
    }
   ],
   "source": [
    "test.shape"
   ]
  },
  {
   "cell_type": "markdown",
   "metadata": {},
   "source": [
    "# 2) Pandas -> Spark (pour les deux jeux : test + train)"
   ]
  },
  {
   "cell_type": "code",
   "execution_count": 251,
   "metadata": {
    "collapsed": false
   },
   "outputs": [],
   "source": [
    "#spark_df est une matrice d'objet 'ROW'\n",
    "spark_train = spark.createDataFrame(train)\n",
    "spark_test  = spark.createDataFrame(test)"
   ]
  },
  {
   "cell_type": "code",
   "execution_count": 252,
   "metadata": {
    "collapsed": false
   },
   "outputs": [
    {
     "data": {
      "text/plain": [
       "[Row(CRIM=0.09512, ZN=0.0, INDUS=12.83, CHAS=0.0, NOX=0.437, RM=6.286, AGE=45.0, DIS=4.5026, RAD=5.0, TAX=398.0, PTRATIO=18.7, B=383.23, LSTAT=8.94, Y=21.4),\n",
       " Row(CRIM=0.22876, ZN=0.0, INDUS=8.56, CHAS=0.0, NOX=0.52, RM=6.405, AGE=85.4, DIS=2.7147, RAD=5.0, TAX=384.0, PTRATIO=20.9, B=70.8, LSTAT=10.63, Y=18.6),\n",
       " Row(CRIM=0.44178, ZN=0.0, INDUS=6.2, CHAS=0.0, NOX=0.504, RM=6.552, AGE=21.4, DIS=3.3751, RAD=8.0, TAX=307.0, PTRATIO=17.4, B=380.34, LSTAT=3.76, Y=31.5)]"
      ]
     },
     "execution_count": 252,
     "metadata": {},
     "output_type": "execute_result"
    }
   ],
   "source": [
    "spark_train.take(3)"
   ]
  },
  {
   "cell_type": "code",
   "execution_count": 253,
   "metadata": {
    "collapsed": false
   },
   "outputs": [
    {
     "data": {
      "text/plain": [
       "[Row(CRIM=0.05789, ZN=12.5, INDUS=6.07, CHAS=0.0, NOX=0.409, RM=5.878, AGE=21.4, DIS=6.498, RAD=4.0, TAX=345.0, PTRATIO=18.9, B=396.21, LSTAT=8.1, Y=22.0),\n",
       " Row(CRIM=4.22239, ZN=0.0, INDUS=18.1, CHAS=1.0, NOX=0.77, RM=5.803, AGE=89.0, DIS=1.9047, RAD=24.0, TAX=666.0, PTRATIO=20.2, B=353.04, LSTAT=14.64, Y=16.8),\n",
       " Row(CRIM=0.11132, ZN=0.0, INDUS=27.74, CHAS=0.0, NOX=0.609, RM=5.983, AGE=83.5, DIS=2.1099, RAD=4.0, TAX=711.0, PTRATIO=20.1, B=396.9, LSTAT=13.35, Y=20.1)]"
      ]
     },
     "execution_count": 253,
     "metadata": {},
     "output_type": "execute_result"
    }
   ],
   "source": [
    "spark_test.take(3)"
   ]
  },
  {
   "cell_type": "markdown",
   "metadata": {},
   "source": [
    "# 3) Création d'un vecteur de features"
   ]
  },
  {
   "cell_type": "code",
   "execution_count": 254,
   "metadata": {
    "collapsed": false
   },
   "outputs": [],
   "source": [
    "# parametres\n",
    "col_label        = \"Y\"\n",
    "ignore           = [col_label]\n",
    "inputCols        = [x for x in spark_train.columns if x not in ignore]\n",
    "outputCol        = 'features'\n",
    "FeaturesCol      = outputCol\n",
    "predictionCol    = \"prediction\"\n",
    "\n",
    "# 3.1) Créer une colonne de vecteurs à partir des objets 'Row‘\n",
    "# transformer\n",
    "assembler        = VectorAssembler(inputCols = inputCols,\n",
    "                                   outputCol = outputCol)\n",
    "# 4.1) trasnformation (via le transformer)\n",
    "transformed_train = assembler.transform(spark_train)\n",
    "transformed_test  = assembler.transform(spark_test)"
   ]
  },
  {
   "cell_type": "code",
   "execution_count": 255,
   "metadata": {
    "collapsed": false
   },
   "outputs": [
    {
     "data": {
      "text/plain": [
       "[Row(CRIM=0.09512, ZN=0.0, INDUS=12.83, CHAS=0.0, NOX=0.437, RM=6.286, AGE=45.0, DIS=4.5026, RAD=5.0, TAX=398.0, PTRATIO=18.7, B=383.23, LSTAT=8.94, Y=21.4, features=DenseVector([0.0951, 0.0, 12.83, 0.0, 0.437, 6.286, 45.0, 4.5026, 5.0, 398.0, 18.7, 383.23, 8.94]))]"
      ]
     },
     "execution_count": 255,
     "metadata": {},
     "output_type": "execute_result"
    }
   ],
   "source": [
    "transformed_train.take(1)"
   ]
  },
  {
   "cell_type": "markdown",
   "metadata": {},
   "source": [
    "# 4) Modélisation"
   ]
  },
  {
   "cell_type": "code",
   "execution_count": 256,
   "metadata": {
    "collapsed": true
   },
   "outputs": [],
   "source": [
    "from pyspark.ml.regression import DecisionTreeRegressor\n"
   ]
  },
  {
   "cell_type": "code",
   "execution_count": 257,
   "metadata": {
    "collapsed": true
   },
   "outputs": [],
   "source": [
    "arbreDeDecision = DecisionTreeRegressor(featuresCol=outputCol, labelCol=col_label)\n"
   ]
  },
  {
   "cell_type": "markdown",
   "metadata": {},
   "source": [
    "# 4.1) on modélise sur le jeu d'apprentissage"
   ]
  },
  {
   "cell_type": "code",
   "execution_count": 258,
   "metadata": {
    "collapsed": false
   },
   "outputs": [],
   "source": [
    "arbreDeDecision = arbreDeDecision.fit(transformed_train)"
   ]
  },
  {
   "cell_type": "markdown",
   "metadata": {},
   "source": [
    "# 4.2) on peut prédire les deux jeux"
   ]
  },
  {
   "cell_type": "markdown",
   "metadata": {},
   "source": [
    "### 4.2.1) prédiction sur le jeu d'apprentissage"
   ]
  },
  {
   "cell_type": "code",
   "execution_count": 259,
   "metadata": {
    "collapsed": false
   },
   "outputs": [],
   "source": [
    "predicted_train   = arbreDeDecision.transform(transformed_train)"
   ]
  },
  {
   "cell_type": "code",
   "execution_count": 260,
   "metadata": {
    "collapsed": false
   },
   "outputs": [
    {
     "data": {
      "text/plain": [
       "[Row(Y=21.4, prediction=24.75471698113208),\n",
       " Row(Y=18.6, prediction=16.566666666666666),\n",
       " Row(Y=31.5, prediction=27.564705882352943)]"
      ]
     },
     "execution_count": 260,
     "metadata": {},
     "output_type": "execute_result"
    }
   ],
   "source": [
    "predicted_train.select([col_label, predictionCol]).take(3)"
   ]
  },
  {
   "cell_type": "markdown",
   "metadata": {},
   "source": [
    "### 4.2.2) prédiction sur le jeux de test"
   ]
  },
  {
   "cell_type": "code",
   "execution_count": 261,
   "metadata": {
    "collapsed": true
   },
   "outputs": [],
   "source": [
    "predicted_test = arbreDeDecision.transform(transformed_test)\n",
    "    "
   ]
  },
  {
   "cell_type": "code",
   "execution_count": null,
   "metadata": {
    "collapsed": false
   },
   "outputs": [],
   "source": [
    "predicted_test.select([col_label, predictionCol]).take(3)\n"
   ]
  },
  {
   "cell_type": "markdown",
   "metadata": {},
   "source": [
    "## 4.3) evaluation de la modélisation"
   ]
  },
  {
   "cell_type": "code",
   "execution_count": 263,
   "metadata": {
    "collapsed": true
   },
   "outputs": [],
   "source": [
    "from pyspark.ml.evaluation import RegressionEvaluator"
   ]
  },
  {
   "cell_type": "code",
   "execution_count": 264,
   "metadata": {
    "collapsed": false
   },
   "outputs": [
    {
     "name": "stdout",
     "output_type": "stream",
     "text": [
      "-----\n",
      "metric :  rmse\n",
      "train  :  2.7\n",
      "test   :  3.8\n",
      "-----\n",
      "metric :  r2\n",
      "train  :  0.92\n",
      "test   :  0.81\n",
      "-----\n",
      "metric :  mae\n",
      "train  :  2.0\n",
      "test   :  2.5\n",
      "-----\n",
      "metric :  mse\n",
      "train  :  7.3\n",
      "test   :  1.4e+01\n"
     ]
    }
   ],
   "source": [
    "metrics    = [\"rmse\", \"r2\", \"mae\", \"mse\"]\n",
    "for metric in  metrics:\n",
    "    evaluation = RegressionEvaluator(predictionCol=predictionCol, labelCol=col_label, metricName=metric)\n",
    "    print \"-\"*5\n",
    "    print \"metric : \", metric\n",
    "    print \"train  : \", \"{:0.2}\".format(evaluation.evaluate(predicted_train))\n",
    "    print \"test   : \", \"{:0.2}\".format(evaluation.evaluate(predicted_test))"
   ]
  },
  {
   "cell_type": "markdown",
   "metadata": {},
   "source": [
    "# 4.4) effet de la variation du nombre d'arbres"
   ]
  },
  {
   "cell_type": "code",
   "execution_count": 265,
   "metadata": {
    "collapsed": true
   },
   "outputs": [],
   "source": [
    "import time"
   ]
  },
  {
   "cell_type": "code",
   "execution_count": 266,
   "metadata": {
    "collapsed": false
   },
   "outputs": [
    {
     "name": "stdout",
     "output_type": "stream",
     "text": [
      "maxDepth 0 \tr2      -0.00083\n",
      "maxDepth 1 \tr2      0.42\n",
      "maxDepth 2 \tr2      0.76\n",
      "maxDepth 3 \tr2      0.81\n",
      "maxDepth 4 \tr2      0.82\n",
      "maxDepth 5 \tr2      0.81\n",
      "maxDepth 6 \tr2      0.83\n",
      "maxDepth 7 \tr2      0.81\n",
      "maxDepth 8 \tr2      0.81\n",
      "maxDepth 9 \tr2      0.8\n",
      "maxDepth 10 \tr2      0.8\n",
      "maxDepth 11 \tr2      0.8\n",
      "maxDepth 12 \tr2      0.8\n",
      "maxDepth 13 \tr2      0.8\n",
      "maxDepth 14 \tr2      0.79\n",
      "maxDepth 15 \tr2      0.8\n",
      "maxDepth 16 \tr2      0.8\n",
      "maxDepth 17 \tr2      0.8\n",
      "maxDepth 18 \tr2      0.8\n",
      "maxDepth 19 \tr2      0.8\n",
      "maxDepth 20 \tr2      0.8\n",
      "maxDepth 21 \tr2      0.8\n",
      "maxDepth 22 \tr2      0.8\n",
      "maxDepth 23 \tr2      0.8\n",
      "maxDepth 24 \tr2      0.8\n",
      "maxDepth 25 \tr2      0.8\n",
      "maxDepth 26 \tr2      0.8\n",
      "maxDepth 27 \tr2      0.8\n",
      "maxDepth 28 \tr2      0.8\n",
      "maxDepth 29 \tr2      0.8\n"
     ]
    }
   ],
   "source": [
    "performances = {}\n",
    "tps_calcul   = {}\n",
    "for maxDepth in range (30):\n",
    "    debut = time.time()\n",
    "    print \"maxDepth\", maxDepth, \"\\t\",\n",
    "    arbreDeDecision = DecisionTreeRegressor(featuresCol=outputCol, labelCol=col_label, maxDepth=maxDepth)\n",
    "    arbreDeDecision = arbreDeDecision.fit(transformed_train)\n",
    "    predicted_test = arbreDeDecision.transform(transformed_test)\n",
    "    metrics    = [ \"r2\"]#[\"rmse\", \"r2\", \"mae\", \"mse\"]\n",
    "    for metric in  metrics:\n",
    "        evaluation = RegressionEvaluator(predictionCol=predictionCol, labelCol=col_label, metricName=metric)\n",
    "        qualite = evaluation.evaluate(predicted_test)\n",
    "        print \"{:7s} {:0.2}\".format(metric, qualite)\n",
    "        performances[maxDepth]=qualite\n",
    "    duree = time.time()-debut\n",
    "    tps_calcul[maxDepth] = duree\n"
   ]
  },
  {
   "cell_type": "markdown",
   "metadata": {},
   "source": [
    "# 4.5) Passage dans python / pandas pour afficher les performances"
   ]
  },
  {
   "cell_type": "code",
   "execution_count": 267,
   "metadata": {
    "collapsed": false
   },
   "outputs": [
    {
     "data": {
      "text/plain": [
       "<matplotlib.axes._subplots.AxesSubplot at 0x114dd1990>"
      ]
     },
     "execution_count": 267,
     "metadata": {},
     "output_type": "execute_result"
    },
    {
     "data": {
      "image/png": "[encoded data removed]",
      "text/plain": [
       "<matplotlib.figure.Figure at 0x1161ddc50>"
      ]
     },
     "metadata": {},
     "output_type": "display_data"
    }
   ],
   "source": [
    "%matplotlib inline\n",
    "tps_calcul_df           = pd.DataFrame.from_dict(tps_calcul, 'index')\n",
    "tps_calcul_df.columns   = [\"sec\"]\n",
    "performances_df         = pd.DataFrame.from_dict(performances, 'index')\n",
    "performances_df.columns = [metric]\n",
    "\n",
    "performances_df.plot()\n"
   ]
  },
  {
   "cell_type": "code",
   "execution_count": 268,
   "metadata": {
    "collapsed": false
   },
   "outputs": [
    {
     "data": {
      "text/plain": [
       "<matplotlib.axes._subplots.AxesSubplot at 0x11628e990>"
      ]
     },
     "execution_count": 268,
     "metadata": {},
     "output_type": "execute_result"
    },
    {
     "data": {
      "image/png": "[encoded data removed]",
      "text/plain": [
       "<matplotlib.figure.Figure at 0x1163aa210>"
      ]
     },
     "metadata": {},
     "output_type": "display_data"
    }
   ],
   "source": [
    "tps_calcul_df.plot()"
   ]
  },
  {
   "cell_type": "code",
   "execution_count": 269,
   "metadata": {
    "collapsed": false
   },
   "outputs": [],
   "source": [
    "infos = pd.concat([performances_df,tps_calcul_df], ignore_index=True, axis=1)"
   ]
  },
  {
   "cell_type": "code",
   "execution_count": 270,
   "metadata": {
    "collapsed": true
   },
   "outputs": [],
   "source": [
    "infos.columns=[metric, \"sec\"]"
   ]
  },
  {
   "cell_type": "code",
   "execution_count": 271,
   "metadata": {
    "collapsed": false
   },
   "outputs": [
    {
     "data": {
      "text/plain": [
       "<matplotlib.axes._subplots.AxesSubplot at 0x116227490>"
      ]
     },
     "execution_count": 271,
     "metadata": {},
     "output_type": "execute_result"
    },
    {
     "data": {
      "image/png": "[encoded data removed]",
      "text/plain": [
       "<matplotlib.figure.Figure at 0x1160b9850>"
      ]
     },
     "metadata": {},
     "output_type": "display_data"
    }
   ],
   "source": [
    "try: infos = infos.drop(\"performance\", axis=1)\n",
    "except:pass\n",
    "infos.plot()"
   ]
  },
  {
   "cell_type": "code",
   "execution_count": 272,
   "metadata": {
    "collapsed": true
   },
   "outputs": [],
   "source": [
    "infos[\"performance\"] = infos[metric]/infos[\"sec\"]"
   ]
  },
  {
   "cell_type": "code",
   "execution_count": 273,
   "metadata": {
    "collapsed": false
   },
   "outputs": [
    {
     "data": {
      "text/plain": [
       "<matplotlib.axes._subplots.AxesSubplot at 0x116605690>"
      ]
     },
     "execution_count": 273,
     "metadata": {},
     "output_type": "execute_result"
    },
    {
     "data": {
      "image/png": "[encoded data removed]",
      "text/plain": [
       "<matplotlib.figure.Figure at 0x116749490>"
      ]
     },
     "metadata": {},
     "output_type": "display_data"
    }
   ],
   "source": [
    "infos.plot()"
   ]
  },
  {
   "cell_type": "code",
   "execution_count": 274,
   "metadata": {
    "collapsed": false
   },
   "outputs": [
    {
     "data": {
      "text/plain": [
       "<matplotlib.axes._subplots.AxesSubplot at 0x117213450>"
      ]
     },
     "execution_count": 274,
     "metadata": {},
     "output_type": "execute_result"
    },
    {
     "data": {
      "image/png": "[encoded data removed]",
      "text/plain": [
       "<matplotlib.figure.Figure at 0x117226490>"
      ]
     },
     "metadata": {},
     "output_type": "display_data"
    }
   ],
   "source": [
    "infos.plot(xlim=[0,10])"
   ]
  },
  {
   "cell_type": "markdown",
   "metadata": {},
   "source": [
    "# 7) organiser l'algorithme (step 4) dans un Pipeline"
   ]
  },
  {
   "cell_type": "code",
   "execution_count": 306,
   "metadata": {
    "collapsed": false
   },
   "outputs": [],
   "source": [
    "best_depth      = 6\n",
    "arbreDeDecision = DecisionTreeRegressor(featuresCol=outputCol, labelCol=col_label, maxDepth=best_depth)\n",
    "stages          = [assembler, arbreDeDecision]\n",
    "pipeline        = Pipeline(stages=stages)"
   ]
  },
  {
   "cell_type": "markdown",
   "metadata": {},
   "source": [
    "# 7.1) Fitter le pipeline / obetenir un modèle "
   ]
  },
  {
   "cell_type": "code",
   "execution_count": 307,
   "metadata": {
    "collapsed": true
   },
   "outputs": [],
   "source": [
    "pipelineModel = pipeline.fit(spark_train)"
   ]
  },
  {
   "cell_type": "markdown",
   "metadata": {},
   "source": [
    "# 7.2) Appliquer le pipeline sur la spark dataframe"
   ]
  },
  {
   "cell_type": "code",
   "execution_count": 308,
   "metadata": {
    "collapsed": false
   },
   "outputs": [],
   "source": [
    "predicted_test = pipelineModel.transform(spark_test)"
   ]
  },
  {
   "cell_type": "code",
   "execution_count": 309,
   "metadata": {
    "collapsed": false
   },
   "outputs": [
    {
     "data": {
      "text/plain": [
       "0.8291257712874524"
      ]
     },
     "execution_count": 309,
     "metadata": {},
     "output_type": "execute_result"
    }
   ],
   "source": [
    "evaluation.evaluate(predicted_test)"
   ]
  }
 ],
 "metadata": {
  "kernelspec": {
   "display_name": "Python 2",
   "language": "python",
   "name": "python2"
  },
  "language_info": {
   "codemirror_mode": {
    "name": "ipython",
    "version": 2
   },
   "file_extension": ".py",
   "mimetype": "text/x-python",
   "name": "python",
   "nbconvert_exporter": "python",
   "pygments_lexer": "ipython2",
   "version": "2.7.11"
  }
 },
 "nbformat": 4,
 "nbformat_minor": 0
}
