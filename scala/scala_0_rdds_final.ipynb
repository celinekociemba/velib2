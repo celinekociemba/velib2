{
 "cells": [
  {
   "cell_type": "code",
   "execution_count": 1,
   "metadata": {
    "collapsed": false
   },
   "outputs": [
    {
     "name": "stdout",
     "output_type": "stream",
     "text": [
      "ready\n"
     ]
    }
   ],
   "source": [
    "println(\"ready\")"
   ]
  },
  {
   "cell_type": "markdown",
   "metadata": {},
   "source": [
    "# -3) Créer une sparkSession"
   ]
  },
  {
   "cell_type": "code",
   "execution_count": 2,
   "metadata": {
    "collapsed": false
   },
   "outputs": [],
   "source": [
    "import org.apache.spark.sql.SparkSession\n",
    "val spark = SparkSession.builder().getOrCreate()"
   ]
  },
  {
   "cell_type": "markdown",
   "metadata": {},
   "source": [
    "# -3.1) Importer les méthodes de conversion de type"
   ]
  },
  {
   "cell_type": "code",
   "execution_count": 16,
   "metadata": {
    "collapsed": true
   },
   "outputs": [],
   "source": [
    "import spark.implicits._"
   ]
  },
  {
   "cell_type": "markdown",
   "metadata": {},
   "source": [
    "# -2) imports"
   ]
  },
  {
   "cell_type": "code",
   "execution_count": 4,
   "metadata": {
    "collapsed": true
   },
   "outputs": [],
   "source": [
    "import org.apache.spark.SparkContext\n",
    "import org.apache.spark.SparkContext\n",
    "import org.apache.spark.SparkConf"
   ]
  },
  {
   "cell_type": "markdown",
   "metadata": {},
   "source": [
    "# -1) refaire un spark context personnalisé"
   ]
  },
  {
   "cell_type": "code",
   "execution_count": 5,
   "metadata": {
    "collapsed": false
   },
   "outputs": [
    {
     "data": {
      "text/plain": [
       "org.apache.spark.SparkConf@afc57c8"
      ]
     },
     "execution_count": 5,
     "metadata": {},
     "output_type": "execute_result"
    }
   ],
   "source": [
    "val appName = \"rennes\"\n",
    "val master  = \"local[3]\"\n",
    "val conf    = new SparkConf()\n",
    "conf.setAppName(appName)\n",
    "conf.setMaster(master)"
   ]
  },
  {
   "cell_type": "code",
   "execution_count": 6,
   "metadata": {
    "collapsed": false
   },
   "outputs": [
    {
     "data": {
      "text/plain": [
       "local[*]"
      ]
     },
     "execution_count": 6,
     "metadata": {},
     "output_type": "execute_result"
    }
   ],
   "source": [
    "val spark3 = SparkSession.builder().master(\"local[3]\").appName(\"Word Count\").getOrCreate()\n",
    "val sc3    = spark3.sparkContext\n",
    "sc3.master"
   ]
  },
  {
   "cell_type": "markdown",
   "metadata": {},
   "source": [
    "# 1) Créer une première rdd"
   ]
  },
  {
   "cell_type": "markdown",
   "metadata": {},
   "source": [
    "## 1.1) Création de RDD par lecture d'un fichier"
   ]
  },
  {
   "cell_type": "code",
   "execution_count": 77,
   "metadata": {
    "collapsed": false
   },
   "outputs": [
    {
     "data": {
      "text/plain": [
       "33540"
      ]
     },
     "execution_count": 77,
     "metadata": {},
     "output_type": "execute_result"
    }
   ],
   "source": [
    "val path      = \"./logs/trajets.csv\"\n",
    "val trajets   = sc.textFile(path)    // trajets est une (map)RDD\n",
    "trajets.count()"
   ]
  },
  {
   "cell_type": "markdown",
   "metadata": {},
   "source": [
    "# 1.2) on récupère plusieurs tableaux \"sans discontinuités\""
   ]
  },
  {
   "cell_type": "code",
   "execution_count": 116,
   "metadata": {
    "collapsed": false
   },
   "outputs": [
    {
     "data": {
      "text/plain": [
       "Array(azm14,cycliste_aztsl,velo_azijx_1485783456.39,1485783570.54,1485783573.13,2.59224510193,4.24264068712,aeis5)"
      ]
     },
     "execution_count": 116,
     "metadata": {},
     "output_type": "execute_result"
    }
   ],
   "source": [
    "trajets.take(1)"
   ]
  },
  {
   "cell_type": "code",
   "execution_count": 117,
   "metadata": {
    "collapsed": false
   },
   "outputs": [
    {
     "data": {
      "text/plain": [
       "Array(azm14,cycliste_aztsl,velo_azijx_1485783456.39,1485783570.54,1485783573.13,2.59224510193,4.24264068712,aeis5, ard12,cycliste_azt35,velo_arfn4_1485783454.28,1485783578.35,1485783578.35,0.00490498542786,0.0,ard12, aefc0,cycliste_azryl,velo_azsv4_1485783456.94,1485783570.55,1485783573.13,2.58585309982,5.0,azgx4, aei38,cycliste_azd70,velo_az235_1485783452.45,1485783570.55,1485783573.13,2.58130693436,10.7703296143,aerys, aryob,cycliste_azt29,velo_aey46_1485783454.2,1485783570.56,1485783573.13,2.576597929,10.1980390272,azrys)"
      ]
     },
     "execution_count": 117,
     "metadata": {},
     "output_type": "execute_result"
    }
   ],
   "source": [
    "trajets.take(5)"
   ]
  },
  {
   "cell_type": "code",
   "execution_count": 131,
   "metadata": {
    "collapsed": false
   },
   "outputs": [
    {
     "data": {
      "text/plain": [
       "33540"
      ]
     },
     "execution_count": 131,
     "metadata": {},
     "output_type": "execute_result"
    }
   ],
   "source": [
    "trajets.distinct.count()"
   ]
  },
  {
   "cell_type": "markdown",
   "metadata": {},
   "source": [
    "# 1.3) on peut faire apparaître des  tableaux "
   ]
  },
  {
   "cell_type": "code",
   "execution_count": 125,
   "metadata": {
    "collapsed": false
   },
   "outputs": [
    {
     "data": {
      "text/plain": [
       "Array(azm14, cycliste_aztsl, velo_azijx_1485783456.39, 1485783570.54, 1485783573.13, 2.59224510193, 4.24264068712, aeis5)"
      ]
     },
     "execution_count": 125,
     "metadata": {},
     "output_type": "execute_result"
    }
   ],
   "source": [
    "val splitted = trajets.map(line => line.split(\",\"))\n",
    "splitted.first()"
   ]
  },
  {
   "cell_type": "code",
   "execution_count": 119,
   "metadata": {
    "collapsed": false
   },
   "outputs": [
    {
     "data": {
      "text/plain": [
       "Array(Array(azm14, cycliste_aztsl, velo_azijx_1485783456.39, 1485783570.54, 1485783573.13, 2.59224510193, 4.24264068712, aeis5))"
      ]
     },
     "execution_count": 119,
     "metadata": {},
     "output_type": "execute_result"
    }
   ],
   "source": [
    "splitted.take(1)"
   ]
  },
  {
   "cell_type": "code",
   "execution_count": 120,
   "metadata": {
    "collapsed": false
   },
   "outputs": [
    {
     "data": {
      "text/plain": [
       "Array(Array(azm14, cycliste_aztsl, velo_azijx_1485783456.39, 1485783570.54, 1485783573.13, 2.59224510193, 4.24264068712, aeis5), Array(ard12, cycliste_azt35, velo_arfn4_1485783454.28, 1485783578.35, 1485783578.35, 0.00490498542786, 0.0, ard12), Array(aefc0, cycliste_azryl, velo_azsv4_1485783456.94, 1485783570.55, 1485783573.13, 2.58585309982, 5.0, azgx4), Array(aei38, cycliste_azd70, velo_az235_1485783452.45, 1485783570.55, 1485783573.13, 2.58130693436, 10.7703296143, aerys), Array(aryob, cycliste_azt29, velo_aey46_1485783454.2, 1485783570.56, 1485783573.13, 2.576597929, 10.1980390272, azrys))"
      ]
     },
     "execution_count": 120,
     "metadata": {},
     "output_type": "execute_result"
    }
   ],
   "source": [
    "splitted.take(5)"
   ]
  },
  {
   "cell_type": "code",
   "execution_count": 122,
   "metadata": {
    "collapsed": false
   },
   "outputs": [
    {
     "data": {
      "text/plain": [
       "Array(Array(azm14, cycliste_aztsl, velo_azijx_1485783456.39, 1485783570.54, 1485783573.13, 2.59224510193, 4.24264068712, aeis5), Array(ard12, cycliste_azt35, velo_arfn4_1485783454.28, 1485783578.35, 1485783578.35, 0.00490498542786, 0.0, ard12), Array(aefc0, cycliste_azryl, velo_azsv4_1485783456.94, 1485783570.55, 1485783573.13, 2.58585309982, 5.0, azgx4), Array(aei38, cycliste_azd70, velo_az235_1485783452.45, 1485783570.55, 1485783573.13, 2.58130693436, 10.7703296143, aerys), Array(aryob, cycliste_azt29, velo_aey46_1485783454.2, 1485783570.56, 1485783573.13, 2.576597929, 10.1980390272, azrys), Array(aryqv, cycliste_azgj7, velo_aeod7_1485783453.43, 1485783570.56, 1485783573.14, 2.57364201546, 6.40312423743, aed36), Array(azgv7, cycliste_azrw2, velo_arfgc_14..."
      ]
     },
     "execution_count": 122,
     "metadata": {},
     "output_type": "execute_result"
    }
   ],
   "source": [
    "splitted.collect()"
   ]
  },
  {
   "cell_type": "markdown",
   "metadata": {},
   "source": [
    "# 1.4) on peut récupèrer un tableau qui contient tous les élèments des différents tableaux"
   ]
  },
  {
   "cell_type": "code",
   "execution_count": 141,
   "metadata": {
    "collapsed": false
   },
   "outputs": [
    {
     "data": {
      "text/plain": [
       "MapPartitionsRDD[197] at flatMap at <console>:35"
      ]
     },
     "execution_count": 141,
     "metadata": {},
     "output_type": "execute_result"
    }
   ],
   "source": [
    "val trajets_like = trajets.flatMap(line => line.split(\",\")) // Rdd\n",
    "trajets_like"
   ]
  },
  {
   "cell_type": "code",
   "execution_count": 142,
   "metadata": {
    "collapsed": false
   },
   "outputs": [
    {
     "data": {
      "text/plain": [
       "Array(azm14, cycliste_aztsl, velo_azijx_1485783456.39, 1485783570.54)"
      ]
     },
     "execution_count": 142,
     "metadata": {},
     "output_type": "execute_result"
    }
   ],
   "source": [
    "trajets_like.take(4)"
   ]
  },
  {
   "cell_type": "code",
   "execution_count": 143,
   "metadata": {
    "collapsed": false
   },
   "outputs": [
    {
     "data": {
      "text/plain": [
       "268320"
      ]
     },
     "execution_count": 143,
     "metadata": {},
     "output_type": "execute_result"
    }
   ],
   "source": [
    "trajets_like.count()"
   ]
  },
  {
   "cell_type": "code",
   "execution_count": 144,
   "metadata": {
    "collapsed": false
   },
   "outputs": [
    {
     "data": {
      "text/plain": [
       "70621"
      ]
     },
     "execution_count": 144,
     "metadata": {},
     "output_type": "execute_result"
    }
   ],
   "source": [
    "trajets_like.distinct().count()"
   ]
  },
  {
   "cell_type": "markdown",
   "metadata": {},
   "source": [
    "# 1.5) on peut extraire un sous set"
   ]
  },
  {
   "cell_type": "code",
   "execution_count": 159,
   "metadata": {
    "collapsed": false
   },
   "outputs": [],
   "source": [
    "val pourcentage = 0.01\n",
    "val avec_remise = false\n",
    "val subset = trajets_like.sample(avec_remise, pourcentage) // en pourcentage de la base"
   ]
  },
  {
   "cell_type": "code",
   "execution_count": 160,
   "metadata": {
    "collapsed": false
   },
   "outputs": [
    {
     "data": {
      "text/plain": [
       "2621"
      ]
     },
     "execution_count": 160,
     "metadata": {},
     "output_type": "execute_result"
    }
   ],
   "source": [
    "subset.count()"
   ]
  },
  {
   "cell_type": "code",
   "execution_count": 161,
   "metadata": {
    "collapsed": false
   },
   "outputs": [
    {
     "data": {
      "text/plain": [
       "Array(1485783578.35, velo_azf16_1485783454.91, 2.53153419495, arok4, aex50, 2.39790797234, azus1, azqjb, 2.36959815025, arpgk, 2.30909776688, cycliste_azyp5, 1485783570.94, 2.24199986458, 2.24025392532, azryn, 12.0530378819, 1485783560.49, 1485783560.52, 1485783560.53, cycliste_aziql, 1485783548.75, azroj, cycliste_azydl, 1485783548.8, aex50, artl2, aeiqv, azyw4, 1485783560.64, cycliste_azomv, velo_aei29_1485783453.91, ardk7, azgl6, 2.01533007622, aefc0, 11.5521411896, 1485783549.38, 1485783560.84, 1485783560.84, 11.3482580185, 1485783560.9, 11.2863929272, 1485783560.92, 1485783549.69, 11.2018480301, 1485783549.75, 11.187638998, 11.1717751026, 11.136906147, 11.1069829464, aed46, 10.1980390272, cycliste_aztg6, 1485783561.19, azrkc, arydg, cycliste_azopm, 148578355..."
      ]
     },
     "execution_count": 161,
     "metadata": {},
     "output_type": "execute_result"
    }
   ],
   "source": [
    "subset.collect()"
   ]
  },
  {
   "cell_type": "code",
   "execution_count": 216,
   "metadata": {
    "collapsed": false,
    "scrolled": true
   },
   "outputs": [
    {
     "data": {
      "text/plain": [
       "Array(aedm2,cycliste_aztd2,velo_azr57_1485783453.78,1485783847.0,1485783858.45,11.4450521469,5.65685424949,azygw, azjwn,cycliste_azqb6,velo_aet34_1485783457.01,1485783845.83,1485783857.92,12.0827159882,8.0622577483,azesv, azob7,cycliste_azul0,velo_azs89_1485783456.03,1485783598.6,1485783598.61,0.00440311431885,2.0,aek25, azqjb,cycliste_azsx8,velo_arok3_1485783457.3,1485783901.57,1485783901.58,0.00799894332886,0.0,azqjb, aerj5,cycliste_azqs5,velo_azypc_1485783457.14,1485783622.52,1485783625.7,3.18157196045,8.24621125124,aelv9, aepv8,cycliste_azupw,velo_aern8_1485783456.32,1485783686.74,1485783693.87,7.13110113144,5.0,aeuwb, aeqkc,cycliste_azros,velo_azejm_1485783453.34,1485783822.26,1485783835.22,12.9629890919,8.60232526704,arqfh, arpw7,cycliste_azsk7,velo_arq89_1..."
      ]
     },
     "execution_count": 216,
     "metadata": {},
     "output_type": "execute_result"
    }
   ],
   "source": [
    "// en nombre de valeurs\n",
    "trajets.takeSample(false, 100) // action => DAG calculé"
   ]
  },
  {
   "cell_type": "code",
   "execution_count": 217,
   "metadata": {
    "collapsed": false
   },
   "outputs": [
    {
     "data": {
      "text/plain": [
       "Array(azm14,cycliste_aztsl,velo_azijx_1485783456.39,1485783570.54,1485783573.13,2.59224510193,4.24264068712,aeis5, ard12,cycliste_azt35,velo_arfn4_1485783454.28,1485783578.35,1485783578.35,0.00490498542786,0.0,ard12, aefc0,cycliste_azryl,velo_azsv4_1485783456.94,1485783570.55,1485783573.13,2.58585309982,5.0,azgx4, aei38,cycliste_azd70,velo_az235_1485783452.45,1485783570.55,1485783573.13,2.58130693436,10.7703296143,aerys)"
      ]
     },
     "execution_count": 217,
     "metadata": {},
     "output_type": "execute_result"
    }
   ],
   "source": [
    "trajets.take(4)"
   ]
  },
  {
   "cell_type": "markdown",
   "metadata": {},
   "source": [
    "# 1.6 On peut faire des calculs de base sur des colones numériques"
   ]
  },
  {
   "cell_type": "code",
   "execution_count": 206,
   "metadata": {
    "collapsed": false
   },
   "outputs": [],
   "source": [
    "val durees  = trajets.map(l => l.split(\",\")).map(l => (l(5).toFloat))\n",
    "val kmtrage = trajets.map(l => l.split(\",\")).map(l => (l(6).toFloat))"
   ]
  },
  {
   "cell_type": "code",
   "execution_count": 214,
   "metadata": {
    "collapsed": false
   },
   "outputs": [
    {
     "name": "stdout",
     "output_type": "stream",
     "text": [
      "0.0017619133\n",
      "10.469229673990936\n",
      "291.1882\n"
     ]
    }
   ],
   "source": [
    "System.out.println(durees.min)\n",
    "System.out.println(durees.mean)\n",
    "System.out.println(durees.max)"
   ]
  },
  {
   "cell_type": "code",
   "execution_count": 215,
   "metadata": {
    "collapsed": false
   },
   "outputs": [
    {
     "name": "stdout",
     "output_type": "stream",
     "text": [
      "0.0\n",
      "6.012636164017341\n",
      "17.804493\n"
     ]
    }
   ],
   "source": [
    "System.out.println(kmtrage.min)\n",
    "System.out.println(kmtrage.mean)\n",
    "System.out.println(kmtrage.max)"
   ]
  },
  {
   "cell_type": "markdown",
   "metadata": {},
   "source": [
    "# 2) seconde RDD : cyclistes"
   ]
  },
  {
   "cell_type": "code",
   "execution_count": 461,
   "metadata": {
    "collapsed": false
   },
   "outputs": [],
   "source": [
    "val path      = \"./logs/cycliste_cyclistes.csv\"\n",
    "// cyclistes est une RDD\n",
    "val cyclistes = sc.textFile(path)"
   ]
  },
  {
   "cell_type": "code",
   "execution_count": 462,
   "metadata": {
    "collapsed": false
   },
   "outputs": [
    {
     "data": {
      "text/plain": [
       "Array(cycliste_azeqv,2,48,femme,10.2181585367,17.634070191,0.5)"
      ]
     },
     "execution_count": 462,
     "metadata": {},
     "output_type": "execute_result"
    }
   ],
   "source": [
    "cyclistes.take(1)"
   ]
  },
  {
   "cell_type": "markdown",
   "metadata": {},
   "source": [
    "# 2.1) transformation en pairedRDD"
   ]
  },
  {
   "cell_type": "code",
   "execution_count": 472,
   "metadata": {
    "collapsed": false
   },
   "outputs": [],
   "source": [
    "// la colonne 0 donne le nom du cycliste, la n° 3 le genre\n",
    "val cycliste_genre = cyclistes.map( _.split(\",\")).map( r => (r(0), r(3)))"
   ]
  },
  {
   "cell_type": "code",
   "execution_count": 473,
   "metadata": {
    "collapsed": false
   },
   "outputs": [
    {
     "data": {
      "text/plain": [
       "Array((cycliste_azeqv,femme))"
      ]
     },
     "execution_count": 473,
     "metadata": {},
     "output_type": "execute_result"
    }
   ],
   "source": [
    "cycliste_genre.take(1)"
   ]
  },
  {
   "cell_type": "markdown",
   "metadata": {},
   "source": [
    "# 2.2) transformation des trajets en pairedRDD"
   ]
  },
  {
   "cell_type": "code",
   "execution_count": 474,
   "metadata": {
    "collapsed": false
   },
   "outputs": [],
   "source": [
    "// la colonne 1 donne le nom du cycliste, la 6 le nombre de kilometre\n",
    "val k_v_trajets = trajets.map(_.split(\",\")).map(ligne => ( ligne(1), ligne(6) ) )"
   ]
  },
  {
   "cell_type": "code",
   "execution_count": 475,
   "metadata": {
    "collapsed": false
   },
   "outputs": [
    {
     "data": {
      "text/plain": [
       "Array((cycliste_aztsl,4.24264068712))"
      ]
     },
     "execution_count": 475,
     "metadata": {},
     "output_type": "execute_result"
    }
   ],
   "source": [
    "k_v_trajets.take(1)"
   ]
  },
  {
   "cell_type": "markdown",
   "metadata": {},
   "source": [
    "# 2.3) jointure sur la clef"
   ]
  },
  {
   "cell_type": "code",
   "execution_count": 476,
   "metadata": {
    "collapsed": false
   },
   "outputs": [],
   "source": [
    "val trajets_des_cyclistes = cycliste_genre.join(k_v_trajets)"
   ]
  },
  {
   "cell_type": "code",
   "execution_count": 477,
   "metadata": {
    "collapsed": false
   },
   "outputs": [
    {
     "data": {
      "text/plain": [
       "Array((cycliste_aztfx,(homme,11.0453610172)), (cycliste_aztfx,(homme,7.81024967591)), (cycliste_aztfx,(homme,0.0)), (cycliste_aztfx,(homme,6.7082039325)), (cycliste_aztfx,(homme,7.81024967591)), (cycliste_aztfx,(homme,7.07106781187)), (cycliste_aztfx,(homme,7.07106781187)), (cycliste_aztfx,(homme,8.60232526704)), (cycliste_aztfx,(homme,6.40312423743)), (cycliste_azpmc,(homme,4.12310562562)))"
      ]
     },
     "execution_count": 477,
     "metadata": {},
     "output_type": "execute_result"
    }
   ],
   "source": [
    "trajets_des_cyclistes.take(10)"
   ]
  },
  {
   "cell_type": "markdown",
   "metadata": {},
   "source": [
    "# 2.4) analyse par clef (ici le cycliste)"
   ]
  },
  {
   "cell_type": "code",
   "execution_count": 478,
   "metadata": {
    "collapsed": false
   },
   "outputs": [
    {
     "data": {
      "text/plain": [
       "Array((cycliste_aztoq,CompactBuffer((femme,9.0), (femme,7.28010988928), (femme,8.24621125124), (femme,7.07106781187), (femme,8.0), (femme,8.0622577483), (femme,10.0498756211), (femme,8.0622577483), (femme,10.0))), (cycliste_azrw3,CompactBuffer((homme,5.09901951359), (homme,2.0), (homme,0.0), (homme,4.12310562562), (homme,4.0))))"
      ]
     },
     "execution_count": 478,
     "metadata": {},
     "output_type": "execute_result"
    }
   ],
   "source": [
    "val trajets_par_cycliste = trajets_des_cyclistes.groupByKey()\n",
    "trajets_par_cycliste.take(2)"
   ]
  },
  {
   "cell_type": "code",
   "execution_count": 446,
   "metadata": {
    "collapsed": true
   },
   "outputs": [],
   "source": [
    "val a = trajets_par_cycliste"
   ]
  },
  {
   "cell_type": "code",
   "execution_count": 451,
   "metadata": {
    "collapsed": false
   },
   "outputs": [
    {
     "data": {
      "text/plain": [
       "Array((cycliste_aztoq,75.77178007009), (cycliste_azrw3,15.22212513921), (cycliste_azed7,0.0))"
      ]
     },
     "execution_count": 451,
     "metadata": {},
     "output_type": "execute_result"
    }
   ],
   "source": [
    "a.map(x => (x._1 , x._2.map({case (k,v) => v.toDouble}).sum)).take(3)"
   ]
  },
  {
   "cell_type": "code",
   "execution_count": 455,
   "metadata": {
    "collapsed": false
   },
   "outputs": [
    {
     "data": {
      "text/plain": [
       "Array((cycliste_aztoq,7.07106781187), (cycliste_azrw3,0.0), (cycliste_azed7,0.0))"
      ]
     },
     "execution_count": 455,
     "metadata": {},
     "output_type": "execute_result"
    }
   ],
   "source": [
    "val mini = a.map(x => (x._1 , x._2.map({case (k,v) => v.toDouble}).min))\n",
    "mini.take(3)"
   ]
  },
  {
   "cell_type": "code",
   "execution_count": 456,
   "metadata": {
    "collapsed": false
   },
   "outputs": [
    {
     "data": {
      "text/plain": [
       "Array((cycliste_aztoq,10.0498756211), (cycliste_azrw3,5.09901951359), (cycliste_azed7,0.0))"
      ]
     },
     "execution_count": 456,
     "metadata": {},
     "output_type": "execute_result"
    }
   ],
   "source": [
    "val maxi = a.map(x => (x._1 , x._2.map({case (k,v) => v.toDouble}).max))\n",
    "maxi.take(3)"
   ]
  },
  {
   "cell_type": "code",
   "execution_count": 457,
   "metadata": {
    "collapsed": false
   },
   "outputs": [
    {
     "data": {
      "text/plain": [
       "Array((cycliste_aztoq,75.77178007009), (cycliste_azrw3,15.22212513921), (cycliste_azed7,0.0))"
      ]
     },
     "execution_count": 457,
     "metadata": {},
     "output_type": "execute_result"
    }
   ],
   "source": [
    "val nbKm = a.map(x => (x._1 , x._2.map({case (k,v) => v.toDouble}).sum))\n",
    "nbKm.take(3)"
   ]
  },
  {
   "cell_type": "code",
   "execution_count": 458,
   "metadata": {
    "collapsed": false
   },
   "outputs": [
    {
     "data": {
      "text/plain": [
       "Array((cycliste_aztoq,9), (cycliste_azrw3,5), (cycliste_azed7,1))"
      ]
     },
     "execution_count": 458,
     "metadata": {},
     "output_type": "execute_result"
    }
   ],
   "source": [
    "val nbTrajet = a.map(x => (x._1 , x._2.map({case (k,v) => v.toDouble}).size))\n",
    "nbTrajet.take(3)"
   ]
  },
  {
   "cell_type": "code",
   "execution_count": 459,
   "metadata": {
    "collapsed": false
   },
   "outputs": [
    {
     "data": {
      "text/plain": [
       "Array((cycliste_aztoq,(9,75.77178007009)), (cycliste_azrw3,(5,15.22212513921)), (cycliste_azed7,(1,0.0)))"
      ]
     },
     "execution_count": 459,
     "metadata": {},
     "output_type": "execute_result"
    }
   ],
   "source": [
    "val jointure = nbTrajet.join(nbKm)\n",
    "jointure.take(3)"
   ]
  },
  {
   "cell_type": "code",
   "execution_count": 460,
   "metadata": {
    "collapsed": false
   },
   "outputs": [
    {
     "data": {
      "text/plain": [
       "Array((cycliste_aztoq,8.419086674454444), (cycliste_azrw3,3.044425027842), (cycliste_azed7,0.0))"
      ]
     },
     "execution_count": 460,
     "metadata": {},
     "output_type": "execute_result"
    }
   ],
   "source": [
    "val nb_km_moyen = jointure.map(data => (data._1, data._2._2 / data._2._1))\n",
    "nb_km_moyen.take(3)"
   ]
  }
 ],
 "metadata": {
  "kernelspec": {
   "display_name": "Apache Toree - Scala",
   "language": "scala",
   "name": "apache_toree_scala"
  },
  "language_info": {
   "file_extension": ".scala",
   "name": "scala",
   "version": "2.11.8"
  }
 },
 "nbformat": 4,
 "nbformat_minor": 2
}
