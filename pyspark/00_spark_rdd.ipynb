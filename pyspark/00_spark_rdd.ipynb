{
 "cells": [
  {
   "cell_type": "markdown",
   "metadata": {},
   "source": [
    "# 0) vérifier [sc] et [spark]"
   ]
  },
  {
   "cell_type": "code",
   "execution_count": 1,
   "metadata": {
    "collapsed": false
   },
   "outputs": [],
   "source": [
    "# le spark context détermine les ressources \n",
    "# disponibles pour l'application\n",
    "assert sc==sc"
   ]
  },
  {
   "cell_type": "code",
   "execution_count": 2,
   "metadata": {
    "collapsed": false
   },
   "outputs": [],
   "source": [
    "# la variable spark permet de gérer les\n",
    "# dataframes (dépend de pyspark.sql)\n",
    "assert spark==spark"
   ]
  },
  {
   "cell_type": "code",
   "execution_count": 3,
   "metadata": {
    "collapsed": false
   },
   "outputs": [
    {
     "data": {
      "text/plain": [
       "<pyspark.sql.session.SparkSession at 0x107086410>"
      ]
     },
     "execution_count": 3,
     "metadata": {},
     "output_type": "execute_result"
    }
   ],
   "source": [
    "spark"
   ]
  },
  {
   "cell_type": "markdown",
   "metadata": {},
   "source": [
    "# 1) loader un fichier en mémoire"
   ]
  },
  {
   "cell_type": "code",
   "execution_count": 9,
   "metadata": {
    "collapsed": true
   },
   "outputs": [],
   "source": [
    "path  = \"hdfs://spark52:8020/cycliste_debug_2.csv\"\n",
    "# si on prend un répertoire, alors la rdd comprendra tous les fichiers\n",
    "# du répertoire\n",
    "path = \"/Users/romain/Informatique/notebooks/spark_scala/velib/logs/cycliste_cyclistes.csv\" "
   ]
  },
  {
   "cell_type": "code",
   "execution_count": 10,
   "metadata": {
    "collapsed": false
   },
   "outputs": [],
   "source": [
    "rdd  = sc.textFile(path)\n",
    "logs = rdd"
   ]
  },
  {
   "cell_type": "code",
   "execution_count": 11,
   "metadata": {
    "collapsed": false
   },
   "outputs": [
    {
     "data": {
      "text/plain": [
       "3301"
      ]
     },
     "execution_count": 11,
     "metadata": {},
     "output_type": "execute_result"
    }
   ],
   "source": [
    "logs.count()"
   ]
  },
  {
   "cell_type": "markdown",
   "metadata": {},
   "source": [
    "## 1.1) essayer de comprendre le fichier"
   ]
  },
  {
   "cell_type": "code",
   "execution_count": 7,
   "metadata": {
    "collapsed": false
   },
   "outputs": [
    {
     "data": {
      "text/plain": [
       "1538884"
      ]
     },
     "execution_count": 7,
     "metadata": {},
     "output_type": "execute_result"
    }
   ],
   "source": [
    "logs.count() # nombre de lignes"
   ]
  },
  {
   "cell_type": "code",
   "execution_count": 8,
   "metadata": {
    "collapsed": false
   },
   "outputs": [
    {
     "data": {
      "text/plain": [
       "[u'cycliste,sportif,age,sexe,nb_km,vitesse,attente',\n",
       " u'cycliste_azthv,0,34,femme,9.86503821812,15.4581576429,0.5',\n",
       " u'cycliste_azqs2,4,63,homme,4.08962700688,24.4077572311,0.5',\n",
       " u'cycliste_azyuo,0,55,femme,11.6630585491,7.87417725815,0.5',\n",
       " u'cycliste_azrd7,0,18,femme,11.229659737,22.4958582464,0.5']"
      ]
     },
     "execution_count": 8,
     "metadata": {},
     "output_type": "execute_result"
    }
   ],
   "source": [
    "logs.take(5) # extrait"
   ]
  },
  {
   "cell_type": "code",
   "execution_count": 13,
   "metadata": {
    "collapsed": false
   },
   "outputs": [
    {
     "data": {
      "text/plain": [
       "u'cycliste,sportif,age,sexe,nb_km,vitesse,attente'"
      ]
     },
     "execution_count": 13,
     "metadata": {},
     "output_type": "execute_result"
    }
   ],
   "source": [
    "header = logs.take(1)\n",
    "header = header[0]\n",
    "header"
   ]
  },
  {
   "cell_type": "code",
   "execution_count": 14,
   "metadata": {
    "collapsed": false
   },
   "outputs": [],
   "source": [
    "sans_header = logs.filter(lambda ligne: ligne != header)\n",
    "assert(sans_header.count() == logs.count() -1)"
   ]
  },
  {
   "cell_type": "markdown",
   "metadata": {},
   "source": [
    "#### 1.1)  nombre de virgules par lignes"
   ]
  },
  {
   "cell_type": "code",
   "execution_count": 15,
   "metadata": {
    "collapsed": true
   },
   "outputs": [],
   "source": [
    "separator       = \",\"\n",
    "lambda_function = lambda log: len(log.split(separator))\n",
    "nb_virgules     = logs.map(lambda_function)"
   ]
  },
  {
   "cell_type": "code",
   "execution_count": 16,
   "metadata": {
    "collapsed": false
   },
   "outputs": [
    {
     "data": {
      "text/plain": [
       "[1, 4, 5, 6, 7, 8]"
      ]
     },
     "execution_count": 16,
     "metadata": {},
     "output_type": "execute_result"
    }
   ],
   "source": [
    "nb_possible  = nb_virgules.distinct()\n",
    "nb_possible.collect()"
   ]
  },
  {
   "cell_type": "markdown",
   "metadata": {},
   "source": [
    "##### 1.2) trouver des logs pour chaque nb de virgules"
   ]
  },
  {
   "cell_type": "code",
   "execution_count": 204,
   "metadata": {
    "collapsed": false
   },
   "outputs": [
    {
     "data": {
      "text/plain": [
       "[(4, u'cycliste,n_message,time,message'),\n",
       " (4, u'cycliste_aztu4,0000, 1496170615.88,station_maison = azuf3'),\n",
       " (1, u'cree')]"
      ]
     },
     "execution_count": 204,
     "metadata": {},
     "output_type": "execute_result"
    }
   ],
   "source": [
    "create_pair = lambda log: (len(log.split(separator)), log)\n",
    "pairedRdd   = logs.map(create_pair) \n",
    "pairedRdd.take(3)"
   ]
  },
  {
   "cell_type": "code",
   "execution_count": 205,
   "metadata": {
    "collapsed": false
   },
   "outputs": [
    {
     "data": {
      "text/plain": [
       "[(4, <pyspark.resultiterable.ResultIterable at 0x112fb3910>),\n",
       " (1, <pyspark.resultiterable.ResultIterable at 0x10c99a950>),\n",
       " (5, <pyspark.resultiterable.ResultIterable at 0x10c99a850>)]"
      ]
     },
     "execution_count": 205,
     "metadata": {},
     "output_type": "execute_result"
    }
   ],
   "source": [
    "pairedRdd.groupByKey().take(3) # renvoie un itérateur (ouf !)"
   ]
  },
  {
   "cell_type": "code",
   "execution_count": 206,
   "metadata": {
    "collapsed": false
   },
   "outputs": [
    {
     "data": {
      "text/plain": [
       "defaultdict(int, {1: 2314, 4: 202465, 5: 42795})"
      ]
     },
     "execution_count": 206,
     "metadata": {},
     "output_type": "execute_result"
    }
   ],
   "source": [
    "pairedRdd.countByKey() "
   ]
  },
  {
   "cell_type": "markdown",
   "metadata": {},
   "source": [
    "##### 1.2.1) on affiche pour chaque nb de virgules quelques exemples"
   ]
  },
  {
   "cell_type": "code",
   "execution_count": 207,
   "metadata": {
    "collapsed": false
   },
   "outputs": [
    {
     "name": "stdout",
     "output_type": "stream",
     "text": [
      "====================\n",
      "nb de virgules =  4\n",
      "exemples : \n",
      "cycliste,n_message,time,message\n",
      "cycliste_aztu4,0000, 1496170615.88,station_maison = azuf3\n",
      "cycliste_aztu4,0002, 1496170615.88,station_maison nearest= aeqc6|aeohw|azum7|aeyd1|artgc|arojk|aztop|aruk0\n",
      "====================\n",
      "nb de virgules =  1\n",
      "exemples : \n",
      "cree\n",
      "cree\n",
      "cree\n",
      "====================\n",
      "nb de virgules =  5\n",
      "exemples : \n",
      "cycliste_azil1,0006, 1496170625.95,velo defaillant <0.3, rendu a la meme station :-( \n",
      "cycliste_azij6,0007, 1496170626.51,velo defaillant <0.3, rendu a la meme station :-( \n",
      "cycliste_aztob,0177, 1496170283.43,impossible de rendre sur ,azfj8 ( a la maison = False)\n"
     ]
    }
   ],
   "source": [
    "key_len__iterateur = pairedRdd.groupByKey().take(3)\n",
    "for key_len, iterateur in key_len__iterateur:\n",
    "    print \"=\"*20\n",
    "    print \"nb de virgules = \", key_len\n",
    "    print \"exemples : \"\n",
    "    for i in range(3):\n",
    "        print iterateur.data[i]\n",
    "        "
   ]
  },
  {
   "cell_type": "markdown",
   "metadata": {},
   "source": [
    "#### 1.2.2 supprimeons les \"cree\""
   ]
  },
  {
   "cell_type": "code",
   "execution_count": 208,
   "metadata": {
    "collapsed": false
   },
   "outputs": [
    {
     "data": {
      "text/plain": [
       "245260"
      ]
     },
     "execution_count": 208,
     "metadata": {},
     "output_type": "execute_result"
    }
   ],
   "source": [
    "logs_sans_cree = logs.filter(lambda log: log !=\"cree\")\n",
    "logs_sans_cree.count()"
   ]
  },
  {
   "cell_type": "code",
   "execution_count": 209,
   "metadata": {
    "collapsed": false
   },
   "outputs": [
    {
     "data": {
      "text/plain": [
       "42795"
      ]
     },
     "execution_count": 209,
     "metadata": {},
     "output_type": "execute_result"
    }
   ],
   "source": [
    "log_a_5_virgules = logs_sans_cree.filter(lambda log: len(log.split(separator))==5)\n",
    "log_a_5_virgules.count()"
   ]
  },
  {
   "cell_type": "code",
   "execution_count": 210,
   "metadata": {
    "collapsed": false
   },
   "outputs": [
    {
     "data": {
      "text/plain": [
       "36847"
      ]
     },
     "execution_count": 210,
     "metadata": {},
     "output_type": "execute_result"
    }
   ],
   "source": [
    "log_des_impossibles = log_a_5_virgules.filter(lambda log : \"impossible\" in log)\n",
    "log_des_impossibles.count()"
   ]
  },
  {
   "cell_type": "markdown",
   "metadata": {},
   "source": [
    "#### 1.3 Elements distincts entre deux rdd => substract"
   ]
  },
  {
   "cell_type": "code",
   "execution_count": 211,
   "metadata": {
    "collapsed": false
   },
   "outputs": [
    {
     "data": {
      "text/plain": [
       "5948"
      ]
     },
     "execution_count": 211,
     "metadata": {},
     "output_type": "execute_result"
    }
   ],
   "source": [
    "cinq_virgules_non_impossible = log_a_5_virgules.subtract(log_des_impossibles)\n",
    "cinq_virgules_non_impossible.count()"
   ]
  },
  {
   "cell_type": "code",
   "execution_count": 212,
   "metadata": {
    "collapsed": false
   },
   "outputs": [
    {
     "data": {
      "text/plain": [
       "[u'cycliste_aztu4,0038, 1496170669.26,velo defaillant <0.1, rendu a la meme station :-( ',\n",
       " u'cycliste_azri3,0089, 1496170700.58,velo defaillant <0.1, rendu a la meme station :-( ',\n",
       " u'cycliste_azesh,0089, 1496170715.58,velo defaillant <0.1, rendu a la meme station :-( ',\n",
       " u'cycliste_azyus,0056, 1496170688.25,velo defaillant <0.1, rendu a la meme station :-( ']"
      ]
     },
     "execution_count": 212,
     "metadata": {},
     "output_type": "execute_result"
    }
   ],
   "source": [
    "cinq_virgules_non_impossible.take(4)"
   ]
  },
  {
   "cell_type": "code",
   "execution_count": 213,
   "metadata": {
    "collapsed": false
   },
   "outputs": [
    {
     "data": {
      "text/plain": [
       "5948"
      ]
     },
     "execution_count": 213,
     "metadata": {},
     "output_type": "execute_result"
    }
   ],
   "source": [
    "logs_tristes = cinq_virgules_non_impossible.filter(lambda log: \":-(\" in log)\n",
    "logs_tristes.count()"
   ]
  },
  {
   "cell_type": "code",
   "execution_count": 214,
   "metadata": {
    "collapsed": false
   },
   "outputs": [
    {
     "data": {
      "text/plain": [
       "5763L"
      ]
     },
     "execution_count": 214,
     "metadata": {},
     "output_type": "execute_result"
    }
   ],
   "source": [
    "logs_tristes.countApproxDistinct()"
   ]
  },
  {
   "cell_type": "markdown",
   "metadata": {},
   "source": [
    "### 2) cyclistes"
   ]
  },
  {
   "cell_type": "code",
   "execution_count": 215,
   "metadata": {
    "collapsed": false
   },
   "outputs": [
    {
     "data": {
      "text/plain": [
       "245260"
      ]
     },
     "execution_count": 215,
     "metadata": {},
     "output_type": "execute_result"
    }
   ],
   "source": [
    "cyclistes = logs.filter(lambda log: log.startswith(\"cycliste\"))\n",
    "cyclistes.count()"
   ]
  },
  {
   "cell_type": "code",
   "execution_count": 216,
   "metadata": {
    "collapsed": false
   },
   "outputs": [
    {
     "data": {
      "text/plain": [
       "[u'cycliste,n_message,time,message',\n",
       " u'cycliste_aze12,0000, 1496170618.45,station_maison = azupx']"
      ]
     },
     "execution_count": 216,
     "metadata": {},
     "output_type": "execute_result"
    }
   ],
   "source": [
    "sorted_cyclistes = cyclistes.sortBy(lambda x: x)\n",
    "sorted_cyclistes.take(2)"
   ]
  },
  {
   "cell_type": "markdown",
   "metadata": {},
   "source": [
    "# Sample"
   ]
  },
  {
   "cell_type": "code",
   "execution_count": 217,
   "metadata": {
    "collapsed": false
   },
   "outputs": [],
   "source": [
    "nb_de_ligne_voulu = 10\n",
    "nb_ligne_existant = sorted_cyclistes.count()\n",
    "pourcentage_voulu = nb_de_ligne_voulu/float(nb_ligne_existant)\n",
    "avec_remise       = False"
   ]
  },
  {
   "cell_type": "code",
   "execution_count": 218,
   "metadata": {
    "collapsed": false
   },
   "outputs": [
    {
     "data": {
      "text/plain": [
       "[u'cycliste_azeti,0068, 1496170696.54,velo pris sur station aryln (elem de station maison)',\n",
       " u'cycliste_azeyj,0088, 1496170710.16,velo pris sur station azekm (elem de station travail)',\n",
       " u'cycliste_azips,0040, 1496170671.58,velo rendu sur la station azekm ( a la maison = False) (elem de station_travail)',\n",
       " u'cycliste_aziq5,0089, 1496170695.53,impossible de rendre sur ,azrj7 ( a la maison = False)',\n",
       " u'cycliste_aziqc,0031, 1496170650.21,False a pris le velo velo_azioj_1496170615.21 sur la station aeqc6',\n",
       " u'cycliste_azix9,0083, 1496170719.47,pas encore arrive',\n",
       " u'cycliste_azqg4,0061, 1496170701.15,True a pris le velo velo_aeif3_1496170612.85 sur la station artc6',\n",
       " u'cycliste_azrd9,0082, 1496170717.87,velo pris sur station aekm8 (elem de station travail)',\n",
       " u'cycliste_azuip,0043, 1496170676.78,velo rendu sur la station aztj5 ( a la maison = True) (elem de station_maison)',\n",
       " u'cycliste_azuob,0008, 1496170629.73,self.a_la_maison = False',\n",
       " u'cycliste_azymb,0087, 1496170695.59,impossible de rendre sur ,azj70 ( a la maison = True)']"
      ]
     },
     "execution_count": 218,
     "metadata": {},
     "output_type": "execute_result"
    }
   ],
   "source": [
    "sorted_cyclistes.sample(avec_remise, pourcentage_voulu).collect()"
   ]
  },
  {
   "cell_type": "markdown",
   "metadata": {},
   "source": [
    "# Extraire les logs de début et fin de trajet"
   ]
  },
  {
   "cell_type": "code",
   "execution_count": 219,
   "metadata": {
    "collapsed": false
   },
   "outputs": [
    {
     "data": {
      "text/plain": [
       "[u'cycliste_aze12,0004, 1496170627.84,velo pris sur station aepf4 (elem de station maison)',\n",
       " u'cycliste_aze12,0008, 1496170629.68,velo rendu sur la station azs58 ( a la maison = False) (elem de station_travail)',\n",
       " u'cycliste_aze12,0011, 1496170633.47,velo pris sur station azk49 (elem de station travail)',\n",
       " u'cycliste_aze12,0015, 1496170634.73,velo rendu sur la station arqh8 ( a la maison = True) (elem de station_maison)',\n",
       " u'cycliste_aze12,0016, 1496170638.5,velo pris sur station arqh8 (elem de station maison)',\n",
       " u'cycliste_aze12,0019, 1496170639.79,velo rendu sur la station aeyu0 ( a la maison = False) (elem de station_travail)',\n",
       " u'cycliste_aze12,0020, 1496170644.37,velo pris sur station azs58 (elem de station travail)',\n",
       " u'cycliste_aze12,0024, 1496170644.37,velo rendu sur la station azs58 ( a la maison = False) (elem de station_travail)',\n",
       " u'cycliste_aze12,0025, 1496170646.53,velo pris sur station azk49 (elem de station travail)',\n",
       " u'cycliste_aze12,0028, 1496170647.95,velo rendu sur la station aei34 ( a la maison = True) (elem de station_maison)']"
      ]
     },
     "execution_count": 219,
     "metadata": {},
     "output_type": "execute_result"
    }
   ],
   "source": [
    "filtre = lambda log: \"velo rendu\" in log or \"velo pris\" in log \n",
    "debut_fin_trajet = sorted_cyclistes.filter(filtre)\n",
    "debut_fin_trajet.take(10)"
   ]
  },
  {
   "cell_type": "markdown",
   "metadata": {},
   "source": [
    "# Extraire les heures de logs"
   ]
  },
  {
   "cell_type": "code",
   "execution_count": 220,
   "metadata": {
    "collapsed": true
   },
   "outputs": [],
   "source": [
    "def get_cycliste_et_timestamp_du_log(log):\n",
    "    data      = log.split(\",\")\n",
    "    cycliste  = data[0]\n",
    "    timestamp = float(data[2])\n",
    "    return (cycliste, timestamp)\n"
   ]
  },
  {
   "cell_type": "code",
   "execution_count": 221,
   "metadata": {
    "collapsed": false
   },
   "outputs": [
    {
     "data": {
      "text/plain": [
       "[(u'cycliste_aze12', 1496170627.84),\n",
       " (u'cycliste_aze12', 1496170629.68),\n",
       " (u'cycliste_aze12', 1496170633.47),\n",
       " (u'cycliste_aze12', 1496170634.73),\n",
       " (u'cycliste_aze12', 1496170638.5),\n",
       " (u'cycliste_aze12', 1496170639.79),\n",
       " (u'cycliste_aze12', 1496170644.37),\n",
       " (u'cycliste_aze12', 1496170644.37),\n",
       " (u'cycliste_aze12', 1496170646.53),\n",
       " (u'cycliste_aze12', 1496170647.95),\n",
       " (u'cycliste_aze12', 1496170651.74),\n",
       " (u'cycliste_aze12', 1496170653.28),\n",
       " (u'cycliste_aze12', 1496170657.22),\n",
       " (u'cycliste_aze12', 1496170657.22),\n",
       " (u'cycliste_aze12', 1496170660.07),\n",
       " (u'cycliste_aze12', 1496170661.29),\n",
       " (u'cycliste_aze12', 1496170665.3),\n",
       " (u'cycliste_aze12', 1496170666.58),\n",
       " (u'cycliste_aze12', 1496170670.43),\n",
       " (u'cycliste_aze12', 1496170671.67),\n",
       " (u'cycliste_aze12', 1496170675.56),\n",
       " (u'cycliste_aze12', 1496170676.85),\n",
       " (u'cycliste_aze12', 1496170680.89)]"
      ]
     },
     "execution_count": 221,
     "metadata": {},
     "output_type": "execute_result"
    }
   ],
   "source": [
    "cycliste_timestamps = debut_fin_trajet.map(get_cycliste_et_timestamp_du_log)\n",
    "cycliste_timestamps.take(23)"
   ]
  },
  {
   "cell_type": "markdown",
   "metadata": {},
   "source": [
    "# grouper les durées par cycliste"
   ]
  },
  {
   "cell_type": "code",
   "execution_count": 222,
   "metadata": {
    "collapsed": false
   },
   "outputs": [],
   "source": [
    "timestamps_par_cycliste = cycliste_timestamps.groupByKey()"
   ]
  },
  {
   "cell_type": "markdown",
   "metadata": {},
   "source": [
    "# Calculer les délais entre deux timestamp"
   ]
  },
  {
   "cell_type": "code",
   "execution_count": 223,
   "metadata": {
    "collapsed": true
   },
   "outputs": [],
   "source": [
    "def diff_timestamp(liste):\n",
    "    \"\"\"\n",
    "    Retourne une liste de delta !\n",
    "    \"\"\"\n",
    "    timestamps = liste\n",
    "    r          = []\n",
    "    values     = []\n",
    "    for indice, valeur in enumerate(sorted(timestamps)):\n",
    "        values.append(float(valeur))\n",
    "        if indice>0:\n",
    "            delta = values[indice] - values[indice-1]\n",
    "            r.append(delta)\n",
    "    return r"
   ]
  },
  {
   "cell_type": "code",
   "execution_count": 224,
   "metadata": {
    "collapsed": false
   },
   "outputs": [
    {
     "data": {
      "text/plain": [
       "[(u'cycliste_azr20',\n",
       "  [1.7799999713897705,\n",
       "   3.8499999046325684,\n",
       "   1.190000057220459,\n",
       "   3.809999942779541,\n",
       "   1.25,\n",
       "   4.620000123977661,\n",
       "   0.0,\n",
       "   2.169999837875366,\n",
       "   1.380000114440918,\n",
       "   3.819999933242798,\n",
       "   1.5,\n",
       "   3.990000009536743,\n",
       "   0.0,\n",
       "   2.8299999237060547,\n",
       "   1.190000057220459,\n",
       "   4.039999961853027,\n",
       "   1.2599999904632568,\n",
       "   3.870000123977661,\n",
       "   1.2100000381469727,\n",
       "   3.9099998474121094,\n",
       "   1.2799999713897705,\n",
       "   4.06000018119812,\n",
       "   1.3599998950958252,\n",
       "   4.079999923706055,\n",
       "   0.0,\n",
       "   2.5200002193450928,\n",
       "   1.309999942779541,\n",
       "   3.9800000190734863,\n",
       "   0.0,\n",
       "   2.6399998664855957,\n",
       "   1.380000114440918,\n",
       "   3.9600000381469727,\n",
       "   1.309999942779541,\n",
       "   3.9800000190734863,\n",
       "   1.2400000095367432,\n",
       "   4.059999942779541,\n",
       "   1.2999999523162842,\n",
       "   4.140000104904175,\n",
       "   1.309999942779541,\n",
       "   3.9800000190734863,\n",
       "   1.309999942779541]),\n",
       " (u'cycliste_azusd', []),\n",
       " (u'cycliste_azrd8',\n",
       "  [3.190000057220459,\n",
       "   2.930000066757202,\n",
       "   2.1500000953674316,\n",
       "   3.0899999141693115,\n",
       "   1.9800000190734863,\n",
       "   4.0,\n",
       "   1.9200000762939453,\n",
       "   3.4599997997283936,\n",
       "   1.630000114440918,\n",
       "   3.6600000858306885,\n",
       "   1.6499998569488525,\n",
       "   3.5899999141693115,\n",
       "   0.0,\n",
       "   2.3000001907348633,\n",
       "   1.8999998569488525,\n",
       "   3.4200000762939453,\n",
       "   1.8199999332427979,\n",
       "   3.259999990463257,\n",
       "   0.0,\n",
       "   2.81000018119812,\n",
       "   1.679999828338623,\n",
       "   3.5900001525878906,\n",
       "   1.8299999237060547,\n",
       "   3.559999942779541,\n",
       "   1.7799999713897705,\n",
       "   3.5199999809265137,\n",
       "   1.7400000095367432,\n",
       "   3.4800000190734863,\n",
       "   1.8400001525878906,\n",
       "   3.5199999809265137,\n",
       "   1.7400000095367432,\n",
       "   3.559999942779541,\n",
       "   1.6700000762939453,\n",
       "   3.5999999046325684,\n",
       "   1.75,\n",
       "   3.7100000381469727,\n",
       "   0.0,\n",
       "   2.5799999237060547,\n",
       "   1.8500001430511475,\n",
       "   3.4699997901916504]),\n",
       " (u'cycliste_azr24',\n",
       "  [3.4200000762939453,\n",
       "   2.690000057220459,\n",
       "   2.3899998664855957,\n",
       "   2.870000123977661,\n",
       "   2.200000047683716,\n",
       "   3.7899999618530273,\n",
       "   2.1399998664855957,\n",
       "   3.31000018119812,\n",
       "   1.7799999713897705,\n",
       "   3.509999990463257,\n",
       "   1.7999999523162842,\n",
       "   3.450000047683716,\n",
       "   1.7699999809265137,\n",
       "   3.450000047683716,\n",
       "   1.8399999141693115,\n",
       "   3.370000123977661,\n",
       "   1.7199997901916504,\n",
       "   3.380000114440918,\n",
       "   1.7999999523162842,\n",
       "   3.4000000953674316,\n",
       "   2.0199999809265137,\n",
       "   3.440000057220459,\n",
       "   1.8999998569488525,\n",
       "   3.390000104904175,\n",
       "   1.869999885559082,\n",
       "   3.370000123977661,\n",
       "   1.9500000476837158,\n",
       "   3.419999837875366,\n",
       "   1.8400001525878906,\n",
       "   3.4599997997283936,\n",
       "   1.7700002193450928,\n",
       "   3.509999990463257,\n",
       "   1.8399999141693115,\n",
       "   3.609999895095825,\n",
       "   1.8500001430511475,\n",
       "   3.419999837875366,\n",
       "   1.8600001335144043]),\n",
       " (u'cycliste_azed3',\n",
       "  [0.809999942779541,\n",
       "   4.580000162124634,\n",
       "   0.3899998664855957,\n",
       "   4.299999952316284,\n",
       "   0.7699999809265137,\n",
       "   5.1000001430511475,\n",
       "   3.059999942779541,\n",
       "   4.579999923706055,\n",
       "   0.75,\n",
       "   4.690000057220459,\n",
       "   0.6500000953674316,\n",
       "   4.5899999141693115,\n",
       "   0.0,\n",
       "   2.630000114440918,\n",
       "   0.7200000286102295,\n",
       "   4.359999895095825,\n",
       "   3.2799999713897705,\n",
       "   4.4700000286102295,\n",
       "   0.7100000381469727,\n",
       "   4.730000019073486,\n",
       "   0.75,\n",
       "   4.549999952316284,\n",
       "   0.7699999809265137,\n",
       "   4.579999923706055,\n",
       "   0.7100000381469727,\n",
       "   4.700000047683716,\n",
       "   0.7200000286102295,\n",
       "   4.549999952316284,\n",
       "   0.75,\n",
       "   4.5299999713897705,\n",
       "   0.0,\n",
       "   2.549999952316284,\n",
       "   0.7599999904632568,\n",
       "   4.710000038146973,\n",
       "   0.7400000095367432,\n",
       "   4.549999952316284])]"
      ]
     },
     "execution_count": 224,
     "metadata": {},
     "output_type": "execute_result"
    }
   ],
   "source": [
    "delais_par_cyclistes = timestamps_par_cycliste.mapValues(diff_timestamp)\n",
    "delais_par_cyclistes.take(5) # tableau de tuples comprenant une liste"
   ]
  },
  {
   "cell_type": "markdown",
   "metadata": {},
   "source": [
    "# Sommer les délais pour chaque cycliste"
   ]
  },
  {
   "cell_type": "code",
   "execution_count": 245,
   "metadata": {
    "collapsed": false
   },
   "outputs": [
    {
     "name": "stdout",
     "output_type": "stream",
     "text": [
      "--------------\n",
      "cycliste_azr20\n",
      "np.min(durees) = 0.00\n",
      "np.max(durees) = 4.62\n",
      "np.mean(durees)= 2.36\n",
      "np.sum(durees) = 96.87\n",
      "--------------\n",
      "cycliste_azrd8\n",
      "np.min(durees) = 0.00\n",
      "np.max(durees) = 4.00\n",
      "np.mean(durees)= 2.48\n",
      "np.sum(durees) = 99.23\n",
      "--------------\n",
      "cycliste_azr24\n",
      "np.min(durees) = 1.72\n",
      "np.max(durees) = 3.79\n",
      "np.mean(durees)= 2.66\n",
      "np.sum(durees) = 98.60\n"
     ]
    }
   ],
   "source": [
    "delais_concatenes = delais_par_cyclistes.reduceByKey(concatenation_de_liste)\n",
    "infos             = delais_concatenes.take(3)\n",
    "for id_cycliste, durees in infos:\n",
    "    print \"--------------\"\n",
    "    print id_cycliste\n",
    "    print \"np.min(durees) = %.2f\"%np.min(durees)\n",
    "    print \"np.max(durees) = %.2f\"%np.max(durees)\n",
    "    print \"np.mean(durees)= %.2f\"%np.mean(durees)\n",
    "    print \"np.sum(durees) = %.2f\"%np.sum(durees)"
   ]
  },
  {
   "cell_type": "code",
   "execution_count": 246,
   "metadata": {
    "collapsed": false
   },
   "outputs": [
    {
     "data": {
      "text/plain": [
       "MapPartitionsRDD[360] at mapPartitions at PythonRDD.scala:422"
      ]
     },
     "execution_count": 246,
     "metadata": {},
     "output_type": "execute_result"
    }
   ],
   "source": [
    "delais_concatenes.partitionBy(100)"
   ]
  },
  {
   "cell_type": "code",
   "execution_count": 247,
   "metadata": {
    "collapsed": false
   },
   "outputs": [],
   "source": [
    "temps_de_parcours = delais_par_cyclistes.mapValues(lambda x:sum(x))"
   ]
  },
  {
   "cell_type": "code",
   "execution_count": 250,
   "metadata": {
    "collapsed": false
   },
   "outputs": [
    {
     "data": {
      "text/plain": [
       "[(u'cycliste_azr20', 96.86999988555908),\n",
       " (u'cycliste_azusd', 0),\n",
       " (u'cycliste_azrd8', 99.23000001907349),\n",
       " (u'cycliste_azr24', 98.60000014305115),\n",
       " (u'cycliste_azed3', 95.08999991416931)]"
      ]
     },
     "execution_count": 250,
     "metadata": {},
     "output_type": "execute_result"
    }
   ],
   "source": [
    "temps_de_parcours.take(5)"
   ]
  },
  {
   "cell_type": "markdown",
   "metadata": {},
   "source": [
    "# Application d'une fonction distribuable ..."
   ]
  },
  {
   "cell_type": "code",
   "execution_count": 251,
   "metadata": {
    "collapsed": false
   },
   "outputs": [],
   "source": [
    "# on fait une opération associative et commutative (afin qu'elle soit distruable)\n",
    "def somme_de_valeurs(v1, v2):\n",
    "    return v1 + v2\n",
    "def concatenation_de_liste (liste1, liste2):  \n",
    "    if type(liste1)==type([]):\n",
    "        return sum(liste1)+sum(liste2)\n",
    "    else :\n",
    "        return \"pbm avec  %s\"%type(liste1)\n",
    "def moyenne_de_liste( x, y): \n",
    "    if type(liste1)==type([]):\n",
    "        liste_concatennees = x + y\n",
    "        return np.mean( liste_concatennees )\n",
    "    else :\n",
    "        return \"pbm avec  %s\"%type(liste1)\n",
    "    \n",
    "def max_de_liste( x, y): \n",
    "    if type(liste1)==type([]):\n",
    "        liste_concatennees = x + y\n",
    "        return np.max( liste_concatennees )\n",
    "    else :\n",
    "        return \"pbm avec  %s\"%type(liste1)    "
   ]
  },
  {
   "cell_type": "markdown",
   "metadata": {},
   "source": [
    "# ... d'un partitionnement vers le même partitionnement"
   ]
  },
  {
   "cell_type": "code",
   "execution_count": 252,
   "metadata": {
    "collapsed": true
   },
   "outputs": [],
   "source": [
    "liste_par_defaut   = []"
   ]
  },
  {
   "cell_type": "code",
   "execution_count": 257,
   "metadata": {
    "collapsed": false
   },
   "outputs": [
    {
     "data": {
      "text/plain": [
       "[(u'cycliste_azr20', [2.3626829240380265]),\n",
       " (u'cycliste_azrd8', [2.4807500004768372]),\n",
       " (u'cycliste_azr24', [2.6648648687311121])]"
      ]
     },
     "execution_count": 257,
     "metadata": {},
     "output_type": "execute_result"
    }
   ],
   "source": [
    "moyenne_ou_rien = lambda default,liste   : [np.mean(liste)] if liste else default \n",
    "\n",
    "duree_moyenne_par_cycliste = delais_concatenes.aggregateByKey(  liste_par_defaut ,\n",
    "                                                                moyenne_ou_rien  ,\n",
    "                                                                moyenne_de_liste )\n",
    "\n",
    "duree_moyenne_par_cycliste.take(3)"
   ]
  },
  {
   "cell_type": "code",
   "execution_count": 254,
   "metadata": {
    "collapsed": false
   },
   "outputs": [
    {
     "data": {
      "text/plain": [
       "[(u'cycliste_azr20', [4.6200001239776611]),\n",
       " (u'cycliste_azrd8', [4.0]),\n",
       " (u'cycliste_azr24', [3.7899999618530273])]"
      ]
     },
     "execution_count": 254,
     "metadata": {},
     "output_type": "execute_result"
    }
   ],
   "source": [
    "max_ou_rien = lambda default,liste   : [np.max(liste)] if liste else default \n",
    "\n",
    "duree_max_par_cycliste = delais_concatenes.aggregateByKey(  liste_par_defaut ,\n",
    "                                                                max_ou_rien  ,\n",
    "                                                                max_de_liste )\n",
    "\n",
    "duree_max_par_cycliste.take(3)"
   ]
  },
  {
   "cell_type": "code",
   "execution_count": null,
   "metadata": {
    "collapsed": true
   },
   "outputs": [],
   "source": []
  },
  {
   "cell_type": "code",
   "execution_count": null,
   "metadata": {
    "collapsed": true
   },
   "outputs": [],
   "source": []
  }
 ],
 "metadata": {
  "kernelspec": {
   "display_name": "Python 2",
   "language": "python",
   "name": "python2"
  },
  "language_info": {
   "codemirror_mode": {
    "name": "ipython",
    "version": 2
   },
   "file_extension": ".py",
   "mimetype": "text/x-python",
   "name": "python",
   "nbconvert_exporter": "python",
   "pygments_lexer": "ipython2",
   "version": "2.7.11"
  }
 },
 "nbformat": 4,
 "nbformat_minor": 0
}
