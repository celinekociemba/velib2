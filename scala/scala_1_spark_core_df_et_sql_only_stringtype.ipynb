{
 "cells": [
  {
   "cell_type": "code",
   "execution_count": 1,
   "metadata": {
    "collapsed": false
   },
   "outputs": [
    {
     "name": "stdout",
     "output_type": "stream",
     "text": [
      "ready\n"
     ]
    }
   ],
   "source": [
    "println(\"ready\")"
   ]
  },
  {
   "cell_type": "markdown",
   "metadata": {},
   "source": [
    "# -3) vérifier que le spark context est disponible"
   ]
  },
  {
   "cell_type": "code",
   "execution_count": 2,
   "metadata": {
    "collapsed": false
   },
   "outputs": [
    {
     "data": {
      "text/plain": [
       "org.apache.spark.SparkContext@60099134"
      ]
     },
     "execution_count": 2,
     "metadata": {},
     "output_type": "execute_result"
    }
   ],
   "source": [
    "sc"
   ]
  },
  {
   "cell_type": "markdown",
   "metadata": {},
   "source": [
    "# -2) imports"
   ]
  },
  {
   "cell_type": "code",
   "execution_count": 3,
   "metadata": {
    "collapsed": true
   },
   "outputs": [],
   "source": [
    "import org.apache.spark.SparkContext\n",
    "import org.apache.spark.SparkContext\n",
    "import org.apache.spark.SparkConf"
   ]
  },
  {
   "cell_type": "markdown",
   "metadata": {},
   "source": [
    "# -1) refaire un spark context personnalisé"
   ]
  },
  {
   "cell_type": "code",
   "execution_count": 4,
   "metadata": {
    "collapsed": false
   },
   "outputs": [
    {
     "data": {
      "text/plain": [
       "org.apache.spark.SparkConf@7d182e7a"
      ]
     },
     "execution_count": 4,
     "metadata": {},
     "output_type": "execute_result"
    }
   ],
   "source": [
    "val appName = \"rennes\"\n",
    "val master  = \"local[3]\"\n",
    "val conf    = new SparkConf()\n",
    "conf.setAppName(appName)\n",
    "conf.setMaster(master)\n"
   ]
  },
  {
   "cell_type": "code",
   "execution_count": 5,
   "metadata": {
    "collapsed": false
   },
   "outputs": [
    {
     "data": {
      "text/plain": [
       "local[*]"
      ]
     },
     "execution_count": 5,
     "metadata": {},
     "output_type": "execute_result"
    }
   ],
   "source": [
    "sc.master"
   ]
  },
  {
   "cell_type": "markdown",
   "metadata": {},
   "source": [
    "# 1) Créer une première rdd"
   ]
  },
  {
   "cell_type": "markdown",
   "metadata": {},
   "source": [
    "## 1.1) lecture d'un fichier"
   ]
  },
  {
   "cell_type": "code",
   "execution_count": 6,
   "metadata": {
    "collapsed": false
   },
   "outputs": [],
   "source": [
    "val cyclistes = sc.textFile(\"./logs_backup/cycliste_cyclistes.csv\")"
   ]
  },
  {
   "cell_type": "code",
   "execution_count": 7,
   "metadata": {
    "collapsed": false
   },
   "outputs": [
    {
     "data": {
      "text/plain": [
       "1764"
      ]
     },
     "execution_count": 7,
     "metadata": {},
     "output_type": "execute_result"
    }
   ],
   "source": [
    "cyclistes.count()"
   ]
  },
  {
   "cell_type": "code",
   "execution_count": 8,
   "metadata": {
    "collapsed": false
   },
   "outputs": [
    {
     "data": {
      "text/plain": [
       "Array(cycliste_azetu,6,31,femme,8.11111516393,21.9593538999,100, cycliste_aztv4,2,19,femme,10.5299319612,22.1102025653,8)"
      ]
     },
     "execution_count": 8,
     "metadata": {},
     "output_type": "execute_result"
    }
   ],
   "source": [
    "cyclistes.take(2)"
   ]
  },
  {
   "cell_type": "code",
   "execution_count": 9,
   "metadata": {
    "collapsed": false
   },
   "outputs": [],
   "source": [
    "val velos = sc.textFile(\"./logs_backup/velos_etats.csv\")"
   ]
  },
  {
   "cell_type": "code",
   "execution_count": 10,
   "metadata": {
    "collapsed": false
   },
   "outputs": [
    {
     "data": {
      "text/plain": [
       "Array(velo_azem4,1485439420.58,azf38,0.95,97.3984151307)"
      ]
     },
     "execution_count": 10,
     "metadata": {},
     "output_type": "execute_result"
    }
   ],
   "source": [
    "velos.take(1)"
   ]
  },
  {
   "cell_type": "markdown",
   "metadata": {},
   "source": [
    "# 1.2) filtrer"
   ]
  },
  {
   "cell_type": "code",
   "execution_count": 11,
   "metadata": {
    "collapsed": false
   },
   "outputs": [],
   "source": [
    "val velos2 = velos.filter(!_.isEmpty() )"
   ]
  },
  {
   "cell_type": "markdown",
   "metadata": {},
   "source": [
    "##### Remarque : en scala il faut faire précéder les chaines par la lettre [s] pour pouvoir afficher la valeur de variables"
   ]
  },
  {
   "cell_type": "code",
   "execution_count": 12,
   "metadata": {
    "collapsed": false
   },
   "outputs": [
    {
     "name": "stdout",
     "output_type": "stream",
     "text": [
      "fichier = 128668, lignes non vides =  64334\n"
     ]
    }
   ],
   "source": [
    "val nb_lignes = velos.count()\n",
    "println(s\"fichier = ${velos.count()}, lignes non vides =  ${velos2.count()}\")"
   ]
  },
  {
   "cell_type": "code",
   "execution_count": 13,
   "metadata": {
    "collapsed": true
   },
   "outputs": [],
   "source": [
    "def f[T](v: T) = v"
   ]
  },
  {
   "cell_type": "code",
   "execution_count": 14,
   "metadata": {
    "collapsed": false
   },
   "outputs": [
    {
     "data": {
      "text/plain": [
       "./logs_backup/velos_etats.csv MapPartitionsRDD[3] at textFile at <console>:22"
      ]
     },
     "execution_count": 14,
     "metadata": {},
     "output_type": "execute_result"
    }
   ],
   "source": [
    "f(velos)"
   ]
  },
  {
   "cell_type": "code",
   "execution_count": null,
   "metadata": {
    "collapsed": true
   },
   "outputs": [],
   "source": []
  },
  {
   "cell_type": "markdown",
   "metadata": {},
   "source": [
    "# 2) convertir un fichier en table sql"
   ]
  },
  {
   "cell_type": "markdown",
   "metadata": {},
   "source": [
    "## 2.0) importer les librairies sql"
   ]
  },
  {
   "cell_type": "code",
   "execution_count": 15,
   "metadata": {
    "collapsed": true
   },
   "outputs": [],
   "source": [
    "import org.apache.spark.sql.Row;\n",
    "import org.apache.spark.sql.types.{StructType, StructField, StringType};"
   ]
  },
  {
   "cell_type": "markdown",
   "metadata": {},
   "source": [
    "# 2.1) créer un sqlContext"
   ]
  },
  {
   "cell_type": "code",
   "execution_count": 16,
   "metadata": {
    "collapsed": true
   },
   "outputs": [],
   "source": [
    "val sqlContext = new org.apache.spark.sql.SQLContext(sc)"
   ]
  },
  {
   "cell_type": "code",
   "execution_count": 17,
   "metadata": {
    "collapsed": false
   },
   "outputs": [
    {
     "data": {
      "text/plain": [
       "Array()"
      ]
     },
     "execution_count": 17,
     "metadata": {},
     "output_type": "execute_result"
    }
   ],
   "source": [
    "sqlContext.tableNames()"
   ]
  },
  {
   "cell_type": "markdown",
   "metadata": {},
   "source": [
    "# 2.2) définir le schéma de la table vélo"
   ]
  },
  {
   "cell_type": "code",
   "execution_count": 18,
   "metadata": {
    "collapsed": false
   },
   "outputs": [],
   "source": [
    "var champs = List(  StructField(\"nom\"          , StringType, true),\n",
    "                    StructField(\"time\"         , StringType, true),\n",
    "                    StructField(\"station\"      , StringType, true),\n",
    "                    StructField(\"performance\"  , StringType, true),\n",
    "                    StructField(\"nb_km_trajet\" , StringType, true))\n",
    "var schema = StructType(champs)"
   ]
  },
  {
   "cell_type": "markdown",
   "metadata": {},
   "source": [
    "## 2.3) Transformer les lignes en tableau d'objet spécifiques : les 'Row'"
   ]
  },
  {
   "cell_type": "code",
   "execution_count": 19,
   "metadata": {
    "collapsed": false
   },
   "outputs": [],
   "source": [
    "val rowRDD = velos2.map(_.split(\",\")).map(champs => Row(champs(0), champs(1), champs(2),champs(3),champs(4)))"
   ]
  },
  {
   "cell_type": "markdown",
   "metadata": {},
   "source": [
    "# 2.4) créer une DataFrame via le sqlContext"
   ]
  },
  {
   "cell_type": "code",
   "execution_count": 20,
   "metadata": {
    "collapsed": false
   },
   "outputs": [],
   "source": [
    "val veloDF = sqlContext.createDataFrame(rowRDD, schema)"
   ]
  },
  {
   "cell_type": "markdown",
   "metadata": {},
   "source": [
    "# 2.5) Enregistrer la DataFrame en tant que table"
   ]
  },
  {
   "cell_type": "code",
   "execution_count": 21,
   "metadata": {
    "collapsed": false
   },
   "outputs": [],
   "source": [
    "val table_velos = \"velos\"\n",
    "veloDF.registerTempTable(table_velos)"
   ]
  },
  {
   "cell_type": "markdown",
   "metadata": {},
   "source": [
    "# 2.6) Requêter la table avec du SQL"
   ]
  },
  {
   "cell_type": "markdown",
   "metadata": {},
   "source": [
    "##### requete 01 : compte le nb de lignes"
   ]
  },
  {
   "cell_type": "code",
   "execution_count": 22,
   "metadata": {
    "collapsed": false
   },
   "outputs": [
    {
     "name": "stdout",
     "output_type": "stream",
     "text": [
      "+--------+\n",
      "|count(1)|\n",
      "+--------+\n",
      "|   64334|\n",
      "+--------+\n",
      "\n"
     ]
    }
   ],
   "source": [
    "val requete = s\"Select count(*) from ${table_velos}\"\n",
    "sqlContext.sql(requete).show()"
   ]
  },
  {
   "cell_type": "markdown",
   "metadata": {},
   "source": [
    "##### requete 02 : nb de nom distincts"
   ]
  },
  {
   "cell_type": "code",
   "execution_count": 23,
   "metadata": {
    "collapsed": false
   },
   "outputs": [
    {
     "name": "stdout",
     "output_type": "stream",
     "text": [
      "\r",
      "                                                                                \r",
      "+-------------------+\n",
      "|count(DISTINCT nom)|\n",
      "+-------------------+\n",
      "|                760|\n",
      "+-------------------+\n",
      "\n"
     ]
    }
   ],
   "source": [
    "val requete = s\"Select count( distinct nom) from ${table_velos}\"\n",
    "sqlContext.sql(requete).show()"
   ]
  },
  {
   "cell_type": "markdown",
   "metadata": {},
   "source": [
    "##### requete 03 : performance moyenne"
   ]
  },
  {
   "cell_type": "code",
   "execution_count": 24,
   "metadata": {
    "collapsed": false
   },
   "outputs": [
    {
     "name": "stdout",
     "output_type": "stream",
     "text": [
      "+--------------------------------+\n",
      "|avg(CAST(performance AS DOUBLE))|\n",
      "+--------------------------------+\n",
      "|              0.7615443430900648|\n",
      "+--------------------------------+\n",
      "\n"
     ]
    }
   ],
   "source": [
    "// performance moyenne : \n",
    "val requete = s\"Select mean( performance) from ${table_velos}\"\n",
    "sqlContext.sql(requete).show()"
   ]
  },
  {
   "cell_type": "markdown",
   "metadata": {},
   "source": [
    "##### requete 04 : multi champs"
   ]
  },
  {
   "cell_type": "code",
   "execution_count": 25,
   "metadata": {
    "collapsed": false
   },
   "outputs": [
    {
     "name": "stdout",
     "output_type": "stream",
     "text": [
      "+----------+-----------------+------------------+-----------------+------------------+----------+\n",
      "|       nom|min(nb_km_trajet)|           moyenne|max(nb_km_trajet)|             somme|nb_station|\n",
      "+----------+-----------------+------------------+-----------------+------------------+----------+\n",
      "|velo_aeyi6|    106.124133158|  250.712765889171|    98.2821292635|25321.989354806272|        46|\n",
      "|velo_azow8|    1000.72528089| 640.1191001270846|    994.915022987|129304.05822567109|        60|\n",
      "|velo_aeqx7|    49.6741505596|     49.6741505596|    49.6741505596|     49.6741505596|         1|\n",
      "|velo_aeufh|     102.45730718|  364.425467797552|    95.8711122327| 36806.97224755275|        48|\n",
      "|velo_arod5|    101.702990964|352.68417590080105|    90.3094170541| 35621.10176598091|        48|\n",
      "|velo_artu7|    100.583333498|374.04519581147616|    96.9156508692|37778.564776959094|        60|\n",
      "|velo_azdf6|    109.735413268|     109.735413268|    109.735413268|     109.735413268|         1|\n",
      "|velo_aeqf9|    1007.13554138|   931.52806195232|    999.600565032|282253.00277155294|        64|\n",
      "|velo_aerys|    111.742940242|381.43054944244847|    97.9444200301|38524.485493687294|        49|\n",
      "|velo_aeyiq|    10.9633640885|323.05327119470417|    91.4809932604| 32628.38039066512|        53|\n",
      "|velo_aelv1|     1.9486169998|388.58128155786426|    98.5165466323| 39246.70943734429|        61|\n",
      "|velo_azqm1|    10.7852923649| 835.7150737146325|    997.860350763|253221.66733553362|        75|\n",
      "|velo_aztx1|    116.152178975| 319.4781955545808|    99.7633115706|32267.297751012662|        50|\n",
      "|velo_aei57|    1003.94407292| 781.0789256868909|     990.09328608|157777.94298875195|        68|\n",
      "|velo_arpjv|    104.164487993|236.38422851716138|    99.4995273835|  23874.8070802333|        44|\n",
      "|velo_azkw8|   -0.97367022698| 273.7167038795087|    97.9085622758| 27645.38709183038|        38|\n",
      "|velo_ars89|    59.8932657472|     59.8932657472|    59.8932657472|     59.8932657472|         1|\n",
      "|velo_aeqxn|    101.616977267|248.59694096306933|    92.0145925841|25108.291037270003|        48|\n",
      "|velo_artm0|     84.161263584|      84.161263584|     84.161263584|      84.161263584|         1|\n",
      "|velo_artsd|     99.508326874|      99.508326874|     99.508326874|      99.508326874|         1|\n",
      "+----------+-----------------+------------------+-----------------+------------------+----------+\n",
      "only showing top 20 rows\n",
      "\n"
     ]
    }
   ],
   "source": [
    "val requete = s\"\"\"\n",
    "Select nom                                       , \n",
    "       min   ( nb_km_trajet     )                , \n",
    "       mean  ( nb_km_trajet     ) as moyenne     ,  \n",
    "       max   ( nb_km_trajet     )                ,\n",
    "       sum   ( nb_km_trajet     ) as somme       ,\n",
    "       count ( distinct station ) as nb_station\n",
    "       \n",
    "from ${table_velos}\n",
    "group by nom\n",
    "\"\"\"\n",
    "sqlContext.sql(requete).show()"
   ]
  },
  {
   "cell_type": "code",
   "execution_count": 26,
   "metadata": {
    "collapsed": false
   },
   "outputs": [
    {
     "data": {
      "text/plain": [
       "Name: Syntax Error.\n",
       "Message: \n",
       "StackTrace: "
      ]
     },
     "execution_count": 26,
     "metadata": {},
     "output_type": "execute_result"
    }
   ],
   "source": [
    "//import org.joda.time.{DateTimeZone}\n",
    "//import org.joda.time.format.DateTimeFormat"
   ]
  },
  {
   "cell_type": "markdown",
   "metadata": {},
   "source": [
    "##### requete 05 : conversion de timestamp en date"
   ]
  },
  {
   "cell_type": "code",
   "execution_count": 27,
   "metadata": {
    "collapsed": false
   },
   "outputs": [
    {
     "name": "stdout",
     "output_type": "stream",
     "text": [
      "+----------+-------------------+-------------------+\n",
      "|       nom|    premiere_sortie|    derniere_sortie|\n",
      "+----------+-------------------+-------------------+\n",
      "|velo_aeyi6|2017-01-26 14:08:41|2017-01-26 14:28:02|\n",
      "|velo_azow8|2017-01-26 14:11:32|2017-01-26 14:38:02|\n",
      "|velo_aeqx7|2017-01-26 14:03:22|2017-01-26 14:03:22|\n",
      "|velo_aeufh|2017-01-26 14:06:59|2017-01-26 14:25:08|\n",
      "|velo_arod5|2017-01-26 14:06:43|2017-01-26 14:22:34|\n",
      "|velo_artu7|2017-01-26 14:06:43|2017-01-26 14:17:00|\n",
      "|velo_azdf6|2017-01-26 14:03:43|2017-01-26 14:03:43|\n",
      "|velo_aeqf9|2017-01-26 14:06:43|2017-01-26 14:29:22|\n",
      "|velo_aerys|2017-01-26 14:11:29|2017-01-26 14:21:55|\n",
      "|velo_aeyiq|2017-01-26 14:06:59|2017-01-26 14:14:36|\n",
      "|velo_aelv1|2017-01-26 14:06:48|2017-01-26 14:20:03|\n",
      "|velo_azqm1|2017-01-26 14:06:48|2017-01-26 14:25:03|\n",
      "|velo_aztx1|2017-01-26 14:06:58|2017-01-26 14:10:09|\n",
      "|velo_aei57|2017-01-26 14:07:53|2017-01-26 14:20:23|\n",
      "|velo_arpjv|2017-01-26 14:06:44|2017-01-26 14:18:25|\n",
      "|velo_azkw8|2017-01-26 14:13:48|2017-01-26 14:26:40|\n",
      "|velo_ars89|2017-01-26 14:03:36|2017-01-26 14:03:36|\n",
      "|velo_aeqxn|2017-01-26 14:06:43|2017-01-26 14:14:49|\n",
      "|velo_artm0|2017-01-26 14:03:41|2017-01-26 14:03:41|\n",
      "|velo_artsd|2017-01-26 14:03:37|2017-01-26 14:03:37|\n",
      "+----------+-------------------+-------------------+\n",
      "only showing top 20 rows\n",
      "\n"
     ]
    }
   ],
   "source": [
    "val requete = s\"\"\"\n",
    "Select  nom,\n",
    "        min(from_unixtime(time,'YYYY-MM-dd HH:mm:ss')) as premiere_sortie, \n",
    "        max(from_unixtime(time,'YYYY-MM-dd HH:mm:ss')) as derniere_sortie                \n",
    "        from ${table_velos}\n",
    "        group by nom\n",
    "\"\"\"\n",
    "sqlContext.sql(requete).show()"
   ]
  },
  {
   "cell_type": "markdown",
   "metadata": {},
   "source": [
    "##### requete 06 : imbrication de requêtes "
   ]
  },
  {
   "cell_type": "code",
   "execution_count": 28,
   "metadata": {
    "collapsed": false
   },
   "outputs": [
    {
     "name": "stdout",
     "output_type": "stream",
     "text": [
      "+----------+--------+\n",
      "|       nom|   duree|\n",
      "+----------+--------+\n",
      "|velo_aeyi6|00:19:20|\n",
      "|velo_azow8|00:26:29|\n",
      "|velo_aeqx7|00:00:00|\n",
      "|velo_aeufh|00:18:09|\n",
      "|velo_arod5|00:15:51|\n",
      "|velo_artu7|00:10:16|\n",
      "|velo_azdf6|00:00:00|\n",
      "|velo_aeqf9|00:22:39|\n",
      "|velo_aerys|00:10:26|\n",
      "|velo_aeyiq|00:07:37|\n",
      "|velo_aelv1|00:13:14|\n",
      "|velo_azqm1|00:18:14|\n",
      "|velo_aztx1|00:03:10|\n",
      "|velo_aei57|00:12:30|\n",
      "|velo_arpjv|00:11:40|\n",
      "|velo_azkw8|00:12:51|\n",
      "|velo_ars89|00:00:00|\n",
      "|velo_aeqxn|00:08:05|\n",
      "|velo_artm0|00:00:00|\n",
      "|velo_artsd|00:00:00|\n",
      "+----------+--------+\n",
      "only showing top 20 rows\n",
      "\n"
     ]
    }
   ],
   "source": [
    "val requete = s\"\"\"\n",
    "Select  nom, \n",
    "        from_unixtime(derniere_sortie - premiere_sortie, 'HH:mm:ss') as duree\n",
    "from\n",
    "(       Select  nom,\n",
    "                min(time) as premiere_sortie, \n",
    "                max(time) as derniere_sortie                \n",
    "        from ${table_velos}\n",
    "        group by nom\n",
    "        )\n",
    "\"\"\"\n",
    "sqlContext.sql(requete).show()"
   ]
  },
  {
   "cell_type": "markdown",
   "metadata": {
    "collapsed": true
   },
   "source": [
    "# 3) reading csv"
   ]
  },
  {
   "cell_type": "code",
   "execution_count": 29,
   "metadata": {
    "collapsed": false
   },
   "outputs": [],
   "source": [
    "// 1) création de la structure\n",
    "var champs         = List(  StructField(\"nom\"    , StringType, true) ,\n",
    "                            StructField(\"heure\"  , StringType, true) ,\n",
    "                            StructField(\"velo\"   , StringType, true) ,\n",
    "                            StructField(\"action\" , StringType, true) )\n",
    "var schema         = StructType(champs)\n",
    "\n",
    "// 2) lecture des données\n",
    "val path           = \"./logs_backup/cycliste_prises.csv\"\n",
    "val DataSet_prise  = sqlContext.read.schema(schema).csv(path)\n",
    "\n",
    "// 3) nommage de la table\n",
    "val table_prises   = \"prises\"\n",
    "DataSet_prise.registerTempTable(table_prises)\n"
   ]
  },
  {
   "cell_type": "code",
   "execution_count": 30,
   "metadata": {
    "collapsed": false
   },
   "outputs": [],
   "source": [
    "var champs = List(  StructField(\"cyclise\"  , StringType, true),\n",
    "                    StructField(\"heure\"    , StringType, true),\n",
    "                    StructField(\"rendu\"    , StringType, true),\n",
    "                    StructField(\"duree\"    , StringType, true),\n",
    "                    StructField(\"velo\"     , StringType, true))\n",
    "var r_schema = StructType(champs)\n",
    "val DataSet_rendu = sqlContext.read.schema(r_schema).csv(\"./logs_backup/cycliste_rendu.csv\")\n",
    "val table_rendu = \"rendus\"\n",
    "DataSet_rendu.registerTempTable(table_rendu)"
   ]
  },
  {
   "cell_type": "code",
   "execution_count": 31,
   "metadata": {
    "collapsed": false
   },
   "outputs": [
    {
     "name": "stdout",
     "output_type": "stream",
     "text": [
      "+--------------+-------------+-------------+-------------+-------------+-------------+----------+\n",
      "|           nom|        heure|        heure|        rendu|        duree|        heure|      velo|\n",
      "+--------------+-------------+-------------+-------------+-------------+-------------+----------+\n",
      "|cycliste_aze10|1485439668.61|1485439670.98|1485439671.12|5.54097819705|1485439668.61|velo_artu3|\n",
      "|cycliste_aze10|1485439719.74|1485439697.71|1485439697.95|5.65514540188|1485439719.74|velo_azk10|\n",
      "|cycliste_aze10|1485439719.74|1485440167.85|1485440168.35|7.70852595438|1485439719.74|velo_azk10|\n",
      "|cycliste_aze10|1485439757.55|1485440363.17|1485440363.83|10.7317745762|1485439757.55|velo_azru2|\n",
      "|cycliste_aze10|1485439783.18| 1485439785.9|1485439786.53| 10.572863395|1485439783.18|velo_aryv3|\n",
      "|cycliste_aze10|1485439783.18|1485440065.62|1485440066.32|4.89870374148|1485439783.18|velo_aryv3|\n",
      "|cycliste_aze10|1485439821.97|1485439706.32|1485439706.32|            0|1485439821.97|velo_azrjc|\n",
      "|cycliste_aze10|1485439834.83|1485439827.86|1485439828.29|4.64467495337|1485439834.83|velo_aryv7|\n",
      "|cycliste_aze10|1485439834.83|1485439830.88|1485439831.04|1.75312470608|1485439834.83|velo_aryv7|\n",
      "|cycliste_aze10|1485439847.64|1485440047.88|1485440048.92| 13.375818016|1485439847.64|velo_az235|\n",
      "|cycliste_aze10|1485439885.52|1485439719.21|1485439719.21|            0|1485439885.52|velo_aetug|\n",
      "|cycliste_aze10|1485439885.52|1485439886.88|1485439887.41|8.61078588535|1485439885.52|velo_aetug|\n",
      "|cycliste_aze10|1485439911.88|1485439968.42|1485439968.69|5.13984108637|1485439911.88|velo_aepdh|\n",
      "|cycliste_aze10|1485439911.88| 1485440483.4| 1485440483.4|            0|1485439911.88|velo_aepdh|\n",
      "|cycliste_aze10|1485439924.92| 1485439882.7| 1485439882.7|            0|1485439924.92|velo_aerp5|\n",
      "|cycliste_aze10|1485439978.26|1485440001.92| 1485440003.3|11.5721240605|1485439978.26|velo_arqx5|\n",
      "|cycliste_aze10|1485440083.15|1485440074.85| 1485440077.7|10.5598839314|1485440083.15|velo_aefb2|\n",
      "|cycliste_aze10|1485440189.57|1485440208.37|1485440209.65|14.6828150854|1485440189.57|velo_artu7|\n",
      "|cycliste_aze10|1485440282.23|1485439683.37|1485439683.76|7.02829224966|1485440282.23|velo_azrfx|\n",
      "|cycliste_aze10|1485440323.22|1485439691.61| 1485439691.8|7.04687841266|1485440323.22|velo_azdw1|\n",
      "+--------------+-------------+-------------+-------------+-------------+-------------+----------+\n",
      "only showing top 20 rows\n",
      "\n"
     ]
    }
   ],
   "source": [
    "val requete = s\"\"\"  SELECT distinct  p.nom     , \n",
    "                                     p.heure   , \n",
    "                                     r.heure   ,\n",
    "                                     r.rendu   ,\n",
    "                                     r.duree   ,\n",
    "                                     p.heure   , \n",
    "                                     r.velo\n",
    "                    FROM        prises AS p \n",
    "                    INNER JOIN  rendus AS r \n",
    "                    ON          p.velo = r.velo\n",
    "\"\"\"\n",
    "sqlContext.sql(requete).show()"
   ]
  },
  {
   "cell_type": "code",
   "execution_count": null,
   "metadata": {
    "collapsed": true
   },
   "outputs": [],
   "source": []
  }
 ],
 "metadata": {
  "kernelspec": {
   "display_name": "Apache Toree - Scala",
   "language": "scala",
   "name": "apache_toree_scala"
  },
  "language_info": {
   "file_extension": ".scala",
   "name": "scala",
   "version": "2.11.8"
  }
 },
 "nbformat": 4,
 "nbformat_minor": 2
}
