{
 "cells": [
  {
   "cell_type": "code",
   "execution_count": 287,
   "metadata": {
    "collapsed": false
   },
   "outputs": [
    {
     "name": "stdout",
     "output_type": "stream",
     "text": [
      "ready\n"
     ]
    }
   ],
   "source": [
    "println(\"ready\")"
   ]
  },
  {
   "cell_type": "markdown",
   "metadata": {},
   "source": [
    "# -2) imports"
   ]
  },
  {
   "cell_type": "code",
   "execution_count": 288,
   "metadata": {
    "collapsed": true
   },
   "outputs": [],
   "source": [
    "import org.apache.spark.SparkContext\n",
    "import org.apache.spark.SparkContext\n",
    "import org.apache.spark.SparkConf\n",
    "import org.apache.spark.sql.Row;\n",
    "import org.apache.spark.sql.types.{StructType, StructField, StringType};"
   ]
  },
  {
   "cell_type": "markdown",
   "metadata": {},
   "source": [
    "# -1) refaire un spark context personnalisé"
   ]
  },
  {
   "cell_type": "code",
   "execution_count": 289,
   "metadata": {
    "collapsed": true
   },
   "outputs": [],
   "source": [
    "import org.apache.spark.sql.SparkSession\n",
    "val spark = SparkSession.builder().getOrCreate()"
   ]
  },
  {
   "cell_type": "code",
   "execution_count": 290,
   "metadata": {
    "collapsed": false
   },
   "outputs": [],
   "source": [
    "import org.apache.spark.sql.Row\n",
    "import org.apache.spark.sql.types._\n",
    "import spark.implicits._"
   ]
  },
  {
   "cell_type": "code",
   "execution_count": 291,
   "metadata": {
    "collapsed": false
   },
   "outputs": [
    {
     "data": {
      "text/plain": [
       "org.apache.spark.SparkConf@3e44c9a3"
      ]
     },
     "execution_count": 291,
     "metadata": {},
     "output_type": "execute_result"
    }
   ],
   "source": [
    "val appName = \"rennes\"\n",
    "val master  = \"local[3]\"\n",
    "val conf    = new SparkConf()\n",
    "conf.setAppName(appName)\n",
    "conf.setMaster(master)\n"
   ]
  },
  {
   "cell_type": "markdown",
   "metadata": {},
   "source": [
    "# Créer un sqlcontext"
   ]
  },
  {
   "cell_type": "code",
   "execution_count": 292,
   "metadata": {
    "collapsed": true
   },
   "outputs": [],
   "source": [
    "val sqlContext = new org.apache.spark.sql.SQLContext(sc)"
   ]
  },
  {
   "cell_type": "markdown",
   "metadata": {},
   "source": [
    "# Possibilité 1 : appliquer un schéma à postériori"
   ]
  },
  {
   "cell_type": "markdown",
   "metadata": {},
   "source": [
    "### Cyclistes"
   ]
  },
  {
   "cell_type": "code",
   "execution_count": 293,
   "metadata": {
    "collapsed": false
   },
   "outputs": [
    {
     "name": "stdout",
     "output_type": "stream",
     "text": [
      "8071\n"
     ]
    }
   ],
   "source": [
    "var cyclistes = sc.textFile(\"./logs/cycliste_cyclistes.csv\")\n",
    "// on retire le header\n",
    "val header = cyclistes.first() \n",
    "cyclistes = cyclistes.filter(row => row != header) \n",
    "// on filtre sur les lignes pleines\n",
    "cyclistes = cyclistes.filter(!_.isEmpty() )\n",
    "System.out.println(cyclistes.count)\n",
    "\n",
    "// on crée le schéma\n",
    "var champs = List(  StructField(\"cycliste\"     , StringType, true),\n",
    "                    StructField(\"sportif\"      , FloatType, true),\n",
    "                    StructField(\"age\"          , IntegerType, true),\n",
    "                    StructField(\"genre\"        , StringType, true),\n",
    "                    StructField(\"nb_km_moyen\"  , FloatType, true),\n",
    "                    StructField(\"vitesse\"      , FloatType, true),\n",
    "                    StructField(\"attente\"      , FloatType, true))\n",
    "                    \n",
    "var schema = StructType(champs)\n",
    "// on cast les données dans le  même type que le schéma \n",
    "val rowRDD = cyclistes.map(_.split(\",\")).map(champs => Row(   champs(0), \n",
    "                                            champs(1).toFloat, \n",
    "                                            champs(2).toInt,\n",
    "                                            champs(3),\n",
    "                                            champs(4).toFloat,\n",
    "                                            champs(5).toFloat,\n",
    "                                            champs(5).toFloat))\n",
    "// on crée une dataframe en appliquant le schéma sur les données castées\n",
    "val df_cycliste = sqlContext.createDataFrame(rowRDD, schema)                                            "
   ]
  },
  {
   "cell_type": "code",
   "execution_count": 294,
   "metadata": {
    "collapsed": false
   },
   "outputs": [
    {
     "data": {
      "text/plain": [
       "Array([cycliste_azs78,4.0,42,femme,14.274417,19.646261,19.646261])"
      ]
     },
     "execution_count": 294,
     "metadata": {},
     "output_type": "execute_result"
    }
   ],
   "source": [
    "df_cycliste.take(1)"
   ]
  },
  {
   "cell_type": "markdown",
   "metadata": {},
   "source": [
    "### trajets"
   ]
  },
  {
   "cell_type": "code",
   "execution_count": 295,
   "metadata": {
    "collapsed": true
   },
   "outputs": [],
   "source": [
    "import java.sql.Timestamp"
   ]
  },
  {
   "cell_type": "code",
   "execution_count": 296,
   "metadata": {
    "collapsed": false
   },
   "outputs": [
    {
     "name": "stdout",
     "output_type": "stream",
     "text": [
      "78075\n"
     ]
    },
    {
     "data": {
      "text/plain": [
       "Array(arik8,cycliste_azom3,velo_arsd2_1486319951.69,1486320427.75,1486320436.3,8.54677605629,3.16227766017,azq69)"
      ]
     },
     "execution_count": 296,
     "metadata": {},
     "output_type": "execute_result"
    }
   ],
   "source": [
    "var trajets = sc.textFile(\"./logs/trajets.csv\")\n",
    "val header = trajets.first() \n",
    "trajets    = trajets.filter(row => row != header) \n",
    "trajets    = trajets.filter(!_.isEmpty() )\n",
    "System.out.println(trajets.count)\n",
    "trajets.take(1)"
   ]
  },
  {
   "cell_type": "code",
   "execution_count": 297,
   "metadata": {
    "collapsed": false
   },
   "outputs": [],
   "source": [
    "var champs = List(  StructField(\"station\"     , StringType, true),\n",
    "                    StructField(\"cycliste\"      , StringType, true),\n",
    "                    StructField(\"velo\"          , StringType, true),\n",
    "                    StructField(\"h_depart\"        , TimestampType, true),\n",
    "                    StructField(\"h_darrivee\"        , TimestampType, true),\n",
    "                    StructField(\"duree\"         , FloatType, true),\n",
    "                    StructField(\"distance\"      , FloatType, true),\n",
    "                    StructField(\"arrivee\"      , StringType, true))\n",
    "                    \n",
    "var schema = StructType(champs)\n",
    "\n",
    "val rowRDD = trajets.map(_.split(\",\")).map(champs => Row(   champs(0), \n",
    "                                            champs(1), \n",
    "                                            champs(2),\n",
    "                                            new Timestamp(champs(3).substring(0,10).toLong*1000),\n",
    "                                            new Timestamp(champs(4).substring(0,10).toLong*1000),\n",
    "                                            champs(5).toFloat,\n",
    "                                            champs(6).toFloat,\n",
    "                                            champs(7)))\n",
    "val df_trajets = sqlContext.createDataFrame(rowRDD, schema)                                            "
   ]
  },
  {
   "cell_type": "code",
   "execution_count": 298,
   "metadata": {
    "collapsed": false
   },
   "outputs": [
    {
     "data": {
      "text/plain": [
       "Array([arik8,cycliste_azom3,velo_arsd2_1486319951.69,2017-02-05 18:47:07.0,2017-02-05 18:47:16.0,8.546776,3.1622777,azq69])"
      ]
     },
     "execution_count": 298,
     "metadata": {},
     "output_type": "execute_result"
    }
   ],
   "source": [
    "df_trajets.take(1)"
   ]
  },
  {
   "cell_type": "markdown",
   "metadata": {},
   "source": [
    "# Possibilité 2 : inférer le schéma\n",
    "=> plus lent car le fichier est lu deux fois"
   ]
  },
  {
   "cell_type": "markdown",
   "metadata": {},
   "source": [
    "# options de lecture du csv"
   ]
  },
  {
   "cell_type": "code",
   "execution_count": 299,
   "metadata": {
    "collapsed": true
   },
   "outputs": [],
   "source": [
    "val options  = Map(  \"header\"                    -> \"true\"     ,\n",
    "                     \"ignoreLeadingWhiteSpace\"   -> \"true\"     ,\n",
    "                     \"ignoreTrailingWhiteSpace\"  -> \"true\"     ,\n",
    "                     \"inferSchema\"               -> \"true\"     ,\n",
    "                     \"mode\"                      -> \"FAILFAST\" )"
   ]
  },
  {
   "cell_type": "markdown",
   "metadata": {},
   "source": [
    "### Cyclistes"
   ]
  },
  {
   "cell_type": "code",
   "execution_count": 300,
   "metadata": {
    "collapsed": false
   },
   "outputs": [
    {
     "name": "stdout",
     "output_type": "stream",
     "text": [
      "+--------------+-------+---+-----+-------------+-------------+-------+\n",
      "|      cycliste|sportif|age| sexe|        nb_km|      vitesse|attente|\n",
      "+--------------+-------+---+-----+-------------+-------------+-------+\n",
      "|cycliste_azs78|    4.0| 42|femme|14.2744166428|19.6462613202|    0.5|\n",
      "|cycliste_azf23|    6.0| 15|homme|4.38667620022|37.5528123155|    0.5|\n",
      "+--------------+-------+---+-----+-------------+-------------+-------+\n",
      "only showing top 2 rows\n",
      "\n"
     ]
    },
    {
     "data": {
      "text/plain": [
       "StructType(StructField(cycliste,StringType,true), StructField(sportif,DoubleType,true), StructField(age,IntegerType,true), StructField(sexe,StringType,true), StructField(nb_km,DoubleType,true), StructField(vitesse,DoubleType,true), StructField(attente,DoubleType,true))"
      ]
     },
     "execution_count": 300,
     "metadata": {},
     "output_type": "execute_result"
    }
   ],
   "source": [
    "val path     = \"./logs/cycliste_cyclistes.csv\"\n",
    "val cyclistes = spark.read.options(options).csv(path)\n",
    "cyclistes.show(2)\n",
    "cyclistes.schema"
   ]
  },
  {
   "cell_type": "markdown",
   "metadata": {},
   "source": [
    "### Trajets"
   ]
  },
  {
   "cell_type": "code",
   "execution_count": 301,
   "metadata": {
    "collapsed": false
   },
   "outputs": [],
   "source": [
    "val path    = \"./logs/trajets.csv\"\n",
    "val trajets = spark.read.options(options).csv(path)"
   ]
  },
  {
   "cell_type": "code",
   "execution_count": 302,
   "metadata": {
    "collapsed": false
   },
   "outputs": [
    {
     "name": "stdout",
     "output_type": "stream",
     "text": [
      "+--------------+--------------+--------------------+---------------+--------------+-------------+-------------+---------------+\n",
      "|station_depart|      cycliste|                velo|heure_de_depart|  heure_de_fin|        duree|     distance|station_arrivee|\n",
      "+--------------+--------------+--------------------+---------------+--------------+-------------+-------------+---------------+\n",
      "|         arik8|cycliste_azom3|velo_arsd2_148631...|1.48632042775E9|1.4863204363E9|8.54677605629|3.16227766017|          azq69|\n",
      "|         ard67|cycliste_azuhb|velo_aelb6_148631...|1.48632042776E9|1.4863204363E9|8.54095602036|5.38516480713|          arti0|\n",
      "+--------------+--------------+--------------------+---------------+--------------+-------------+-------------+---------------+\n",
      "only showing top 2 rows\n",
      "\n"
     ]
    },
    {
     "data": {
      "text/plain": [
       "StructType(StructField(station_depart,StringType,true), StructField(cycliste,StringType,true), StructField(velo,StringType,true), StructField(heure_de_depart,DoubleType,true), StructField(heure_de_fin,DoubleType,true), StructField(duree,DoubleType,true), StructField(distance,DoubleType,true), StructField(station_arrivee,StringType,true))"
      ]
     },
     "execution_count": 302,
     "metadata": {},
     "output_type": "execute_result"
    }
   ],
   "source": [
    "trajets.show(2)\n",
    "trajets.schema"
   ]
  },
  {
   "cell_type": "markdown",
   "metadata": {},
   "source": [
    "### Créer des time stamps"
   ]
  },
  {
   "cell_type": "code",
   "execution_count": 303,
   "metadata": {
    "collapsed": false
   },
   "outputs": [
    {
     "name": "stdout",
     "output_type": "stream",
     "text": [
      "+----------------------+---------------------+-------------+\n",
      "|timestamp_de_depart   |timestamp_de_fin     |duree        |\n",
      "+----------------------+---------------------+-------------+\n",
      "|2017-02-05 18:47:07.75|2017-02-05 18:47:16.3|8.54677605629|\n",
      "|2017-02-05 18:47:07.76|2017-02-05 18:47:16.3|8.54095602036|\n",
      "|2017-02-05 18:47:07.76|2017-02-05 18:47:16.3|8.53870892525|\n",
      "|2017-02-05 18:47:07.77|2017-02-05 18:47:16.3|8.53642320633|\n",
      "+----------------------+---------------------+-------------+\n",
      "only showing top 4 rows\n",
      "\n"
     ]
    }
   ],
   "source": [
    "// cast a column to a timestamp\n",
    "val trajets2 = trajets.withColumn (\"timestamp_de_depart\",trajets(\"heure_de_depart\").cast(\"timestamp\"))\n",
    "val trajets3 = trajets2.withColumn(\"timestamp_de_fin\"  , trajets(\"heure_de_fin\"   ).cast(\"timestamp\"))\n",
    "trajets3.select(\"timestamp_de_depart\", \"timestamp_de_fin\", \"duree\").show(4, false)\n"
   ]
  },
  {
   "cell_type": "markdown",
   "metadata": {},
   "source": [
    "### Velos"
   ]
  },
  {
   "cell_type": "code",
   "execution_count": 304,
   "metadata": {
    "collapsed": false
   },
   "outputs": [],
   "source": [
    "val path    = \"./logs/velos_etats.csv\"\n",
    "val velos = spark.read.options(options).csv(path).withColumn(\"timestamp\",'time.cast(\"timestamp\")).drop('time)"
   ]
  },
  {
   "cell_type": "code",
   "execution_count": 305,
   "metadata": {
    "collapsed": false
   },
   "outputs": [
    {
     "name": "stdout",
     "output_type": "stream",
     "text": [
      "+------------------------+---------+-----------+-----------+------------+----------------------+\n",
      "|velo                    |n_message|station.nom|performance|nb_km_trajet|timestamp             |\n",
      "+------------------------+---------+-----------+-----------+------------+----------------------+\n",
      "|velo_ardc7_1486319950.92|10       |aeyuk      |0.0        |0.0         |2017-02-05 18:47:35.25|\n",
      "|velo_ardc7_1486319950.92|9        |aeyuk      |0.0        |0.0         |2017-02-05 18:47:34.7 |\n",
      "+------------------------+---------+-----------+-----------+------------+----------------------+\n",
      "only showing top 2 rows\n",
      "\n"
     ]
    }
   ],
   "source": [
    "velos.show(2, false)"
   ]
  },
  {
   "cell_type": "markdown",
   "metadata": {},
   "source": [
    "# Utilisation"
   ]
  },
  {
   "cell_type": "markdown",
   "metadata": {},
   "source": [
    "### one-hot encoding : changer les catégories en nombre"
   ]
  },
  {
   "cell_type": "code",
   "execution_count": 306,
   "metadata": {
    "collapsed": true
   },
   "outputs": [],
   "source": [
    "import org.apache.spark.ml.feature.StringIndexer"
   ]
  },
  {
   "cell_type": "code",
   "execution_count": 307,
   "metadata": {
    "collapsed": false
   },
   "outputs": [
    {
     "name": "stdout",
     "output_type": "stream",
     "text": [
      "+--------------+-------+---+-----+-------------+-------------+-------+--------+\n",
      "|      cycliste|sportif|age| sexe|        nb_km|      vitesse|attente|sexe-num|\n",
      "+--------------+-------+---+-----+-------------+-------------+-------+--------+\n",
      "|cycliste_azs78|    4.0| 42|femme|14.2744166428|19.6462613202|    0.5|     1.0|\n",
      "|cycliste_azf23|    6.0| 15|homme|4.38667620022|37.5528123155|    0.5|     0.0|\n",
      "|cycliste_azifk|    2.0| 42|homme|10.3039046535|20.9549224279|    0.5|     0.0|\n",
      "|cycliste_azfn4|    2.0| 75|femme|14.5216269084|9.46437654747|    0.5|     1.0|\n",
      "|cycliste_azrg7|    0.0| 79|homme|1.41417358534|20.4831512318|    0.5|     0.0|\n",
      "+--------------+-------+---+-----+-------------+-------------+-------+--------+\n",
      "only showing top 5 rows\n",
      "\n"
     ]
    }
   ],
   "source": [
    "val string_indexer       = new StringIndexer().setInputCol(\"sexe\").setOutputCol(\"sexe-num\")\n",
    "val string_indexer_model = string_indexer.fit(cyclistes)\n",
    "val cyclistes_doubles    = string_indexer_model.transform(cyclistes)\n",
    "cyclistes_doubles.show(5)"
   ]
  },
  {
   "cell_type": "markdown",
   "metadata": {},
   "source": [
    "### définir   une colonne X qui est un vecteur appellée \"features\" \n"
   ]
  },
  {
   "cell_type": "code",
   "execution_count": 308,
   "metadata": {
    "collapsed": false
   },
   "outputs": [],
   "source": [
    "import org.apache.spark.ml.feature.VectorAssembler"
   ]
  },
  {
   "cell_type": "code",
   "execution_count": 309,
   "metadata": {
    "collapsed": false
   },
   "outputs": [
    {
     "data": {
      "text/plain": [
       "Array(sportif, age, nb_km, vitesse, attente)"
      ]
     },
     "execution_count": 309,
     "metadata": {},
     "output_type": "execute_result"
    }
   ],
   "source": [
    "val colonnes_sans_y = cyclistes_doubles.columns.diff(Array(\"sexe\", \"sexe-num\", \"cycliste\"))\n",
    "colonnes_sans_y"
   ]
  },
  {
   "cell_type": "code",
   "execution_count": 310,
   "metadata": {
    "collapsed": false
   },
   "outputs": [
    {
     "data": {
      "text/plain": [
       "vecAssembler_85bb586d2331"
      ]
     },
     "execution_count": 310,
     "metadata": {},
     "output_type": "execute_result"
    }
   ],
   "source": [
    "val x_y = new VectorAssembler()\n",
    "x_y.setInputCols(colonnes_sans_y)\n",
    "x_y.setOutputCol(\"features\")"
   ]
  },
  {
   "cell_type": "code",
   "execution_count": 311,
   "metadata": {
    "collapsed": false
   },
   "outputs": [],
   "source": [
    "val points=  x_y.transform(cyclistes_doubles)"
   ]
  },
  {
   "cell_type": "markdown",
   "metadata": {},
   "source": [
    "#### On a créé les features"
   ]
  },
  {
   "cell_type": "code",
   "execution_count": 312,
   "metadata": {
    "collapsed": false
   },
   "outputs": [
    {
     "name": "stdout",
     "output_type": "stream",
     "text": [
      "+--------------+-------+---+-----+-------------+-------------+-------+--------+--------------------+\n",
      "|      cycliste|sportif|age| sexe|        nb_km|      vitesse|attente|sexe-num|            features|\n",
      "+--------------+-------+---+-----+-------------+-------------+-------+--------+--------------------+\n",
      "|cycliste_azs78|    4.0| 42|femme|14.2744166428|19.6462613202|    0.5|     1.0|[4.0,42.0,14.2744...|\n",
      "|cycliste_azf23|    6.0| 15|homme|4.38667620022|37.5528123155|    0.5|     0.0|[6.0,15.0,4.38667...|\n",
      "|cycliste_azifk|    2.0| 42|homme|10.3039046535|20.9549224279|    0.5|     0.0|[2.0,42.0,10.3039...|\n",
      "+--------------+-------+---+-----+-------------+-------------+-------+--------+--------------------+\n",
      "only showing top 3 rows\n",
      "\n"
     ]
    }
   ],
   "source": [
    "points.show(3)"
   ]
  },
  {
   "cell_type": "markdown",
   "metadata": {},
   "source": [
    "# On renomme la colonne Y en \"label\""
   ]
  },
  {
   "cell_type": "code",
   "execution_count": 313,
   "metadata": {
    "collapsed": false
   },
   "outputs": [],
   "source": [
    "val points_avec_label = points.withColumnRenamed(\"sexe-num\", \"label\")"
   ]
  },
  {
   "cell_type": "markdown",
   "metadata": {},
   "source": [
    "# On crée un jeu de test et d'apprentissage"
   ]
  },
  {
   "cell_type": "code",
   "execution_count": 314,
   "metadata": {
    "collapsed": false
   },
   "outputs": [],
   "source": [
    "val splits = points_avec_label.randomSplit(Array(0.8, 0.2))"
   ]
  },
  {
   "cell_type": "markdown",
   "metadata": {},
   "source": [
    "# On met les jeux en mémoire"
   ]
  },
  {
   "cell_type": "code",
   "execution_count": 315,
   "metadata": {
    "collapsed": false
   },
   "outputs": [],
   "source": [
    "val jeu_d_apprentissage = splits(0).cache()"
   ]
  },
  {
   "cell_type": "code",
   "execution_count": 316,
   "metadata": {
    "collapsed": false
   },
   "outputs": [],
   "source": [
    "val jeu_de_test         = splits(1).cache()"
   ]
  },
  {
   "cell_type": "code",
   "execution_count": 317,
   "metadata": {
    "collapsed": false
   },
   "outputs": [
    {
     "name": "stdout",
     "output_type": "stream",
     "text": [
      "+----------+-------+---+-----+-------------+-------------+-------+-----+--------------------+\n",
      "|  cycliste|sportif|age| sexe|        nb_km|      vitesse|attente|label|            features|\n",
      "+----------+-------+---+-----+-------------+-------------+-------+-----+--------------------+\n",
      "|cycliste_a|    0.0| 71|femme|15.7469015273|9.12707675107|    0.5|  1.0|[0.0,71.0,15.7469...|\n",
      "|cycliste_a|    2.0| 27|femme|3.43400008008| 25.058955128|    0.5|  1.0|[2.0,27.0,3.43400...|\n",
      "|cycliste_a|    2.0| 35|femme|3.43400008008| 22.058955128|    0.5|  1.0|[2.0,35.0,3.43400...|\n",
      "+----------+-------+---+-----+-------------+-------------+-------+-----+--------------------+\n",
      "only showing top 3 rows\n",
      "\n"
     ]
    },
    {
     "data": {
      "text/plain": [
       "6447"
      ]
     },
     "execution_count": 317,
     "metadata": {},
     "output_type": "execute_result"
    }
   ],
   "source": [
    "jeu_d_apprentissage.show(3)\n",
    "jeu_d_apprentissage.count()"
   ]
  },
  {
   "cell_type": "code",
   "execution_count": 318,
   "metadata": {
    "collapsed": false
   },
   "outputs": [
    {
     "name": "stdout",
     "output_type": "stream",
     "text": [
      "+----------+-------+---+-----+--------------+-------------+-------+-----+--------------------+\n",
      "|  cycliste|sportif|age| sexe|         nb_km|      vitesse|attente|label|            features|\n",
      "+----------+-------+---+-----+--------------+-------------+-------+-----+--------------------+\n",
      "|cycliste_a|    0.0| 80|femme| 3.43400008008| 15.558955128|    0.5|  1.0|[0.0,80.0,3.43400...|\n",
      "|cycliste_a|    4.0| 22|homme| 12.7469015273|26.1694356681|    0.5|  0.0|[4.0,22.0,12.7469...|\n",
      "|cycliste_a|    4.0| 66|homme|0.434000080076| 24.745273504|    0.5|  0.0|[4.0,66.0,0.43400...|\n",
      "+----------+-------+---+-----+--------------+-------------+-------+-----+--------------------+\n",
      "only showing top 3 rows\n",
      "\n"
     ]
    },
    {
     "data": {
      "text/plain": [
       "1624"
      ]
     },
     "execution_count": 318,
     "metadata": {},
     "output_type": "execute_result"
    }
   ],
   "source": [
    "jeu_de_test.show(3)\n",
    "jeu_de_test.count()"
   ]
  },
  {
   "cell_type": "markdown",
   "metadata": {},
   "source": [
    "# Régression logistique"
   ]
  },
  {
   "cell_type": "code",
   "execution_count": 319,
   "metadata": {
    "collapsed": true
   },
   "outputs": [],
   "source": [
    "import org.apache.spark.ml.classification.LogisticRegression"
   ]
  },
  {
   "cell_type": "code",
   "execution_count": 320,
   "metadata": {
    "collapsed": false
   },
   "outputs": [],
   "source": [
    "val lr = new LogisticRegression().setMaxIter(50).setRegParam(0.3).setElasticNetParam(0.8)\n"
   ]
  },
  {
   "cell_type": "code",
   "execution_count": 340,
   "metadata": {
    "collapsed": true
   },
   "outputs": [],
   "source": [
    "val lrModel = lr.fit(jeu_d_apprentissage)"
   ]
  },
  {
   "cell_type": "code",
   "execution_count": 341,
   "metadata": {
    "collapsed": false
   },
   "outputs": [],
   "source": [
    "val test = lrModel.transform(jeu_de_test)"
   ]
  },
  {
   "cell_type": "code",
   "execution_count": 342,
   "metadata": {
    "collapsed": false
   },
   "outputs": [
    {
     "data": {
      "text/plain": [
       "0.5"
      ]
     },
     "execution_count": 342,
     "metadata": {},
     "output_type": "execute_result"
    }
   ],
   "source": [
    "bceval.evaluate(test)"
   ]
  },
  {
   "cell_type": "markdown",
   "metadata": {},
   "source": [
    "# Arbre de décision"
   ]
  },
  {
   "cell_type": "code",
   "execution_count": 325,
   "metadata": {
    "collapsed": true
   },
   "outputs": [],
   "source": [
    "import org.apache.spark.ml.classification.DecisionTreeClassifier"
   ]
  },
  {
   "cell_type": "code",
   "execution_count": 326,
   "metadata": {
    "collapsed": true
   },
   "outputs": [],
   "source": [
    "val dt = new DecisionTreeClassifier()"
   ]
  },
  {
   "cell_type": "code",
   "execution_count": 327,
   "metadata": {
    "collapsed": true
   },
   "outputs": [],
   "source": [
    "val dtmodel = dt.fit(jeu_d_apprentissage)"
   ]
  },
  {
   "cell_type": "code",
   "execution_count": 328,
   "metadata": {
    "collapsed": false
   },
   "outputs": [],
   "source": [
    "val predictions = dtmodel.transform(jeu_de_test)"
   ]
  },
  {
   "cell_type": "markdown",
   "metadata": {},
   "source": [
    "# Evaluer une classification binaire"
   ]
  },
  {
   "cell_type": "code",
   "execution_count": 329,
   "metadata": {
    "collapsed": true
   },
   "outputs": [],
   "source": [
    "import org.apache.spark.ml.evaluation.BinaryClassificationEvaluator"
   ]
  },
  {
   "cell_type": "code",
   "execution_count": 330,
   "metadata": {
    "collapsed": true
   },
   "outputs": [],
   "source": [
    "val bceval = new BinaryClassificationEvaluator()"
   ]
  },
  {
   "cell_type": "code",
   "execution_count": 331,
   "metadata": {
    "collapsed": false
   },
   "outputs": [
    {
     "data": {
      "text/plain": [
       "areaUnderROC"
      ]
     },
     "execution_count": 331,
     "metadata": {},
     "output_type": "execute_result"
    }
   ],
   "source": [
    "bceval.getMetricName"
   ]
  },
  {
   "cell_type": "code",
   "execution_count": 332,
   "metadata": {
    "collapsed": false
   },
   "outputs": [
    {
     "data": {
      "text/plain": [
       "0.7385167079358143"
      ]
     },
     "execution_count": 332,
     "metadata": {},
     "output_type": "execute_result"
    }
   ],
   "source": [
    "bceval.evaluate(predictions)\n"
   ]
  },
  {
   "cell_type": "markdown",
   "metadata": {},
   "source": [
    "# Random forest"
   ]
  },
  {
   "cell_type": "code",
   "execution_count": 333,
   "metadata": {
    "collapsed": true
   },
   "outputs": [],
   "source": [
    "import org.apache.spark.mllib.tree.RandomForest\n",
    "import org.apache.spark.mllib.tree.model.RandomForestModel\n",
    "import org.apache.spark.mllib.util.MLUtils"
   ]
  },
  {
   "cell_type": "code",
   "execution_count": 334,
   "metadata": {
    "collapsed": true
   },
   "outputs": [],
   "source": [
    "import org.apache.spark.ml.classification.{RandomForestClassificationModel, RandomForestClassifier}"
   ]
  },
  {
   "cell_type": "code",
   "execution_count": 335,
   "metadata": {
    "collapsed": false
   },
   "outputs": [],
   "source": [
    "val numClasses = 2\n",
    "val categoricalFeaturesInfo = Map[Int, Int]()\n",
    "val numTrees = 3 // Use more in practice.\n",
    "val featureSubsetStrategy = \"auto\" // Let the algorithm choose.\n",
    "val impurity = \"gini\"\n",
    "val maxDepth = 4\n",
    "val maxBins = 32\n",
    "\n",
    "val algo = new RandomForestClassifier()"
   ]
  },
  {
   "cell_type": "code",
   "execution_count": 336,
   "metadata": {
    "collapsed": false
   },
   "outputs": [],
   "source": [
    "val model  = algo.fit(jeu_d_apprentissage)"
   ]
  },
  {
   "cell_type": "code",
   "execution_count": 337,
   "metadata": {
    "collapsed": true
   },
   "outputs": [],
   "source": [
    "val predictions = model.transform(jeu_de_test)"
   ]
  },
  {
   "cell_type": "code",
   "execution_count": 338,
   "metadata": {
    "collapsed": false
   },
   "outputs": [
    {
     "name": "stdout",
     "output_type": "stream",
     "text": [
      "+--------------+-------+---+-----+--------------+-------------+-------+-----+--------------------+--------------------+--------------------+----------+\n",
      "|      cycliste|sportif|age| sexe|         nb_km|      vitesse|attente|label|            features|       rawPrediction|         probability|prediction|\n",
      "+--------------+-------+---+-----+--------------+-------------+-------+-----+--------------------+--------------------+--------------------+----------+\n",
      "|    cycliste_a|    0.0| 80|femme| 3.43400008008| 15.558955128|    0.5|  1.0|[0.0,80.0,3.43400...|[12.5618331188626...|[0.62809165594313...|       0.0|\n",
      "|    cycliste_a|    4.0| 22|homme| 12.7469015273|26.1694356681|    0.5|  0.0|[4.0,22.0,12.7469...|[13.2041582010960...|[0.66020791005480...|       0.0|\n",
      "|    cycliste_a|    4.0| 66|homme|0.434000080076| 24.745273504|    0.5|  0.0|[4.0,66.0,0.43400...|[17.0555728101693...|[0.85277864050846...|       0.0|\n",
      "|cycliste_azd12|    4.0| 16|femme| 6.44543733947|24.4005881653|    0.5|  1.0|[4.0,16.0,6.44543...|[10.9460748325742...|[0.54730374162871...|       0.0|\n",
      "|cycliste_azd14|    4.0| 49|homme| 3.39420424847|28.8344026146|    0.5|  0.0|[4.0,49.0,3.39420...|[19.3109650911095...|[0.96554825455547...|       0.0|\n",
      "+--------------+-------+---+-----+--------------+-------------+-------+-----+--------------------+--------------------+--------------------+----------+\n",
      "only showing top 5 rows\n",
      "\n"
     ]
    }
   ],
   "source": [
    "predictions.show(5)"
   ]
  },
  {
   "cell_type": "code",
   "execution_count": 339,
   "metadata": {
    "collapsed": false
   },
   "outputs": [
    {
     "data": {
      "text/plain": [
       "0.8236517733595503"
      ]
     },
     "execution_count": 339,
     "metadata": {},
     "output_type": "execute_result"
    }
   ],
   "source": [
    "bceval.evaluate(predictions)"
   ]
  },
  {
   "cell_type": "code",
   "execution_count": null,
   "metadata": {
    "collapsed": true
   },
   "outputs": [],
   "source": []
  }
 ],
 "metadata": {
  "kernelspec": {
   "display_name": "Apache Toree - Scala",
   "language": "scala",
   "name": "apache_toree_scala"
  },
  "language_info": {
   "file_extension": ".scala",
   "name": "scala",
   "version": "2.11.8"
  }
 },
 "nbformat": 4,
 "nbformat_minor": 2
}
