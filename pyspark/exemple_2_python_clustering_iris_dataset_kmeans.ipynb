{
 "cells": [
  {
   "cell_type": "markdown",
   "metadata": {},
   "source": [
    "# -1) Imports"
   ]
  },
  {
   "cell_type": "code",
   "execution_count": 1,
   "metadata": {
    "collapsed": true
   },
   "outputs": [],
   "source": [
    "import pandas as pd\n",
    "\n",
    "from sklearn                  import datasets\n",
    "\n",
    "from pyspark.sql              import Row\n",
    "from pyspark.sql.types        import Row\n",
    "\n",
    "from pyspark.ml               import Pipeline\n",
    "\n",
    "from pyspark.ml.feature       import VectorAssembler\n",
    "\n",
    "from pyspark.ml.clustering    import KMeans\n",
    "from pyspark.ml.clustering    import KMeansModel\n",
    "\n",
    "from pyspark.mllib.linalg     import Vectors\n",
    "from pyspark.mllib.linalg     import SparseVector\n",
    "\n",
    "from pyspark.mllib.regression import LabeledPoint"
   ]
  },
  {
   "cell_type": "markdown",
   "metadata": {},
   "source": [
    "# 0) Spark 2.0 "
   ]
  },
  {
   "cell_type": "code",
   "execution_count": 2,
   "metadata": {
    "collapsed": true
   },
   "outputs": [],
   "source": [
    "spark = SparkSession\\\n",
    "        .builder\\\n",
    "        .appName(\"PythonKMeansExample\")\\\n",
    "        .getOrCreate()"
   ]
  },
  {
   "cell_type": "markdown",
   "metadata": {},
   "source": [
    "# 1) Imports de données : scikit learn-> pandas"
   ]
  },
  {
   "cell_type": "code",
   "execution_count": 3,
   "metadata": {
    "collapsed": true
   },
   "outputs": [],
   "source": [
    "#scikit-learn et pandas\n",
    "iris          = datasets.load_iris()\n",
    "data          = iris['data']\n",
    "features      = iris['feature_names']\n",
    "Y             = iris['target']\n",
    "pd_df         = pd.DataFrame(data)\n",
    "pd_df.columns = features"
   ]
  },
  {
   "cell_type": "markdown",
   "metadata": {},
   "source": [
    "# 2) Pandas -> Spark"
   ]
  },
  {
   "cell_type": "code",
   "execution_count": 4,
   "metadata": {
    "collapsed": false
   },
   "outputs": [],
   "source": [
    "#spark_df est une matrice d'objet 'ROW'\n",
    "spark_df      = spark.createDataFrame(pd_df)"
   ]
  },
  {
   "cell_type": "markdown",
   "metadata": {},
   "source": [
    "# 3) Algo"
   ]
  },
  {
   "cell_type": "code",
   "execution_count": 5,
   "metadata": {
    "collapsed": false
   },
   "outputs": [
    {
     "data": {
      "text/plain": [
       "KMeans_4c90a5024e18aab17bac"
      ]
     },
     "execution_count": 5,
     "metadata": {},
     "output_type": "execute_result"
    }
   ],
   "source": [
    "# parametres\n",
    "ignore           = []\n",
    "inputCols        = [x for x in spark_df.columns if x not in ignore]\n",
    "outputCol        = 'features'\n",
    "FeaturesCol      = outputCol\n",
    "predictionCol    = \"prediction\"\n",
    "nb_k_clusters    = 3\n",
    "\n",
    "# 3.1) Créer une colonne de vecteurs à partir des objets 'Row‘\n",
    "# transformer\n",
    "assembler        = VectorAssembler(inputCols = inputCols,\n",
    "                                   outputCol = outputCol)\n",
    "# 3.2) Créer un prédicteur s'appuyant sur le vecteur\n",
    "# estimator\n",
    "kmeans_estimator = KMeans(k=nb_k_clusters)\n",
    "kmeans_estimator.setFeaturesCol(FeaturesCol)\n",
    "kmeans_estimator.setPredictionCol(predictionCol)"
   ]
  },
  {
   "cell_type": "markdown",
   "metadata": {},
   "source": [
    "# 4) instanciation de l'algo"
   ]
  },
  {
   "cell_type": "code",
   "execution_count": 7,
   "metadata": {
    "collapsed": false
   },
   "outputs": [],
   "source": [
    "# 4.1) trasnformation (via le transformer)\n",
    "transformed_df = assembler.transform(spark_df)\n",
    "# 4.2) modelisation (via l'estimator)\n",
    "kmeans_model   = kmeans_estimator.fit(transformed_df)\n",
    "# 4.3) prediction (via le modèle - qui est aussi un transformer)\n",
    "predicted_df   = kmeans_model.transform(transformed_df)\n"
   ]
  },
  {
   "cell_type": "markdown",
   "metadata": {},
   "source": [
    "# 5) verification"
   ]
  },
  {
   "cell_type": "code",
   "execution_count": 8,
   "metadata": {
    "collapsed": false
   },
   "outputs": [
    {
     "data": {
      "text/plain": [
       "[Row(sepal length (cm)=5.1, sepal width (cm)=3.5, petal length (cm)=1.4, petal width (cm)=0.2, features=DenseVector([5.1, 3.5, 1.4, 0.2]))]"
      ]
     },
     "execution_count": 8,
     "metadata": {},
     "output_type": "execute_result"
    }
   ],
   "source": [
    "transformed_df.take(1)"
   ]
  },
  {
   "cell_type": "code",
   "execution_count": 9,
   "metadata": {
    "collapsed": false
   },
   "outputs": [
    {
     "data": {
      "text/plain": [
       "[Row(sepal length (cm)=5.1, sepal width (cm)=3.5, petal length (cm)=1.4, petal width (cm)=0.2, features=DenseVector([5.1, 3.5, 1.4, 0.2]), prediction=1)]"
      ]
     },
     "execution_count": 9,
     "metadata": {},
     "output_type": "execute_result"
    }
   ],
   "source": [
    "predicted_df.take(1)"
   ]
  },
  {
   "cell_type": "markdown",
   "metadata": {},
   "source": [
    "# 6) Cleaning : suppression des colonnes condensées en vecteurs"
   ]
  },
  {
   "cell_type": "code",
   "execution_count": 20,
   "metadata": {
    "collapsed": false
   },
   "outputs": [],
   "source": [
    "for feature in features:\n",
    "    predicted_df = predicted_df.drop(feature)\n",
    "predicted_df.take(60)"
   ]
  },
  {
   "cell_type": "markdown",
   "metadata": {},
   "source": [
    "# 7) organiser l'algorithme (step 4) dans un Pipeline"
   ]
  },
  {
   "cell_type": "code",
   "execution_count": 25,
   "metadata": {
    "collapsed": false
   },
   "outputs": [],
   "source": [
    "stages        = [assembler, kmeans_estimator]\n",
    "pipeline      = Pipeline(stages=stages)"
   ]
  },
  {
   "cell_type": "markdown",
   "metadata": {},
   "source": [
    "# 7.1) Fitter le pipeline / obetenir un modèle "
   ]
  },
  {
   "cell_type": "code",
   "execution_count": 26,
   "metadata": {
    "collapsed": true
   },
   "outputs": [],
   "source": [
    "pipelineModel = pipeline.fit(spark_df)"
   ]
  },
  {
   "cell_type": "markdown",
   "metadata": {},
   "source": [
    "# 7.2) Appliquer le pipeline sur la spark dataframe"
   ]
  },
  {
   "cell_type": "code",
   "execution_count": 27,
   "metadata": {
    "collapsed": false
   },
   "outputs": [
    {
     "data": {
      "text/plain": [
       "[Row(sepal length (cm)=5.1, sepal width (cm)=3.5, petal length (cm)=1.4, petal width (cm)=0.2, features=DenseVector([5.1, 3.5, 1.4, 0.2]), prediction=1),\n",
       " Row(sepal length (cm)=4.9, sepal width (cm)=3.0, petal length (cm)=1.4, petal width (cm)=0.2, features=DenseVector([4.9, 3.0, 1.4, 0.2]), prediction=1),\n",
       " Row(sepal length (cm)=4.7, sepal width (cm)=3.2, petal length (cm)=1.3, petal width (cm)=0.2, features=DenseVector([4.7, 3.2, 1.3, 0.2]), prediction=1)]"
      ]
     },
     "execution_count": 27,
     "metadata": {},
     "output_type": "execute_result"
    }
   ],
   "source": [
    "pipelineModel.transform(spark_df).take(3)"
   ]
  },
  {
   "cell_type": "markdown",
   "metadata": {},
   "source": [
    "# 8) PCA"
   ]
  },
  {
   "cell_type": "code",
   "execution_count": 28,
   "metadata": {
    "collapsed": true
   },
   "outputs": [],
   "source": [
    "from pyspark.ml.feature import PCA as PCAml"
   ]
  },
  {
   "cell_type": "code",
   "execution_count": 29,
   "metadata": {
    "collapsed": false
   },
   "outputs": [
    {
     "data": {
      "text/plain": [
       "[Row(features=DenseVector([5.1, 3.5, 1.4, 0.2]), prediction=1, pca=DenseVector([-2.8271, -5.6413])),\n",
       " Row(features=DenseVector([4.9, 3.0, 1.4, 0.2]), prediction=1, pca=DenseVector([-2.796, -5.1452]))]"
      ]
     },
     "execution_count": 29,
     "metadata": {},
     "output_type": "execute_result"
    }
   ],
   "source": [
    "pca         = PCAml(k=2, inputCol=\"features\", outputCol=\"pca\")\n",
    "model       = pca.fit(transformed_df)\n",
    "transformed = model.transform(predicted_df)\n",
    "transformed.take(2)"
   ]
  },
  {
   "cell_type": "markdown",
   "metadata": {},
   "source": [
    "# 8.1) extraction X, Y"
   ]
  },
  {
   "cell_type": "code",
   "execution_count": 30,
   "metadata": {
    "collapsed": false
   },
   "outputs": [],
   "source": [
    "from pyspark.ml.feature       import VectorSlicer"
   ]
  },
  {
   "cell_type": "code",
   "execution_count": 31,
   "metadata": {
    "collapsed": true
   },
   "outputs": [],
   "source": [
    "x_splitter = VectorSlicer(inputCol = \"pca\", outputCol = \"x\", indices=[0])\n",
    "y_splitter = VectorSlicer(inputCol = \"pca\", outputCol = \"y\", indices=[1])"
   ]
  },
  {
   "cell_type": "code",
   "execution_count": 32,
   "metadata": {
    "collapsed": false
   },
   "outputs": [
    {
     "data": {
      "text/plain": [
       "[Row(features=DenseVector([5.1, 3.5, 1.4, 0.2]), prediction=1, pca=DenseVector([-2.8271, -5.6413]), x=DenseVector([-2.8271]), y=DenseVector([-5.6413])),\n",
       " Row(features=DenseVector([4.9, 3.0, 1.4, 0.2]), prediction=1, pca=DenseVector([-2.796, -5.1452]), x=DenseVector([-2.796]), y=DenseVector([-5.1452]))]"
      ]
     },
     "execution_count": 32,
     "metadata": {},
     "output_type": "execute_result"
    }
   ],
   "source": [
    "x_added    = x_splitter.transform(transformed)\n",
    "y_added    = y_splitter.transform(x_added)\n",
    "y_added.take(2)"
   ]
  },
  {
   "cell_type": "markdown",
   "metadata": {},
   "source": [
    "# 8.2) spark -> pandas"
   ]
  },
  {
   "cell_type": "code",
   "execution_count": 33,
   "metadata": {
    "collapsed": false
   },
   "outputs": [
    {
     "data": {
      "text/html": [
       "<div>\n",
       "<table border=\"1\" class=\"dataframe\">\n",
       "  <thead>\n",
       "    <tr style=\"text-align: right;\">\n",
       "      <th></th>\n",
       "      <th>features</th>\n",
       "      <th>prediction</th>\n",
       "      <th>pca</th>\n",
       "      <th>x</th>\n",
       "      <th>y</th>\n",
       "    </tr>\n",
       "  </thead>\n",
       "  <tbody>\n",
       "    <tr>\n",
       "      <th>0</th>\n",
       "      <td>[5.1, 3.5, 1.4, 0.2]</td>\n",
       "      <td>1</td>\n",
       "      <td>[-2.82713597268, -5.64133104557]</td>\n",
       "      <td>[-2.82713597268]</td>\n",
       "      <td>[-5.64133104557]</td>\n",
       "    </tr>\n",
       "    <tr>\n",
       "      <th>1</th>\n",
       "      <td>[4.9, 3.0, 1.4, 0.2]</td>\n",
       "      <td>1</td>\n",
       "      <td>[-2.79595248215, -5.14516688325]</td>\n",
       "      <td>[-2.79595248215]</td>\n",
       "      <td>[-5.14516688325]</td>\n",
       "    </tr>\n",
       "  </tbody>\n",
       "</table>\n",
       "</div>"
      ],
      "text/plain": [
       "               features  prediction                               pca  \\\n",
       "0  [5.1, 3.5, 1.4, 0.2]           1  [-2.82713597268, -5.64133104557]   \n",
       "1  [4.9, 3.0, 1.4, 0.2]           1  [-2.79595248215, -5.14516688325]   \n",
       "\n",
       "                  x                 y  \n",
       "0  [-2.82713597268]  [-5.64133104557]  \n",
       "1  [-2.79595248215]  [-5.14516688325]  "
      ]
     },
     "execution_count": 33,
     "metadata": {},
     "output_type": "execute_result"
    }
   ],
   "source": [
    "pd_data    = y_added.toPandas()\n",
    "pd_data[:2]"
   ]
  },
  {
   "cell_type": "markdown",
   "metadata": {},
   "source": [
    "# 8.3) vecteur => float"
   ]
  },
  {
   "cell_type": "code",
   "execution_count": 34,
   "metadata": {
    "collapsed": false
   },
   "outputs": [
    {
     "data": {
      "text/html": [
       "<div>\n",
       "<table border=\"1\" class=\"dataframe\">\n",
       "  <thead>\n",
       "    <tr style=\"text-align: right;\">\n",
       "      <th></th>\n",
       "      <th>features</th>\n",
       "      <th>prediction</th>\n",
       "      <th>pca</th>\n",
       "      <th>x</th>\n",
       "      <th>y</th>\n",
       "    </tr>\n",
       "  </thead>\n",
       "  <tbody>\n",
       "    <tr>\n",
       "      <th>0</th>\n",
       "      <td>[5.1, 3.5, 1.4, 0.2]</td>\n",
       "      <td>1</td>\n",
       "      <td>[-2.82713597268, -5.64133104557]</td>\n",
       "      <td>-2.827136</td>\n",
       "      <td>-5.641331</td>\n",
       "    </tr>\n",
       "    <tr>\n",
       "      <th>1</th>\n",
       "      <td>[4.9, 3.0, 1.4, 0.2]</td>\n",
       "      <td>1</td>\n",
       "      <td>[-2.79595248215, -5.14516688325]</td>\n",
       "      <td>-2.795952</td>\n",
       "      <td>-5.145167</td>\n",
       "    </tr>\n",
       "  </tbody>\n",
       "</table>\n",
       "</div>"
      ],
      "text/plain": [
       "               features  prediction                               pca  \\\n",
       "0  [5.1, 3.5, 1.4, 0.2]           1  [-2.82713597268, -5.64133104557]   \n",
       "1  [4.9, 3.0, 1.4, 0.2]           1  [-2.79595248215, -5.14516688325]   \n",
       "\n",
       "          x         y  \n",
       "0 -2.827136 -5.641331  \n",
       "1 -2.795952 -5.145167  "
      ]
     },
     "execution_count": 34,
     "metadata": {},
     "output_type": "execute_result"
    }
   ],
   "source": [
    "pd_data[\"y\"] = pd_data[\"y\"].apply(lambda x: x[0])\n",
    "pd_data[\"x\"] = pd_data[\"x\"].apply(lambda x: x[0])\n",
    "pd_data[:2]"
   ]
  },
  {
   "cell_type": "markdown",
   "metadata": {},
   "source": [
    "# 9) Datavisualisation"
   ]
  },
  {
   "cell_type": "markdown",
   "metadata": {},
   "source": [
    "# 9.1) Matplotlib"
   ]
  },
  {
   "cell_type": "code",
   "execution_count": 35,
   "metadata": {
    "collapsed": false
   },
   "outputs": [
    {
     "data": {
      "image/png": "[encoded data removed]",
      "text/plain": [
       "<matplotlib.figure.Figure at 0x10ac8d210>"
      ]
     },
     "metadata": {},
     "output_type": "display_data"
    }
   ],
   "source": [
    "import matplotlib.pyplot as plt\n",
    "%matplotlib inline\n",
    "colors   = ['red', 'blue', 'green']\n",
    "fig, ax  = plt.subplots(1,1)\n",
    "for prediction in range(nb_k_clusters):\n",
    "    pd_data[pd_data.prediction==prediction].plot(kind='scatter', x='x', y='y', color=colors[prediction], ax=ax)\n"
   ]
  },
  {
   "cell_type": "markdown",
   "metadata": {},
   "source": [
    "# 9.2) Seaborn"
   ]
  },
  {
   "cell_type": "code",
   "execution_count": 36,
   "metadata": {
    "collapsed": true
   },
   "outputs": [],
   "source": [
    "import seaborn as sns"
   ]
  },
  {
   "cell_type": "code",
   "execution_count": 37,
   "metadata": {
    "collapsed": false
   },
   "outputs": [
    {
     "data": {
      "image/png": "[encoded data removed]",
      "text/plain": [
       "<matplotlib.figure.Figure at 0x10f766950>"
      ]
     },
     "metadata": {},
     "output_type": "display_data"
    }
   ],
   "source": [
    "tips = sns.pairplot(pd_data, x_vars='x', y_vars='y', hue='prediction')"
   ]
  },
  {
   "cell_type": "markdown",
   "metadata": {},
   "source": [
    "# 9.3) Bokeh"
   ]
  },
  {
   "cell_type": "code",
   "execution_count": 38,
   "metadata": {
    "collapsed": false
   },
   "outputs": [
    {
     "data": {
      "text/html": [
       "\n",
       "    <div class=\"bk-root\">\n",
       "        <a href=\"http://bokeh.pydata.org\" target=\"_blank\" class=\"bk-logo bk-logo-small bk-logo-notebook\"></a>\n",
       "        <span id=\"a9546fac-5f2c-4636-8eb0-4d9e6ce17a63\">Loading BokehJS ...</span>\n",
       "    </div>"
      ]
     },
     "metadata": {},
     "output_type": "display_data"
    },
    {
     "data": {
      "application/javascript": [
       "\n",
       "(function(global) {\n",
       "  function now() {\n",
       "    return new Date();\n",
       "  }\n",
       "\n",
       "  if (typeof (window._bokeh_onload_callbacks) === \"undefined\") {\n",
       "    window._bokeh_onload_callbacks = [];\n",
       "  }\n",
       "\n",
       "  function run_callbacks() {\n",
       "    window._bokeh_onload_callbacks.forEach(function(callback) { callback() });\n",
       "    delete window._bokeh_onload_callbacks\n",
       "    console.info(\"Bokeh: all callbacks have finished\");\n",
       "  }\n",
       "\n",
       "  function load_libs(js_urls, callback) {\n",
       "    window._bokeh_onload_callbacks.push(callback);\n",
       "    if (window._bokeh_is_loading > 0) {\n",
       "      console.log(\"Bokeh: BokehJS is being loaded, scheduling callback at\", now());\n",
       "      return null;\n",
       "    }\n",
       "    if (js_urls == null || js_urls.length === 0) {\n",
       "      run_callbacks();\n",
       "      return null;\n",
       "    }\n",
       "    console.log(\"Bokeh: BokehJS not loaded, scheduling load and callback at\", now());\n",
       "    window._bokeh_is_loading = js_urls.length;\n",
       "    for (var i = 0; i < js_urls.length; i++) {\n",
       "      var url = js_urls[i];\n",
       "      var s = document.createElement('script');\n",
       "      s.src = url;\n",
       "      s.async = false;\n",
       "      s.onreadystatechange = s.onload = function() {\n",
       "        window._bokeh_is_loading--;\n",
       "        if (window._bokeh_is_loading === 0) {\n",
       "          console.log(\"Bokeh: all BokehJS libraries loaded\");\n",
       "          run_callbacks()\n",
       "        }\n",
       "      };\n",
       "      s.onerror = function() {\n",
       "        console.warn(\"failed to load library \" + url);\n",
       "      };\n",
       "      console.log(\"Bokeh: injecting script tag for BokehJS library: \", url);\n",
       "      document.getElementsByTagName(\"head\")[0].appendChild(s);\n",
       "    }\n",
       "  };\n",
       "\n",
       "  var js_urls = ['https://cdn.pydata.org/bokeh/release/bokeh-0.12.0.min.js', 'https://cdn.pydata.org/bokeh/release/bokeh-widgets-0.12.0.min.js', 'https://cdn.pydata.org/bokeh/release/bokeh-compiler-0.12.0.min.js'];\n",
       "\n",
       "  var inline_js = [\n",
       "    function(Bokeh) {\n",
       "      Bokeh.set_log_level(\"info\");\n",
       "    },\n",
       "    \n",
       "    function(Bokeh) {\n",
       "      Bokeh.$(\"#a9546fac-5f2c-4636-8eb0-4d9e6ce17a63\").text(\"BokehJS successfully loaded\");\n",
       "    },\n",
       "    function(Bokeh) {\n",
       "      console.log(\"Bokeh: injecting CSS: https://cdn.pydata.org/bokeh/release/bokeh-0.12.0.min.css\");\n",
       "      Bokeh.embed.inject_css(\"https://cdn.pydata.org/bokeh/release/bokeh-0.12.0.min.css\");\n",
       "      console.log(\"Bokeh: injecting CSS: https://cdn.pydata.org/bokeh/release/bokeh-widgets-0.12.0.min.css\");\n",
       "      Bokeh.embed.inject_css(\"https://cdn.pydata.org/bokeh/release/bokeh-widgets-0.12.0.min.css\");\n",
       "    }\n",
       "  ];\n",
       "\n",
       "  function run_inline_js() {\n",
       "    for (var i = 0; i < inline_js.length; i++) {\n",
       "      inline_js[i](window.Bokeh);\n",
       "    }\n",
       "  }\n",
       "\n",
       "  if (window._bokeh_is_loading === 0) {\n",
       "    console.log(\"Bokeh: BokehJS loaded, going straight to plotting\");\n",
       "    run_inline_js();\n",
       "  } else {\n",
       "    load_libs(js_urls, function() {\n",
       "      console.log(\"Bokeh: BokehJS plotting callback run at\", now());\n",
       "      run_inline_js();\n",
       "    });\n",
       "  }\n",
       "}(this));"
      ]
     },
     "metadata": {},
     "output_type": "display_data"
    },
    {
     "data": {
      "text/html": [
       "\n",
       "\n",
       "    <div class=\"bk-root\">\n",
       "        <div class=\"plotdiv\" id=\"a2e9e50e-4a22-40b4-a9cd-24ba590c9176\"></div>\n",
       "    </div>\n",
       "<script type=\"text/javascript\">\n",
       "  \n",
       "  (function(global) {\n",
       "    function now() {\n",
       "      return new Date();\n",
       "    }\n",
       "  \n",
       "    if (typeof (window._bokeh_onload_callbacks) === \"undefined\") {\n",
       "      window._bokeh_onload_callbacks = [];\n",
       "    }\n",
       "  \n",
       "    function run_callbacks() {\n",
       "      window._bokeh_onload_callbacks.forEach(function(callback) { callback() });\n",
       "      delete window._bokeh_onload_callbacks\n",
       "      console.info(\"Bokeh: all callbacks have finished\");\n",
       "    }\n",
       "  \n",
       "    function load_libs(js_urls, callback) {\n",
       "      window._bokeh_onload_callbacks.push(callback);\n",
       "      if (window._bokeh_is_loading > 0) {\n",
       "        console.log(\"Bokeh: BokehJS is being loaded, scheduling callback at\", now());\n",
       "        return null;\n",
       "      }\n",
       "      if (js_urls == null || js_urls.length === 0) {\n",
       "        run_callbacks();\n",
       "        return null;\n",
       "      }\n",
       "      console.log(\"Bokeh: BokehJS not loaded, scheduling load and callback at\", now());\n",
       "      window._bokeh_is_loading = js_urls.length;\n",
       "      for (var i = 0; i < js_urls.length; i++) {\n",
       "        var url = js_urls[i];\n",
       "        var s = document.createElement('script');\n",
       "        s.src = url;\n",
       "        s.async = false;\n",
       "        s.onreadystatechange = s.onload = function() {\n",
       "          window._bokeh_is_loading--;\n",
       "          if (window._bokeh_is_loading === 0) {\n",
       "            console.log(\"Bokeh: all BokehJS libraries loaded\");\n",
       "            run_callbacks()\n",
       "          }\n",
       "        };\n",
       "        s.onerror = function() {\n",
       "          console.warn(\"failed to load library \" + url);\n",
       "        };\n",
       "        console.log(\"Bokeh: injecting script tag for BokehJS library: \", url);\n",
       "        document.getElementsByTagName(\"head\")[0].appendChild(s);\n",
       "      }\n",
       "    };var element = document.getElementById(\"a2e9e50e-4a22-40b4-a9cd-24ba590c9176\");\n",
       "    if (element == null) {\n",
       "      console.log(\"Bokeh: ERROR: autoload.js configured with elementid 'a2e9e50e-4a22-40b4-a9cd-24ba590c9176' but no matching script tag was found. \")\n",
       "      return false;\n",
       "    }\n",
       "  \n",
       "    var js_urls = [];\n",
       "  \n",
       "    var inline_js = [\n",
       "      function(Bokeh) {\n",
       "        Bokeh.$(function() {\n",
       "            var docs_json = {\"566546f1-815f-40ef-a073-b4672e2a2ddd\":{\"roots\":{\"references\":[{\"attributes\":{\"callback\":null},\"id\":\"5435ca9a-e65d-4a9f-b37f-b5964d4a4f81\",\"type\":\"DataRange1d\"},{\"attributes\":{\"fill_alpha\":{\"value\":0.1},\"fill_color\":{\"value\":\"#1f77b4\"},\"line_alpha\":{\"value\":0.1},\"line_color\":{\"value\":\"#1f77b4\"},\"x\":{\"field\":\"x\"},\"y\":{\"field\":\"y\"}},\"id\":\"4e948215-56b0-45ae-9088-7f13b40e49e4\",\"type\":\"InvertedTriangle\"},{\"attributes\":{\"plot\":{\"id\":\"999f3026-ebfd-46fe-93d3-dd0176d8b4d6\",\"subtype\":\"Figure\",\"type\":\"Plot\"}},\"id\":\"de9297d5-ce81-4b84-8969-4f57ccc92784\",\"type\":\"HelpTool\"},{\"attributes\":{\"overlay\":{\"id\":\"f936ad62-c718-4381-a5e8-fabc1b76b762\",\"type\":\"BoxAnnotation\"},\"plot\":{\"id\":\"999f3026-ebfd-46fe-93d3-dd0176d8b4d6\",\"subtype\":\"Figure\",\"type\":\"Plot\"}},\"id\":\"3b3086e3-0e19-423f-bce6-57c16667b5a5\",\"type\":\"BoxZoomTool\"},{\"attributes\":{\"fill_color\":{\"value\":\"blue\"},\"line_color\":{\"value\":\"blue\"},\"x\":{\"field\":\"x\"},\"y\":{\"field\":\"y\"}},\"id\":\"b0d0e619-bd27-4b78-bfcc-8b870b0f394e\",\"type\":\"Diamond\"},{\"attributes\":{\"data_source\":{\"id\":\"7847eed4-99c7-4dbe-aa91-2551cbb91935\",\"type\":\"ColumnDataSource\"},\"glyph\":{\"id\":\"8eaec343-4880-4825-a0c7-227c320ae11d\",\"type\":\"SquareCross\"},\"hover_glyph\":null,\"nonselection_glyph\":{\"id\":\"72116668-fe4f-4bc0-b263-7d421d9783bc\",\"type\":\"SquareCross\"},\"selection_glyph\":null},\"id\":\"3a0c6d8f-15b3-4b88-a688-48e64ba7607c\",\"type\":\"GlyphRenderer\"},{\"attributes\":{},\"id\":\"acdfb12d-ee4c-4eaa-94aa-b5751680f7fb\",\"type\":\"BasicTicker\"},{\"attributes\":{},\"id\":\"c05bfe06-0e52-4a6e-861e-71f86311c6ec\",\"type\":\"ToolEvents\"},{\"attributes\":{\"data_source\":{\"id\":\"0f4c8c70-6667-409a-98e0-2163c58889cc\",\"type\":\"ColumnDataSource\"},\"glyph\":{\"id\":\"b0d0e619-bd27-4b78-bfcc-8b870b0f394e\",\"type\":\"Diamond\"},\"hover_glyph\":null,\"nonselection_glyph\":{\"id\":\"0aa6db7d-b87d-456c-8564-2110e9dbc909\",\"type\":\"Diamond\"},\"selection_glyph\":null},\"id\":\"e860baa3-7dbb-4fd4-9e52-a9f1e310526f\",\"type\":\"GlyphRenderer\"},{\"attributes\":{\"plot\":{\"id\":\"999f3026-ebfd-46fe-93d3-dd0176d8b4d6\",\"subtype\":\"Figure\",\"type\":\"Plot\"}},\"id\":\"392b01cf-cf18-4d71-b6c1-52893121e466\",\"type\":\"PanTool\"},{\"attributes\":{\"data_source\":{\"id\":\"9be30a8f-1f9f-4031-b016-1f9d2576daa6\",\"type\":\"ColumnDataSource\"},\"glyph\":{\"id\":\"40d2305c-3c0a-468c-ab75-c6937fe5f404\",\"type\":\"InvertedTriangle\"},\"hover_glyph\":null,\"nonselection_glyph\":{\"id\":\"4e948215-56b0-45ae-9088-7f13b40e49e4\",\"type\":\"InvertedTriangle\"},\"selection_glyph\":null},\"id\":\"c9e1d5c3-2f6a-4d22-bd2a-b63d629deb95\",\"type\":\"GlyphRenderer\"},{\"attributes\":{\"below\":[{\"id\":\"60c51595-c739-4784-be4d-c493d448b929\",\"type\":\"LinearAxis\"}],\"left\":[{\"id\":\"5bd408c6-411c-49d0-9a23-6287831847aa\",\"type\":\"LinearAxis\"}],\"renderers\":[{\"id\":\"60c51595-c739-4784-be4d-c493d448b929\",\"type\":\"LinearAxis\"},{\"id\":\"d42f2c88-0553-45b8-a718-95a4d5b92a6d\",\"type\":\"Grid\"},{\"id\":\"5bd408c6-411c-49d0-9a23-6287831847aa\",\"type\":\"LinearAxis\"},{\"id\":\"e4155bf6-fa43-494d-bb69-71cd9a7969af\",\"type\":\"Grid\"},{\"id\":\"f936ad62-c718-4381-a5e8-fabc1b76b762\",\"type\":\"BoxAnnotation\"},{\"id\":\"3a0c6d8f-15b3-4b88-a688-48e64ba7607c\",\"type\":\"GlyphRenderer\"},{\"id\":\"e860baa3-7dbb-4fd4-9e52-a9f1e310526f\",\"type\":\"GlyphRenderer\"},{\"id\":\"c9e1d5c3-2f6a-4d22-bd2a-b63d629deb95\",\"type\":\"GlyphRenderer\"}],\"title\":{\"id\":\"e655d9d8-1f91-4ae0-98ad-395e94b519a1\",\"type\":\"Title\"},\"tool_events\":{\"id\":\"c05bfe06-0e52-4a6e-861e-71f86311c6ec\",\"type\":\"ToolEvents\"},\"toolbar\":{\"id\":\"dc357904-9856-470f-b26e-9dc9c417ee6b\",\"type\":\"Toolbar\"},\"x_range\":{\"id\":\"5435ca9a-e65d-4a9f-b37f-b5964d4a4f81\",\"type\":\"DataRange1d\"},\"y_range\":{\"id\":\"2e65ba14-6ef7-4ed3-9572-82a113da7aa9\",\"type\":\"DataRange1d\"}},\"id\":\"999f3026-ebfd-46fe-93d3-dd0176d8b4d6\",\"subtype\":\"Figure\",\"type\":\"Plot\"},{\"attributes\":{\"callback\":null,\"column_names\":[\"y\",\"x\"],\"data\":{\"x\":[-6.975404420562046,-7.068739369853673,-8.043070078222529,-8.127827706067015,-7.482158043689453,-7.8611010817339135,-8.90822301846111,-8.443348194774272,-7.8310158916570245,-8.429477331427222,-7.173278044802458,-7.313683550443704,-7.676721960736369,-7.416086675996883,-7.4605918796474695,-9.000108477439356,-9.30602995899294,-7.93951035680382,-9.010608582081929,-7.7871967470886645,-8.125536928481305,-7.634197078291284,-7.898907500151998,-8.352304023068355,-8.743685996078845,-7.670081470916106,-7.290983204681542,-8.587864718803633,-7.656329954492275,-7.416206022920103,-7.61899682895624,-7.825646492412519,-7.433793982618723,-8.074665810123781,-7.930734317587951,-7.455360146660708,-7.275389033309954,-7.4129721730712035],\"y\":[-5.818913563781428,-5.582116315621739,-5.302881494168668,-5.656659017796269,-5.133598036104056,-5.2728411811541305,-5.861891777039126,-5.667100736989832,-5.069175560202063,-6.095104360181002,-5.556762131846494,-5.098569124182437,-5.53000401418198,-5.433542721791671,-5.355453990236739,-6.486268275072534,-5.567989301781512,-5.691505702063126,-5.771497197773049,-5.648110256565612,-5.873090681087793,-5.103868846259483,-5.777242981535235,-5.687466321857997,-6.685247766785304,-5.09639819924598,-4.8132589361029545,-6.000488173055034,-5.453630339686283,-5.362771239040804,-5.68620597998608,-5.497332581602672,-5.723994906987672,-5.59069823304881,-5.618227668511601,-5.50213895285499,-5.393242917238331,-5.430600479056935]}},\"id\":\"7847eed4-99c7-4dbe-aa91-2551cbb91935\",\"type\":\"ColumnDataSource\"},{\"attributes\":{\"plot\":{\"id\":\"999f3026-ebfd-46fe-93d3-dd0176d8b4d6\",\"subtype\":\"Figure\",\"type\":\"Plot\"}},\"id\":\"3de50ac1-abf8-4ba2-b511-1d0d85462ba8\",\"type\":\"SaveTool\"},{\"attributes\":{\"callback\":null,\"column_names\":[\"y\",\"x\"],\"data\":{\"x\":[-2.827135972679023,-2.7959524821488406,-2.621523558165055,-2.764905900474237,-2.7827501159516568,-3.2314457367733738,-2.6904524156023415,-2.884861104459153,-2.623384532447337,-2.8374984110638506,-3.004816308444068,-2.8982003795119153,-2.723909121785874,-2.2861426515079915,-2.8677998808418246,-3.1274737739835956,-2.8888168946571624,-2.8630203653038446,-3.3122651363522086,-2.923996908865233,-3.2008113964698377,-2.968108190479276,-2.295485402882866,-3.2082145601190892,-3.1551720110990735,-3.003425870945091,-3.042287100237848,-2.9489521509462207,-2.8715218294063893,-2.8784951897522135,-2.92288104647958,-3.1012657606613754,-2.863706424386071,-2.914183620707053,-2.8374984110638506,-2.644343250850437,-2.88611463310255,-2.8374984110638506,-2.5295004329290633,-2.921020072197297,-2.7412041870366473,-2.65913201621658,-2.5130466549506205,-3.10582899649827,-3.3025101436062654,-2.7956779070355173,-2.973769726769464,-2.671021800955963,-2.968657340705923,-2.807430782919321],\"y\":[-5.641331045573358,-5.145166883252946,-5.177378121203942,-5.003599415056977,-5.648648294377423,-6.062506444034102,-5.232619219784287,-5.48512907976926,-4.743925704477379,-5.208032027056231,-5.966658744481542,-5.336244362769226,-5.086983541937864,-4.811443821323543,-6.500918630222422,-6.659478075368829,-6.132813405405566,-5.633860398559855,-6.193967818900708,-5.835197369614936,-5.712591552397863,-5.754755485468785,-5.456339302434552,-5.420246409238954,-5.283514141740628,-5.175667390895798,-5.452611045399388,-5.689408293559076,-5.634013796769294,-5.124647900175344,-5.1173306513712795,-5.732803739056589,-6.134706363368472,-6.414745658816236,-5.208032027056231,-5.39191682653256,-5.92152373923056,-5.208032027056231,-4.834473681952893,-5.550783068097843,-5.585783150574138,-4.381858363339432,-4.980416156218191,-5.510640988505032,-5.75741976122997,-5.072042247910859,-5.8250912762855735,-5.094147392532492,-5.9010047561529575,-5.429734582979476]}},\"id\":\"0f4c8c70-6667-409a-98e0-2163c58889cc\",\"type\":\"ColumnDataSource\"},{\"attributes\":{\"fill_color\":{\"value\":\"green\"},\"line_color\":{\"value\":\"green\"},\"x\":{\"field\":\"x\"},\"y\":{\"field\":\"y\"}},\"id\":\"40d2305c-3c0a-468c-ab75-c6937fe5f404\",\"type\":\"InvertedTriangle\"},{\"attributes\":{\"bottom_units\":\"screen\",\"fill_alpha\":{\"value\":0.5},\"fill_color\":{\"value\":\"lightgrey\"},\"left_units\":\"screen\",\"level\":\"overlay\",\"line_alpha\":{\"value\":1.0},\"line_color\":{\"value\":\"black\"},\"line_dash\":[4,4],\"line_width\":{\"value\":2},\"plot\":null,\"render_mode\":\"css\",\"right_units\":\"screen\",\"top_units\":\"screen\"},\"id\":\"f936ad62-c718-4381-a5e8-fabc1b76b762\",\"type\":\"BoxAnnotation\"},{\"attributes\":{\"plot\":{\"id\":\"999f3026-ebfd-46fe-93d3-dd0176d8b4d6\",\"subtype\":\"Figure\",\"type\":\"Plot\"}},\"id\":\"463c8649-19c2-41e0-b5d7-e03fc6f92144\",\"type\":\"WheelZoomTool\"},{\"attributes\":{\"callback\":null,\"column_names\":[\"y\",\"x\"],\"data\":{\"x\":[-6.796137685628043,-6.443753850765888,-5.69231030413067,-6.598477584989971,-6.151779847306117,-6.60656680772145,-4.759875957134746,-6.554640878489252,-5.501153027055118,-5.000256901887882,-6.022441158466449,-5.773678853936152,-6.495387642952402,-5.336479095817276,-6.43891603981567,-6.170935886839172,-5.745883684042807,-6.453704805181814,-5.554589498111676,-6.6275838215367875,-5.8681296656134325,-6.807811948068505,-6.431845746691981,-6.225351311425804,-6.410983961066746,-6.84238451663769,-6.323798646780973,-5.204008342119567,-5.4410002088336995,-5.319458605679826,-5.646338048234345,-6.890080080558553,-6.098617951362882,-6.3185485944596875,-6.731772064027651,-6.324210888152042,-5.756538259473317,-5.675856526152227,-5.974374086654396,-6.401503543434128,-5.740222147752619,-4.804261813862112,-5.866876136970035,-5.842470045115694,-5.886581326729738,-6.153033375949514,-4.602879764659476,-5.809151005189905,-6.925415322956728,-6.030726342867909,-6.855937315292796,-7.096610397091615,-6.809672922350787,-6.709440470057934,-6.899011347964527,-6.768968280708108,-6.802012745520573,-6.954445702158945,-6.680196567253375,-6.925415322956728,-7.037006729096843,-6.901009231102388],\"y\":[-6.000162916941894,-5.633921820642622,-4.489119787232862,-5.390114120097743,-4.897400247838944,-5.598614941747451,-4.313616217834578,-5.543680639585982,-4.594148864107069,-4.052231776946833,-5.212439625763002,-4.766830432783641,-5.190363310586694,-5.062908159728803,-5.782959935852092,-4.962747439748653,-4.982801901446851,-4.7729014726589645,-4.733234284196615,-5.230509716930595,-5.247899902867609,-4.987162211014031,-5.132333367481051,-5.465102883957412,-5.644334710390859,-5.559393251411265,-5.152392155930339,-4.949637118042814,-4.612185799078247,-4.637233186434616,-5.003014088105577,-4.893518592594342,-4.831439463091486,-5.509777694580082,-5.722759067809991,-4.944044732490068,-5.047995695147121,-4.63506226149816,-4.645197184272847,-5.280911288062208,-4.912466110630063,-4.306298969030513,-4.81150524340631,-5.1035435901463435,-5.023101706000191,-5.333794907300244,-4.563155005639489,-4.967707209210407,-4.739798674896665,-4.123372041758316,-4.538308305632147,-4.7754166769618,-4.553709794287467,-4.709144769044376,-5.110692744238819,-5.1355867333857494,-5.1982984789795985,-5.170922441726246,-5.150221230993881,-4.739798674896665,-4.939702882617152,-5.031837021636699]}},\"id\":\"9be30a8f-1f9f-4031-b016-1f9d2576daa6\",\"type\":\"ColumnDataSource\"},{\"attributes\":{\"plot\":{\"id\":\"999f3026-ebfd-46fe-93d3-dd0176d8b4d6\",\"subtype\":\"Figure\",\"type\":\"Plot\"}},\"id\":\"c57c3957-af94-4348-ac4f-37654fb86280\",\"type\":\"ResetTool\"},{\"attributes\":{\"formatter\":{\"id\":\"00ffc5f0-774e-4db2-b8d9-7acbb175dbdc\",\"type\":\"BasicTickFormatter\"},\"plot\":{\"id\":\"999f3026-ebfd-46fe-93d3-dd0176d8b4d6\",\"subtype\":\"Figure\",\"type\":\"Plot\"},\"ticker\":{\"id\":\"35d34f96-19d9-4af4-9ebf-18b1fd90fb70\",\"type\":\"BasicTicker\"}},\"id\":\"60c51595-c739-4784-be4d-c493d448b929\",\"type\":\"LinearAxis\"},{\"attributes\":{\"fill_alpha\":{\"value\":0.1},\"fill_color\":{\"value\":\"#1f77b4\"},\"line_alpha\":{\"value\":0.1},\"line_color\":{\"value\":\"#1f77b4\"},\"x\":{\"field\":\"x\"},\"y\":{\"field\":\"y\"}},\"id\":\"0aa6db7d-b87d-456c-8564-2110e9dbc909\",\"type\":\"Diamond\"},{\"attributes\":{\"callback\":null},\"id\":\"2e65ba14-6ef7-4ed3-9572-82a113da7aa9\",\"type\":\"DataRange1d\"},{\"attributes\":{\"active_drag\":\"auto\",\"active_scroll\":\"auto\",\"active_tap\":\"auto\",\"tools\":[{\"id\":\"392b01cf-cf18-4d71-b6c1-52893121e466\",\"type\":\"PanTool\"},{\"id\":\"463c8649-19c2-41e0-b5d7-e03fc6f92144\",\"type\":\"WheelZoomTool\"},{\"id\":\"3b3086e3-0e19-423f-bce6-57c16667b5a5\",\"type\":\"BoxZoomTool\"},{\"id\":\"3de50ac1-abf8-4ba2-b511-1d0d85462ba8\",\"type\":\"SaveTool\"},{\"id\":\"c57c3957-af94-4348-ac4f-37654fb86280\",\"type\":\"ResetTool\"},{\"id\":\"de9297d5-ce81-4b84-8969-4f57ccc92784\",\"type\":\"HelpTool\"}]},\"id\":\"dc357904-9856-470f-b26e-9dc9c417ee6b\",\"type\":\"Toolbar\"},{\"attributes\":{\"fill_alpha\":{\"value\":0.1},\"fill_color\":{\"value\":\"#1f77b4\"},\"line_alpha\":{\"value\":0.1},\"line_color\":{\"value\":\"#1f77b4\"},\"x\":{\"field\":\"x\"},\"y\":{\"field\":\"y\"}},\"id\":\"72116668-fe4f-4bc0-b263-7d421d9783bc\",\"type\":\"SquareCross\"},{\"attributes\":{},\"id\":\"47088b80-6db9-4b1e-8bba-b78d104209b5\",\"type\":\"BasicTickFormatter\"},{\"attributes\":{\"dimension\":1,\"plot\":{\"id\":\"999f3026-ebfd-46fe-93d3-dd0176d8b4d6\",\"subtype\":\"Figure\",\"type\":\"Plot\"},\"ticker\":{\"id\":\"acdfb12d-ee4c-4eaa-94aa-b5751680f7fb\",\"type\":\"BasicTicker\"}},\"id\":\"e4155bf6-fa43-494d-bb69-71cd9a7969af\",\"type\":\"Grid\"},{\"attributes\":{},\"id\":\"00ffc5f0-774e-4db2-b8d9-7acbb175dbdc\",\"type\":\"BasicTickFormatter\"},{\"attributes\":{\"formatter\":{\"id\":\"47088b80-6db9-4b1e-8bba-b78d104209b5\",\"type\":\"BasicTickFormatter\"},\"plot\":{\"id\":\"999f3026-ebfd-46fe-93d3-dd0176d8b4d6\",\"subtype\":\"Figure\",\"type\":\"Plot\"},\"ticker\":{\"id\":\"acdfb12d-ee4c-4eaa-94aa-b5751680f7fb\",\"type\":\"BasicTicker\"}},\"id\":\"5bd408c6-411c-49d0-9a23-6287831847aa\",\"type\":\"LinearAxis\"},{\"attributes\":{},\"id\":\"35d34f96-19d9-4af4-9ebf-18b1fd90fb70\",\"type\":\"BasicTicker\"},{\"attributes\":{\"plot\":null,\"text\":\"predictions\"},\"id\":\"e655d9d8-1f91-4ae0-98ad-395e94b519a1\",\"type\":\"Title\"},{\"attributes\":{\"fill_color\":{\"value\":\"red\"},\"line_color\":{\"value\":\"red\"},\"x\":{\"field\":\"x\"},\"y\":{\"field\":\"y\"}},\"id\":\"8eaec343-4880-4825-a0c7-227c320ae11d\",\"type\":\"SquareCross\"},{\"attributes\":{\"plot\":{\"id\":\"999f3026-ebfd-46fe-93d3-dd0176d8b4d6\",\"subtype\":\"Figure\",\"type\":\"Plot\"},\"ticker\":{\"id\":\"35d34f96-19d9-4af4-9ebf-18b1fd90fb70\",\"type\":\"BasicTicker\"}},\"id\":\"d42f2c88-0553-45b8-a718-95a4d5b92a6d\",\"type\":\"Grid\"}],\"root_ids\":[\"999f3026-ebfd-46fe-93d3-dd0176d8b4d6\"]},\"title\":\"Bokeh Application\",\"version\":\"0.12.0\"}};\n",
       "            var render_items = [{\"docid\":\"566546f1-815f-40ef-a073-b4672e2a2ddd\",\"elementid\":\"a2e9e50e-4a22-40b4-a9cd-24ba590c9176\",\"modelid\":\"999f3026-ebfd-46fe-93d3-dd0176d8b4d6\",\"notebook_comms_target\":\"ec549b09-1e3c-431d-a61d-b02f83634688\"}];\n",
       "            \n",
       "            Bokeh.embed.embed_items(docs_json, render_items);\n",
       "        });\n",
       "      },\n",
       "      function(Bokeh) {\n",
       "      }\n",
       "    ];\n",
       "  \n",
       "    function run_inline_js() {\n",
       "      for (var i = 0; i < inline_js.length; i++) {\n",
       "        inline_js[i](window.Bokeh);\n",
       "      }\n",
       "    }\n",
       "  \n",
       "    if (window._bokeh_is_loading === 0) {\n",
       "      console.log(\"Bokeh: BokehJS loaded, going straight to plotting\");\n",
       "      run_inline_js();\n",
       "    } else {\n",
       "      load_libs(js_urls, function() {\n",
       "        console.log(\"Bokeh: BokehJS plotting callback run at\", now());\n",
       "        run_inline_js();\n",
       "      });\n",
       "    }\n",
       "  }(this));\n",
       "</script>"
      ]
     },
     "metadata": {},
     "output_type": "display_data"
    },
    {
     "data": {
      "text/html": [
       "<p><code>&lt;Bokeh Notebook handle for <strong>In[38]</strong>&gt;</code></p>"
      ],
      "text/plain": [
       "<bokeh.io._CommsHandle at 0x110179c90>"
      ]
     },
     "execution_count": 38,
     "metadata": {},
     "output_type": "execute_result"
    }
   ],
   "source": [
    "from bokeh.plotting import figure, show,  output_notebook\n",
    "output_notebook() \n",
    "prediction0 = pd_data[pd_data[\"prediction\"]==0]\n",
    "prediction1 = pd_data[pd_data[\"prediction\"]==1]\n",
    "prediction2 = pd_data[pd_data[\"prediction\"]==2]\n",
    "colors      = ['red', 'blue', 'green']\n",
    "marker      = [\"square_cross\", \"diamond\", \"inverted_triangle\"]\n",
    "p = figure(title=\"predictions\")\n",
    "for i, data in enumerate([prediction0, prediction1, prediction2]):\n",
    "    p.scatter(data[\"x\"], data[\"y\"], marker=marker[i], color=colors[i])\n",
    "show(p)"
   ]
  },
  {
   "cell_type": "markdown",
   "metadata": {},
   "source": [
    "# 9.4) plotly"
   ]
  },
  {
   "cell_type": "code",
   "execution_count": 39,
   "metadata": {
    "collapsed": true
   },
   "outputs": [],
   "source": [
    "import plotly.plotly     as py\n",
    "import plotly.graph_objs as go"
   ]
  },
  {
   "cell_type": "code",
   "execution_count": 40,
   "metadata": {
    "collapsed": true
   },
   "outputs": [],
   "source": [
    "import plotly\n",
    "username = 'romainjouin'\n",
    "api_key  = 'xi4kmky59i'\n",
    "plotly.tools.set_credentials_file(username, api_key)\n",
    "py.sign_in(username, api_key)"
   ]
  },
  {
   "cell_type": "code",
   "execution_count": 41,
   "metadata": {
    "collapsed": false
   },
   "outputs": [
    {
     "data": {
      "text/html": [
       "<iframe id=\"igraph\" scrolling=\"no\" style=\"border:none;\" seamless=\"seamless\" src=\"https://plot.ly/~romainjouin/2.embed\" height=\"525px\" width=\"100%\"></iframe>"
      ],
      "text/plain": [
       "<plotly.tools.PlotlyDisplay object>"
      ]
     },
     "execution_count": 41,
     "metadata": {},
     "output_type": "execute_result"
    }
   ],
   "source": [
    "trace = go.Scatter(\n",
    "    x         = pd_data['x'],\n",
    "    y         = pd_data['y'],\n",
    "    mode      = 'markers',\n",
    "    marker = dict(color =  pd_data['prediction'])\n",
    ")\n",
    "py.iplot([trace], filename=\"output.html\")\n"
   ]
  },
  {
   "cell_type": "markdown",
   "metadata": {},
   "source": [
    "# 10) La classification est-elle bonne ? "
   ]
  },
  {
   "cell_type": "code",
   "execution_count": 46,
   "metadata": {
    "collapsed": false
   },
   "outputs": [
    {
     "name": "stdout",
     "output_type": "stream",
     "text": [
      "cluster 0 : 38 éléments\n",
      "cluster 1 : 50 éléments\n",
      "cluster 2 : 62 éléments\n"
     ]
    }
   ],
   "source": [
    "clusters = []\n",
    "for k in range( nb_k_clusters):\n",
    "    cluster = predicted_df.filter(predicted_df.prediction==k)\n",
    "    clusters.append(cluster)\n",
    "    print u\"cluster {0} : {1} éléments\".format(k,cluster.count())\n"
   ]
  },
  {
   "cell_type": "code",
   "execution_count": 50,
   "metadata": {
    "collapsed": false
   },
   "outputs": [
    {
     "name": "stdout",
     "output_type": "stream",
     "text": [
      "nb d'éléments par cluster à l'origine :\n"
     ]
    },
    {
     "data": {
      "text/plain": [
       "2    50\n",
       "1    50\n",
       "0    50\n",
       "dtype: int64"
      ]
     },
     "execution_count": 50,
     "metadata": {},
     "output_type": "execute_result"
    }
   ],
   "source": [
    "print u\"nb d'éléments par cluster à l'origine :\"\n",
    "pd.Series(Y).value_counts()"
   ]
  },
  {
   "cell_type": "code",
   "execution_count": 123,
   "metadata": {
    "collapsed": false
   },
   "outputs": [],
   "source": [
    "predictions  = predicted_df.toPandas()\n",
    "Y_reel       = pd.DataFrame(Y, columns=['Y'])\n",
    "versus       = pd.concat([predictions,  Y_reel], axis=1)"
   ]
  },
  {
   "cell_type": "code",
   "execution_count": 130,
   "metadata": {
    "collapsed": false
   },
   "outputs": [
    {
     "name": "stdout",
     "output_type": "stream",
     "text": [
      "----------\n",
      "cluster  0\n",
      "nb de prédictions par valeur :\n",
      "1    50\n",
      "Name: prediction, dtype: int64\n",
      "nb_d_erreur intra-cluster : 0\n",
      "pct_erreur intra-cluster : 0.0\n",
      "----------\n",
      "cluster  1\n",
      "nb de prédictions par valeur :\n",
      "2    48\n",
      "0     2\n",
      "Name: prediction, dtype: int64\n",
      "nb_d_erreur intra-cluster : 2\n",
      "pct_erreur intra-cluster : 0.04\n",
      "----------\n",
      "cluster  2\n",
      "nb de prédictions par valeur :\n",
      "0    36\n",
      "2    14\n",
      "Name: prediction, dtype: int64\n",
      "nb_d_erreur intra-cluster : 14\n",
      "pct_erreur intra-cluster : 0.28\n",
      "==========\n",
      "Nb erreur totales  : 16\n",
      "Pct total d'erreur : 0.106666666667\n",
      "Nb de cluster erronnés : 2\n",
      "Cout de l'algorithme :  210\n"
     ]
    }
   ],
   "source": [
    "erreur_total = 0\n",
    "nb_erronnes  = 0\n",
    "couts        = {0:5, 1:10, 2:15}\n",
    "for vrai_cluster in versus.Y.unique():\n",
    "    vrai_fleurs   = versus[versus.Y == vrai_cluster]\n",
    "    oracle        = vrai_fleurs.prediction.value_counts()\n",
    "    nb_d_erreur   = oracle.min() if oracle.min()<50 else 0\n",
    "    pct_erreur    = nb_d_erreur / float(50)\n",
    "    erreur_total +=nb_d_erreur\n",
    "    nb_erronnes  += sum([nb_d_erreur>0])\n",
    "    cout          = nb_d_erreur * couts[vrai_cluster]\n",
    "    \n",
    "    print \"-\"*10\n",
    "    print \"cluster \", vrai_cluster\n",
    "    print \"nb de prédictions par valeur :\"\n",
    "    print \"%s\"%oracle\n",
    "    print \"nb_d_erreur intra-cluster : %s\"%nb_d_erreur\n",
    "    print \"pct_erreur intra-cluster : %s\"%pct_erreur\n",
    "print \"=\"*10\n",
    "print \"Nb erreur totales  :\", erreur_total\n",
    "print \"Pct total d'erreur :\", erreur_total/float(150)\n",
    "print \"Nb de cluster erronnés :\", nb_erronnes\n",
    "print \"Cout de l'algorithme : \", cout\n"
   ]
  },
  {
   "cell_type": "code",
   "execution_count": null,
   "metadata": {
    "collapsed": true
   },
   "outputs": [],
   "source": []
  }
 ],
 "metadata": {
  "kernelspec": {
   "display_name": "Python 2",
   "language": "python",
   "name": "python2"
  },
  "language_info": {
   "codemirror_mode": {
    "name": "ipython",
    "version": 2
   },
   "file_extension": ".py",
   "mimetype": "text/x-python",
   "name": "python",
   "nbconvert_exporter": "python",
   "pygments_lexer": "ipython2",
   "version": "2.7.11"
  }
 },
 "nbformat": 4,
 "nbformat_minor": 0
}
